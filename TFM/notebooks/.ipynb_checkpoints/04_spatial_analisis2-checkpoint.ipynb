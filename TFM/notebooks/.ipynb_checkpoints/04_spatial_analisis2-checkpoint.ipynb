{
 "cells": [
  {
   "cell_type": "code",
   "execution_count": null,
   "metadata": {},
   "outputs": [],
   "source": [
    "<a name=\"top\"> <h1>02- Spatial Analisis Part 2</h1> <a>\n",
    "\n",
    "<p>Geospatial Analysis of the 2023 Earthquakes in Turkey<br />\n",
    "<strong>Master Thesis</strong><br />\n",
    "<strong>Master of Data Science</strong></p>\n",
    "\n",
    "\n",
    "<p style=\"text-align:right\">Gozde Yazganoglu (<em>gozde.yazganoglu@cunef.edu</em>)</p>"
   ]
  }
 ],
 "metadata": {
  "language_info": {
   "name": "python"
  },
  "orig_nbformat": 4
 },
 "nbformat": 4,
 "nbformat_minor": 2
}
