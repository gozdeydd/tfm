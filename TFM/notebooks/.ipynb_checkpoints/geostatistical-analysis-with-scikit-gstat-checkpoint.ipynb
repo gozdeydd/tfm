{
 "cells": [
  {
   "cell_type": "markdown",
   "id": "6f422151",
   "metadata": {
    "papermill": {
     "duration": 0.019609,
     "end_time": "2021-10-15T13:04:31.504834",
     "exception": false,
     "start_time": "2021-10-15T13:04:31.485225",
     "status": "completed"
    },
    "tags": []
   },
   "source": [
    "<a class=\"anchor\" id=\"0\"></a>\n",
    "# Example of Geostatistical analysis with SciKit-GStat"
   ]
  },
  {
   "cell_type": "markdown",
   "id": "e1be55d0",
   "metadata": {
    "papermill": {
     "duration": 0.016277,
     "end_time": "2021-10-15T13:04:31.539498",
     "exception": false,
     "start_time": "2021-10-15T13:04:31.523221",
     "status": "completed"
    },
    "tags": []
   },
   "source": [
    "### Geostatistical analysis with SciKit-GStat from the [Tutorial](https://scikit-gstat.readthedocs.io/en/latest/tutorials/tutorials.html) from \n",
    "\n",
    "**Mirko Mälicke, Egil Möller, Helge David Schneider, & Sebastian Müller. (2021, May 28).**\n",
    "\n",
    "    mmaelicke/scikit-gstat: A scipy flavoured geostatistical variogram analysis toolbox (Version v0.6.0). Zenodo. \n",
    "\n",
    "http://doi.org/10.5281/zenodo.4835779"
   ]
  },
  {
   "cell_type": "markdown",
   "id": "599b19a5",
   "metadata": {
    "papermill": {
     "duration": 0.015643,
     "end_time": "2021-10-15T13:04:31.571165",
     "exception": false,
     "start_time": "2021-10-15T13:04:31.555522",
     "status": "completed"
    },
    "tags": []
   },
   "source": [
    "<a class=\"anchor\" id=\"0.1\"></a>\n",
    "\n",
    "## Table of Contents\n",
    "\n",
    "1. [About SciKit-GStat and Geostatistical analysis](#1)\n",
    "1. [Import libraries](#2)\n",
    "1. [Creation dataset](#3)\n",
    "1. [Variogram building](#4)\n",
    "1. [Visualization of the result of geostatistical data interpolation](#5)"
   ]
  },
  {
   "cell_type": "markdown",
   "id": "5924e0ee",
   "metadata": {
    "papermill": {
     "duration": 0.015417,
     "end_time": "2021-10-15T13:04:31.602430",
     "exception": false,
     "start_time": "2021-10-15T13:04:31.587013",
     "status": "completed"
    },
    "tags": []
   },
   "source": [
    "## 1. About SciKit-GStat and Geostatistical analysis <a class=\"anchor\" id=\"1\"></a>\n",
    "\n",
    "[Back to Table of Contents](#0.1)"
   ]
  },
  {
   "cell_type": "markdown",
   "id": "3730d437",
   "metadata": {
    "papermill": {
     "duration": 0.01532,
     "end_time": "2021-10-15T13:04:31.633581",
     "exception": false,
     "start_time": "2021-10-15T13:04:31.618261",
     "status": "completed"
    },
    "tags": []
   },
   "source": [
    "The basic idea of kriging is to predict the value of a function at a given point by computing a weighted average of the known values of the function in the neighborhood of the point ([Wikipedia](https://en.wikipedia.org/wiki/Kriging)). \n",
    "\n",
    "The main application for scikit-gstat is variogram analysis and Kriging (Geostatistical analysis). The [Tutorial](https://scikit-gstat.readthedocs.io/en/latest/tutorials/01_getting_started.html) will guide you through the most basic functionality of scikit-gstat. There are other tutorials that will explain specific methods or attributes in scikit-gstat in more detail."
   ]
  },
  {
   "cell_type": "markdown",
   "id": "c1cf3c69",
   "metadata": {
    "papermill": {
     "duration": 0.01538,
     "end_time": "2021-10-15T13:04:31.664707",
     "exception": false,
     "start_time": "2021-10-15T13:04:31.649327",
     "status": "completed"
    },
    "tags": []
   },
   "source": [
    "## 2. Import libraries <a class=\"anchor\" id=\"2\"></a>\n",
    "\n",
    "[Back to Table of Contents](#0.1)"
   ]
  },
  {
   "cell_type": "code",
   "execution_count": 1,
   "id": "7cc205fc",
   "metadata": {
    "execution": {
     "iopub.execute_input": "2021-10-15T13:04:46.438609Z",
     "iopub.status.busy": "2021-10-15T13:04:46.437626Z",
     "iopub.status.idle": "2021-10-15T13:04:48.813329Z",
     "shell.execute_reply": "2021-10-15T13:04:48.812708Z",
     "shell.execute_reply.started": "2021-10-15T12:51:17.116159Z"
    },
    "papermill": {
     "duration": 2.409343,
     "end_time": "2021-10-15T13:04:48.813496",
     "exception": false,
     "start_time": "2021-10-15T13:04:46.404153",
     "status": "completed"
    },
    "tags": []
   },
   "outputs": [],
   "source": [
    "import numpy as np\n",
    "import pandas as pd\n",
    "\n",
    "# scikit-gstat = skgstat\n",
    "import skgstat as skg\n",
    "from skgstat import Variogram, OrdinaryKriging\n",
    "\n",
    "# visualization\n",
    "import matplotlib.pyplot as plt\n",
    "plt.style.use('ggplot')"
   ]
  },
  {
   "cell_type": "markdown",
   "id": "bb9df500",
   "metadata": {
    "papermill": {
     "duration": 0.025381,
     "end_time": "2021-10-15T13:04:48.864796",
     "exception": false,
     "start_time": "2021-10-15T13:04:48.839415",
     "status": "completed"
    },
    "tags": []
   },
   "source": [
    "## 3. Creation dataset <a class=\"anchor\" id=\"3\"></a>\n",
    "\n",
    "[Back to Table of Contents](#0.1)"
   ]
  },
  {
   "cell_type": "code",
   "execution_count": 2,
   "id": "b3a006e6",
   "metadata": {
    "execution": {
     "iopub.execute_input": "2021-10-15T13:04:48.935330Z",
     "iopub.status.busy": "2021-10-15T13:04:48.934237Z",
     "iopub.status.idle": "2021-10-15T13:04:48.949014Z",
     "shell.execute_reply": "2021-10-15T13:04:48.948341Z",
     "shell.execute_reply.started": "2021-10-15T12:51:17.123778Z"
    },
    "papermill": {
     "duration": 0.058551,
     "end_time": "2021-10-15T13:04:48.949158",
     "exception": false,
     "start_time": "2021-10-15T13:04:48.890607",
     "status": "completed"
    },
    "tags": []
   },
   "outputs": [],
   "source": [
    "df = pd.read_pickle('../data/manipulated/geo_city.pkl')\n"
   ]
  },
  {
   "cell_type": "code",
   "execution_count": 3,
   "id": "2dd011e4",
   "metadata": {},
   "outputs": [
    {
     "data": {
      "text/plain": [
       "Index(['obj_type', 'name', 'info', 'damage_gra', 'det_method', 'notation',\n",
       "       'or_src_id', 'dmg_src_id', 'cd_value', 'real', 'geometry', 'province',\n",
       "       'city', 'population', 'income', 'total_sales', 'second_sales',\n",
       "       'water_access', 'elec_cons', 'building_perm', 'land_permited',\n",
       "       'labour_fource', 'unemployment', 'agricultural', 'life_time',\n",
       "       'hb_per100000', 'fertility', 'hh_size', 'point'],\n",
       "      dtype='object')"
      ]
     },
     "execution_count": 3,
     "metadata": {},
     "output_type": "execute_result"
    }
   ],
   "source": [
    "mapping = {\n",
    "    \"Damaged\": 3,\n",
    "    \"Destroyed\": 4,\n",
    "    \"No visible damage\": 1,\n",
    "    \"Possibly damaged\": 2\n",
    "}\n",
    "\n",
    "df['damage_gra'] = df['damage_gra'].replace(mapping)\n",
    "\n",
    "df.columns"
   ]
  },
  {
   "cell_type": "code",
   "execution_count": null,
   "id": "bae72c35",
   "metadata": {},
   "outputs": [],
   "source": [
    "df"
   ]
  },
  {
   "cell_type": "code",
   "execution_count": 4,
   "id": "ac1ca620",
   "metadata": {
    "execution": {
     "iopub.execute_input": "2021-10-15T13:04:49.017160Z",
     "iopub.status.busy": "2021-10-15T13:04:49.016477Z",
     "iopub.status.idle": "2021-10-15T13:04:49.276979Z",
     "shell.execute_reply": "2021-10-15T13:04:49.276268Z",
     "shell.execute_reply.started": "2021-10-15T12:51:17.147750Z"
    },
    "papermill": {
     "duration": 0.301437,
     "end_time": "2021-10-15T13:04:49.277125",
     "exception": false,
     "start_time": "2021-10-15T13:04:48.975688",
     "status": "completed"
    },
    "tags": []
   },
   "outputs": [
    {
     "ename": "AttributeError",
     "evalue": "'GeoDataFrame' object has no attribute 'latitude'",
     "output_type": "error",
     "traceback": [
      "\u001b[0;31m---------------------------------------------------------------------------\u001b[0m",
      "\u001b[0;31mAttributeError\u001b[0m                            Traceback (most recent call last)",
      "\u001b[0;32m/tmp/ipykernel_78851/3623825392.py\u001b[0m in \u001b[0;36m<cell line: 3>\u001b[0;34m()\u001b[0m\n\u001b[1;32m      1\u001b[0m \u001b[0;31m# Dataset visualization\u001b[0m\u001b[0;34m\u001b[0m\u001b[0;34m\u001b[0m\u001b[0m\n\u001b[1;32m      2\u001b[0m \u001b[0mfig\u001b[0m \u001b[0;34m=\u001b[0m \u001b[0mplt\u001b[0m\u001b[0;34m.\u001b[0m\u001b[0mfigure\u001b[0m\u001b[0;34m(\u001b[0m\u001b[0mfigsize\u001b[0m\u001b[0;34m=\u001b[0m\u001b[0;34m(\u001b[0m\u001b[0;36m8\u001b[0m\u001b[0;34m,\u001b[0m \u001b[0;36m8\u001b[0m\u001b[0;34m)\u001b[0m\u001b[0;34m)\u001b[0m\u001b[0;34m\u001b[0m\u001b[0;34m\u001b[0m\u001b[0m\n\u001b[0;32m----> 3\u001b[0;31m \u001b[0mplt\u001b[0m\u001b[0;34m.\u001b[0m\u001b[0mscatter\u001b[0m\u001b[0;34m(\u001b[0m\u001b[0mdf\u001b[0m\u001b[0;34m.\u001b[0m\u001b[0mlatitude\u001b[0m\u001b[0;34m,\u001b[0m \u001b[0mdf\u001b[0m\u001b[0;34m.\u001b[0m\u001b[0mlongitude\u001b[0m\u001b[0;34m,\u001b[0m \u001b[0;36m50\u001b[0m\u001b[0;34m,\u001b[0m \u001b[0mc\u001b[0m\u001b[0;34m=\u001b[0m\u001b[0mdf\u001b[0m\u001b[0;34m.\u001b[0m\u001b[0mdamage_gra\u001b[0m\u001b[0;34m,\u001b[0m \u001b[0mcmap\u001b[0m\u001b[0;34m=\u001b[0m\u001b[0;34m'plasma'\u001b[0m\u001b[0;34m)\u001b[0m\u001b[0;34m\u001b[0m\u001b[0;34m\u001b[0m\u001b[0m\n\u001b[0m",
      "\u001b[0;32m~/anaconda3/envs/tfm/lib/python3.9/site-packages/pandas/core/generic.py\u001b[0m in \u001b[0;36m__getattr__\u001b[0;34m(self, name)\u001b[0m\n\u001b[1;32m   5900\u001b[0m         ):\n\u001b[1;32m   5901\u001b[0m             \u001b[0;32mreturn\u001b[0m \u001b[0mself\u001b[0m\u001b[0;34m[\u001b[0m\u001b[0mname\u001b[0m\u001b[0;34m]\u001b[0m\u001b[0;34m\u001b[0m\u001b[0;34m\u001b[0m\u001b[0m\n\u001b[0;32m-> 5902\u001b[0;31m         \u001b[0;32mreturn\u001b[0m \u001b[0mobject\u001b[0m\u001b[0;34m.\u001b[0m\u001b[0m__getattribute__\u001b[0m\u001b[0;34m(\u001b[0m\u001b[0mself\u001b[0m\u001b[0;34m,\u001b[0m \u001b[0mname\u001b[0m\u001b[0;34m)\u001b[0m\u001b[0;34m\u001b[0m\u001b[0;34m\u001b[0m\u001b[0m\n\u001b[0m\u001b[1;32m   5903\u001b[0m \u001b[0;34m\u001b[0m\u001b[0m\n\u001b[1;32m   5904\u001b[0m     \u001b[0;32mdef\u001b[0m \u001b[0m__setattr__\u001b[0m\u001b[0;34m(\u001b[0m\u001b[0mself\u001b[0m\u001b[0;34m,\u001b[0m \u001b[0mname\u001b[0m\u001b[0;34m:\u001b[0m \u001b[0mstr\u001b[0m\u001b[0;34m,\u001b[0m \u001b[0mvalue\u001b[0m\u001b[0;34m)\u001b[0m \u001b[0;34m->\u001b[0m \u001b[0;32mNone\u001b[0m\u001b[0;34m:\u001b[0m\u001b[0;34m\u001b[0m\u001b[0;34m\u001b[0m\u001b[0m\n",
      "\u001b[0;31mAttributeError\u001b[0m: 'GeoDataFrame' object has no attribute 'latitude'"
     ]
    },
    {
     "data": {
      "text/plain": [
       "<Figure size 800x800 with 0 Axes>"
      ]
     },
     "metadata": {},
     "output_type": "display_data"
    }
   ],
   "source": [
    "# Dataset visualization \n",
    "fig = plt.figure(figsize=(8, 8))\n",
    "plt.scatter(df.latitude, df.longitude, 50, c=df.damage_gra, cmap='plasma')"
   ]
  },
  {
   "cell_type": "markdown",
   "id": "dc07b754",
   "metadata": {
    "papermill": {
     "duration": 0.027436,
     "end_time": "2021-10-15T13:04:49.333662",
     "exception": false,
     "start_time": "2021-10-15T13:04:49.306226",
     "status": "completed"
    },
    "tags": []
   },
   "source": [
    "## 4. Variogram building <a class=\"anchor\" id=\"4\"></a>\n",
    "\n",
    "[Back to Table of Contents](#0.1)"
   ]
  },
  {
   "cell_type": "code",
   "execution_count": 6,
   "id": "308d4d6f",
   "metadata": {
    "execution": {
     "iopub.execute_input": "2021-10-15T13:04:49.402025Z",
     "iopub.status.busy": "2021-10-15T13:04:49.400886Z",
     "iopub.status.idle": "2021-10-15T13:04:50.430570Z",
     "shell.execute_reply": "2021-10-15T13:04:50.431121Z",
     "shell.execute_reply.started": "2021-10-15T12:51:17.377425Z"
    },
    "papermill": {
     "duration": 1.069613,
     "end_time": "2021-10-15T13:04:50.431339",
     "exception": false,
     "start_time": "2021-10-15T13:04:49.361726",
     "status": "completed"
    },
    "tags": []
   },
   "outputs": [
    {
     "ename": "MemoryError",
     "evalue": "Unable to allocate 387. GiB for an array with shape (51978456676,) and data type float64",
     "output_type": "error",
     "traceback": [
      "\u001b[0;31m---------------------------------------------------------------------------\u001b[0m",
      "\u001b[0;31mMemoryError\u001b[0m                               Traceback (most recent call last)",
      "\u001b[0;32m<timed exec>\u001b[0m in \u001b[0;36m<module>\u001b[0;34m\u001b[0m\n",
      "\u001b[0;32m~/anaconda3/envs/tfm/lib/python3.9/site-packages/skgstat/Variogram.py\u001b[0m in \u001b[0;36m__init__\u001b[0;34m(self, coordinates, values, estimator, model, dist_func, bin_func, normalize, fit_method, fit_sigma, use_nugget, maxlag, samples, n_lags, verbose, **kwargs)\u001b[0m\n\u001b[1;32m    332\u001b[0m         \u001b[0;31m# run if there is no fit\u001b[0m\u001b[0;34m\u001b[0m\u001b[0;34m\u001b[0m\u001b[0m\n\u001b[1;32m    333\u001b[0m         \u001b[0;32mif\u001b[0m \u001b[0mfit_method\u001b[0m \u001b[0;32mis\u001b[0m \u001b[0;32mnot\u001b[0m \u001b[0;32mNone\u001b[0m\u001b[0;34m:\u001b[0m\u001b[0;34m\u001b[0m\u001b[0;34m\u001b[0m\u001b[0m\n\u001b[0;32m--> 334\u001b[0;31m             \u001b[0mself\u001b[0m\u001b[0;34m.\u001b[0m\u001b[0mpreprocessing\u001b[0m\u001b[0;34m(\u001b[0m\u001b[0mforce\u001b[0m\u001b[0;34m=\u001b[0m\u001b[0;32mTrue\u001b[0m\u001b[0;34m)\u001b[0m\u001b[0;34m\u001b[0m\u001b[0;34m\u001b[0m\u001b[0m\n\u001b[0m\u001b[1;32m    335\u001b[0m \u001b[0;34m\u001b[0m\u001b[0m\n\u001b[1;32m    336\u001b[0m         \u001b[0;31m# model can be a function or a string\u001b[0m\u001b[0;34m\u001b[0m\u001b[0;34m\u001b[0m\u001b[0m\n",
      "\u001b[0;32m~/anaconda3/envs/tfm/lib/python3.9/site-packages/skgstat/Variogram.py\u001b[0m in \u001b[0;36mpreprocessing\u001b[0;34m(self, force)\u001b[0m\n\u001b[1;32m   1452\u001b[0m         \"\"\"\n\u001b[1;32m   1453\u001b[0m         \u001b[0;31m# call the _calc functions\u001b[0m\u001b[0;34m\u001b[0m\u001b[0;34m\u001b[0m\u001b[0m\n\u001b[0;32m-> 1454\u001b[0;31m         \u001b[0mself\u001b[0m\u001b[0;34m.\u001b[0m\u001b[0m_calc_diff\u001b[0m\u001b[0;34m(\u001b[0m\u001b[0mforce\u001b[0m\u001b[0;34m=\u001b[0m\u001b[0mforce\u001b[0m\u001b[0;34m)\u001b[0m\u001b[0;34m\u001b[0m\u001b[0;34m\u001b[0m\u001b[0m\n\u001b[0m\u001b[1;32m   1455\u001b[0m         \u001b[0mself\u001b[0m\u001b[0;34m.\u001b[0m\u001b[0m_calc_groups\u001b[0m\u001b[0;34m(\u001b[0m\u001b[0mforce\u001b[0m\u001b[0;34m=\u001b[0m\u001b[0mforce\u001b[0m\u001b[0;34m)\u001b[0m\u001b[0;34m\u001b[0m\u001b[0;34m\u001b[0m\u001b[0m\n\u001b[1;32m   1456\u001b[0m \u001b[0;34m\u001b[0m\u001b[0m\n",
      "\u001b[0;32m~/anaconda3/envs/tfm/lib/python3.9/site-packages/skgstat/Variogram.py\u001b[0m in \u001b[0;36m_calc_diff\u001b[0;34m(self, force)\u001b[0m\n\u001b[1;32m   1797\u001b[0m \u001b[0;34m\u001b[0m\u001b[0m\n\u001b[1;32m   1798\u001b[0m         \u001b[0;31m# format into column-stack for faster calculation\u001b[0m\u001b[0;34m\u001b[0m\u001b[0;34m\u001b[0m\u001b[0m\n\u001b[0;32m-> 1799\u001b[0;31m         \u001b[0mdiffs\u001b[0m \u001b[0;34m=\u001b[0m \u001b[0mself\u001b[0m\u001b[0;34m.\u001b[0m\u001b[0m_format_values_stack\u001b[0m\u001b[0;34m(\u001b[0m\u001b[0mself\u001b[0m\u001b[0;34m.\u001b[0m\u001b[0mvalues\u001b[0m\u001b[0;34m)\u001b[0m\u001b[0;34m\u001b[0m\u001b[0;34m\u001b[0m\u001b[0m\n\u001b[0m\u001b[1;32m   1800\u001b[0m \u001b[0;34m\u001b[0m\u001b[0m\n\u001b[1;32m   1801\u001b[0m         \u001b[0;31m# check if this is a cross-variogram\u001b[0m\u001b[0;34m\u001b[0m\u001b[0;34m\u001b[0m\u001b[0m\n",
      "\u001b[0;32m~/anaconda3/envs/tfm/lib/python3.9/site-packages/skgstat/Variogram.py\u001b[0m in \u001b[0;36m_format_values_stack\u001b[0;34m(self, values)\u001b[0m\n\u001b[1;32m   1743\u001b[0m         \"\"\"\n\u001b[1;32m   1744\u001b[0m         \u001b[0;31m# handle sparse matrix\u001b[0m\u001b[0;34m\u001b[0m\u001b[0;34m\u001b[0m\u001b[0m\n\u001b[0;32m-> 1745\u001b[0;31m         \u001b[0;32mif\u001b[0m \u001b[0misinstance\u001b[0m\u001b[0;34m(\u001b[0m\u001b[0mself\u001b[0m\u001b[0;34m.\u001b[0m\u001b[0mdistance_matrix\u001b[0m\u001b[0;34m,\u001b[0m \u001b[0msparse\u001b[0m\u001b[0;34m.\u001b[0m\u001b[0mspmatrix\u001b[0m\u001b[0;34m)\u001b[0m\u001b[0;34m:\u001b[0m\u001b[0;34m\u001b[0m\u001b[0;34m\u001b[0m\u001b[0m\n\u001b[0m\u001b[1;32m   1746\u001b[0m             \u001b[0;31m# get triangular distance matrices\u001b[0m\u001b[0;34m\u001b[0m\u001b[0;34m\u001b[0m\u001b[0m\n\u001b[1;32m   1747\u001b[0m             \u001b[0mc\u001b[0m \u001b[0;34m=\u001b[0m \u001b[0mr\u001b[0m \u001b[0;34m=\u001b[0m \u001b[0mself\u001b[0m\u001b[0;34m.\u001b[0m\u001b[0mtriangular_distance_matrix\u001b[0m\u001b[0;34m\u001b[0m\u001b[0;34m\u001b[0m\u001b[0m\n",
      "\u001b[0;32m~/anaconda3/envs/tfm/lib/python3.9/site-packages/skgstat/Variogram.py\u001b[0m in \u001b[0;36mdistance_matrix\u001b[0;34m(self)\u001b[0m\n\u001b[1;32m   1124\u001b[0m     \u001b[0;34m@\u001b[0m\u001b[0mproperty\u001b[0m\u001b[0;34m\u001b[0m\u001b[0;34m\u001b[0m\u001b[0m\n\u001b[1;32m   1125\u001b[0m     \u001b[0;32mdef\u001b[0m \u001b[0mdistance_matrix\u001b[0m\u001b[0;34m(\u001b[0m\u001b[0mself\u001b[0m\u001b[0;34m)\u001b[0m\u001b[0;34m:\u001b[0m\u001b[0;34m\u001b[0m\u001b[0;34m\u001b[0m\u001b[0m\n\u001b[0;32m-> 1126\u001b[0;31m         \u001b[0;32mreturn\u001b[0m \u001b[0mself\u001b[0m\u001b[0;34m.\u001b[0m\u001b[0m_X\u001b[0m\u001b[0;34m.\u001b[0m\u001b[0mdists\u001b[0m\u001b[0;34m\u001b[0m\u001b[0;34m\u001b[0m\u001b[0m\n\u001b[0m\u001b[1;32m   1127\u001b[0m \u001b[0;34m\u001b[0m\u001b[0m\n\u001b[1;32m   1128\u001b[0m     \u001b[0;34m@\u001b[0m\u001b[0mproperty\u001b[0m\u001b[0;34m\u001b[0m\u001b[0;34m\u001b[0m\u001b[0m\n",
      "\u001b[0;32m~/anaconda3/envs/tfm/lib/python3.9/site-packages/skgstat/MetricSpace.py\u001b[0m in \u001b[0;36mdists\u001b[0;34m(self)\u001b[0m\n\u001b[1;32m    152\u001b[0m             \u001b[0;32melse\u001b[0m\u001b[0;34m:\u001b[0m\u001b[0;34m\u001b[0m\u001b[0;34m\u001b[0m\u001b[0m\n\u001b[1;32m    153\u001b[0m                 self._dists = squareform(\n\u001b[0;32m--> 154\u001b[0;31m                     \u001b[0mpdist\u001b[0m\u001b[0;34m(\u001b[0m\u001b[0mself\u001b[0m\u001b[0;34m.\u001b[0m\u001b[0mcoords\u001b[0m\u001b[0;34m,\u001b[0m \u001b[0mmetric\u001b[0m\u001b[0;34m=\u001b[0m\u001b[0mself\u001b[0m\u001b[0;34m.\u001b[0m\u001b[0mdist_metric\u001b[0m\u001b[0;34m)\u001b[0m\u001b[0;34m\u001b[0m\u001b[0;34m\u001b[0m\u001b[0m\n\u001b[0m\u001b[1;32m    155\u001b[0m                 )\n\u001b[1;32m    156\u001b[0m \u001b[0;34m\u001b[0m\u001b[0m\n",
      "\u001b[0;32m~/anaconda3/envs/tfm/lib/python3.9/site-packages/scipy/spatial/distance.py\u001b[0m in \u001b[0;36mpdist\u001b[0;34m(X, metric, out, **kwargs)\u001b[0m\n\u001b[1;32m   2231\u001b[0m         \u001b[0;32mif\u001b[0m \u001b[0mmetric_info\u001b[0m \u001b[0;32mis\u001b[0m \u001b[0;32mnot\u001b[0m \u001b[0;32mNone\u001b[0m\u001b[0;34m:\u001b[0m\u001b[0;34m\u001b[0m\u001b[0;34m\u001b[0m\u001b[0m\n\u001b[1;32m   2232\u001b[0m             \u001b[0mpdist_fn\u001b[0m \u001b[0;34m=\u001b[0m \u001b[0mmetric_info\u001b[0m\u001b[0;34m.\u001b[0m\u001b[0mpdist_func\u001b[0m\u001b[0;34m\u001b[0m\u001b[0;34m\u001b[0m\u001b[0m\n\u001b[0;32m-> 2233\u001b[0;31m             \u001b[0;32mreturn\u001b[0m \u001b[0mpdist_fn\u001b[0m\u001b[0;34m(\u001b[0m\u001b[0mX\u001b[0m\u001b[0;34m,\u001b[0m \u001b[0mout\u001b[0m\u001b[0;34m=\u001b[0m\u001b[0mout\u001b[0m\u001b[0;34m,\u001b[0m \u001b[0;34m**\u001b[0m\u001b[0mkwargs\u001b[0m\u001b[0;34m)\u001b[0m\u001b[0;34m\u001b[0m\u001b[0;34m\u001b[0m\u001b[0m\n\u001b[0m\u001b[1;32m   2234\u001b[0m         \u001b[0;32melif\u001b[0m \u001b[0mmstr\u001b[0m\u001b[0;34m.\u001b[0m\u001b[0mstartswith\u001b[0m\u001b[0;34m(\u001b[0m\u001b[0;34m\"test_\"\u001b[0m\u001b[0;34m)\u001b[0m\u001b[0;34m:\u001b[0m\u001b[0;34m\u001b[0m\u001b[0;34m\u001b[0m\u001b[0m\n\u001b[1;32m   2235\u001b[0m             \u001b[0mmetric_info\u001b[0m \u001b[0;34m=\u001b[0m \u001b[0m_TEST_METRICS\u001b[0m\u001b[0;34m.\u001b[0m\u001b[0mget\u001b[0m\u001b[0;34m(\u001b[0m\u001b[0mmstr\u001b[0m\u001b[0;34m,\u001b[0m \u001b[0;32mNone\u001b[0m\u001b[0;34m)\u001b[0m\u001b[0;34m\u001b[0m\u001b[0;34m\u001b[0m\u001b[0m\n",
      "\u001b[0;31mMemoryError\u001b[0m: Unable to allocate 387. GiB for an array with shape (51978456676,) and data type float64"
     ]
    }
   ],
   "source": [
    "%%time\n",
    "# Calculation variogram\n",
    "V = skg.Variogram(coordinates=df[['latitude', 'longitude']].values, values=df['damage_gra'].values)\n",
    "print(V)"
   ]
  },
  {
   "cell_type": "code",
   "execution_count": null,
   "id": "d5eb095d",
   "metadata": {
    "execution": {
     "iopub.execute_input": "2021-10-15T13:04:50.497293Z",
     "iopub.status.busy": "2021-10-15T13:04:50.496293Z",
     "iopub.status.idle": "2021-10-15T13:04:50.891045Z",
     "shell.execute_reply": "2021-10-15T13:04:50.891574Z",
     "shell.execute_reply.started": "2021-10-15T12:51:17.396261Z"
    },
    "papermill": {
     "duration": 0.4301,
     "end_time": "2021-10-15T13:04:50.891773",
     "exception": false,
     "start_time": "2021-10-15T13:04:50.461673",
     "status": "completed"
    },
    "tags": []
   },
   "outputs": [],
   "source": [
    "# Variogram visualization\n",
    "V.plot()\n",
    "plt.close"
   ]
  },
  {
   "cell_type": "code",
   "execution_count": null,
   "id": "82aed28a",
   "metadata": {
    "execution": {
     "iopub.execute_input": "2021-10-15T13:04:50.955900Z",
     "iopub.status.busy": "2021-10-15T13:04:50.955229Z",
     "iopub.status.idle": "2021-10-15T13:04:51.167192Z",
     "shell.execute_reply": "2021-10-15T13:04:51.167779Z",
     "shell.execute_reply.started": "2021-10-15T12:51:17.743328Z"
    },
    "papermill": {
     "duration": 0.245915,
     "end_time": "2021-10-15T13:04:51.168004",
     "exception": false,
     "start_time": "2021-10-15T13:04:50.922089",
     "status": "completed"
    },
    "tags": []
   },
   "outputs": [],
   "source": [
    "# Visualization of the variogram with others parameters\n",
    "V.n_lags = 10\n",
    "V.maxlag = 50\n",
    "V.bin_func = 'kmeans'\n",
    "V.plot()\n",
    "plt.close()"
   ]
  },
  {
   "cell_type": "code",
   "execution_count": null,
   "id": "1be5c0cf",
   "metadata": {
    "execution": {
     "iopub.execute_input": "2021-10-15T13:04:51.314065Z",
     "iopub.status.busy": "2021-10-15T13:04:51.313295Z",
     "iopub.status.idle": "2021-10-15T13:04:54.095947Z",
     "shell.execute_reply": "2021-10-15T13:04:54.095357Z",
     "shell.execute_reply.started": "2021-10-15T12:51:18.295332Z"
    },
    "papermill": {
     "duration": 2.851815,
     "end_time": "2021-10-15T13:04:54.096136",
     "exception": false,
     "start_time": "2021-10-15T13:04:51.244321",
     "status": "completed"
    },
    "tags": []
   },
   "outputs": [],
   "source": [
    "# Visualization of the variograms for different models\n",
    "fig, _a = plt.subplots(2,3, figsize=(18, 10), sharex=True, sharey=True)\n",
    "axes = _a.flatten()\n",
    "for i, model in enumerate(('spherical', 'exponential', 'gaussian', 'matern', 'stable', 'cubic')):\n",
    "    V.model = model\n",
    "    V.plot(axes=axes[i], hist=False, show=False)\n",
    "    axes[i].set_title('Model: %s; RMSE: %.2f' % (model, V.rmse))"
   ]
  },
  {
   "cell_type": "markdown",
   "id": "fd7339e3",
   "metadata": {
    "papermill": {
     "duration": 0.031826,
     "end_time": "2021-10-15T13:04:54.161107",
     "exception": false,
     "start_time": "2021-10-15T13:04:54.129281",
     "status": "completed"
    },
    "tags": []
   },
   "source": [
    "## 5. Visualization of the result of geostatistical data interpolation <a class=\"anchor\" id=\"5\"></a>\n",
    "\n",
    "[Back to Table of Contents](#0.1)"
   ]
  },
  {
   "cell_type": "code",
   "execution_count": null,
   "id": "9ff0e45b",
   "metadata": {
    "execution": {
     "iopub.execute_input": "2021-10-15T13:04:54.230924Z",
     "iopub.status.busy": "2021-10-15T13:04:54.229901Z",
     "iopub.status.idle": "2021-10-15T13:04:59.402431Z",
     "shell.execute_reply": "2021-10-15T13:04:59.402918Z",
     "shell.execute_reply.started": "2021-10-15T12:51:19.453590Z"
    },
    "papermill": {
     "duration": 5.209808,
     "end_time": "2021-10-15T13:04:59.403129",
     "exception": false,
     "start_time": "2021-10-15T13:04:54.193321",
     "status": "completed"
    },
    "tags": []
   },
   "outputs": [],
   "source": [
    "V.model = 'stable'\n",
    "ok = OrdinaryKriging(V, min_points=3, max_points=5, mode='estimate')\n",
    "xx, yy = np.mgrid[0:99:100j, 0:99:100j]\n",
    "field = ok.transform(xx.flatten(), yy.flatten()).reshape(xx.shape)\n",
    "s2 = ok.sigma.reshape(xx.shape)\n",
    "\n",
    "fig, axes = plt.subplots(1, 2, figsize=(16, 8))\n",
    "art = axes[0].matshow(field.T, origin='lower', cmap='plasma')\n",
    "axes[0].set_title('Interpolation')\n",
    "axes[0].plot(df.x, df.y, '+k')\n",
    "axes[0].set_xlim((0,100))\n",
    "axes[0].set_ylim((0,100))\n",
    "plt.colorbar(art, ax=axes[0])\n",
    "art = axes[1].matshow(s2.T, origin='lower', cmap='YlGn_r')\n",
    "axes[1].set_title('Kriging Error')\n",
    "plt.colorbar(art, ax=axes[1])\n",
    "axes[1].plot(df.x, df.y, '+w')\n",
    "axes[1].set_xlim((0,100))\n",
    "axes[1].set_ylim((0,100));"
   ]
  },
  {
   "cell_type": "markdown",
   "id": "0ea273e5",
   "metadata": {
    "papermill": {
     "duration": 0.038609,
     "end_time": "2021-10-15T13:04:59.480335",
     "exception": false,
     "start_time": "2021-10-15T13:04:59.441726",
     "status": "completed"
    },
    "tags": []
   },
   "source": [
    "To increase the efficiency of the analysis, it is necessary to set the values not randomly, but on the basis of a certain mathematic function, adding noise so that the method can find existing patterns."
   ]
  },
  {
   "cell_type": "code",
   "execution_count": null,
   "id": "c90ab555",
   "metadata": {
    "execution": {
     "iopub.execute_input": "2021-10-15T13:04:59.564892Z",
     "iopub.status.busy": "2021-10-15T13:04:59.564202Z",
     "iopub.status.idle": "2021-10-15T13:04:59.568157Z",
     "shell.execute_reply": "2021-10-15T13:04:59.567403Z",
     "shell.execute_reply.started": "2021-10-15T12:51:24.352988Z"
    },
    "papermill": {
     "duration": 0.049952,
     "end_time": "2021-10-15T13:04:59.568328",
     "exception": false,
     "start_time": "2021-10-15T13:04:59.518376",
     "status": "completed"
    },
    "tags": []
   },
   "outputs": [],
   "source": [
    "def interpolate(V, ax):\n",
    "    # Thanks to https://scikit-gstat.readthedocs.io/en/latest/tutorials/02_variogram_models.html\n",
    "    \n",
    "    xx, yy = np.mgrid[0:99:100j, 0:99:100j]\n",
    "    ok = OrdinaryKriging(V, min_points=5, max_points=15, mode='exact')\n",
    "    field = ok.transform(xx.flatten(), yy.flatten()).reshape(xx.shape)\n",
    "    art = ax.matshow(field, origin='lower', cmap='plasma')\n",
    "    ax.set_title('%s model' % V.model.__name__)\n",
    "    plt.colorbar(art, ax=ax)\n",
    "    return field"
   ]
  },
  {
   "cell_type": "code",
   "execution_count": null,
   "id": "fff8e7eb",
   "metadata": {
    "execution": {
     "iopub.execute_input": "2021-10-15T13:04:59.651551Z",
     "iopub.status.busy": "2021-10-15T13:04:59.650820Z",
     "iopub.status.idle": "2021-10-15T13:05:59.530293Z",
     "shell.execute_reply": "2021-10-15T13:05:59.530786Z",
     "shell.execute_reply.started": "2021-10-15T12:51:24.361427Z"
    },
    "papermill": {
     "duration": 59.92755,
     "end_time": "2021-10-15T13:05:59.531031",
     "exception": false,
     "start_time": "2021-10-15T13:04:59.603481",
     "status": "completed"
    },
    "tags": []
   },
   "outputs": [],
   "source": [
    "fields = []\n",
    "fig, _a = plt.subplots(2,3, figsize=(18, 12), sharex=True, sharey=True)\n",
    "axes = _a.flatten()\n",
    "for i, model in enumerate(('spherical', 'exponential', 'gaussian', 'matern', 'stable', 'cubic')):\n",
    "    V.model = model\n",
    "    fields.append(interpolate(V, axes[i]))"
   ]
  },
  {
   "cell_type": "markdown",
   "id": "a788528b",
   "metadata": {
    "execution": {
     "iopub.execute_input": "2021-10-15T12:25:04.249140Z",
     "iopub.status.busy": "2021-10-15T12:25:04.248387Z",
     "iopub.status.idle": "2021-10-15T12:25:04.254299Z",
     "shell.execute_reply": "2021-10-15T12:25:04.253367Z",
     "shell.execute_reply.started": "2021-10-15T12:25:04.249107Z"
    },
    "papermill": {
     "duration": 0.038384,
     "end_time": "2021-10-15T13:05:59.608268",
     "exception": false,
     "start_time": "2021-10-15T13:05:59.569884",
     "status": "completed"
    },
    "tags": []
   },
   "source": [
    "From the Kriging error map, you can see how the interpolation is very certain close to the observation points, but rather high in areas with only little coverage.\n",
    "\n",
    "Models \"matern\" and \"stable\" work best with a very different data."
   ]
  },
  {
   "cell_type": "markdown",
   "id": "37291c54",
   "metadata": {
    "papermill": {
     "duration": 0.038059,
     "end_time": "2021-10-15T13:05:59.685313",
     "exception": false,
     "start_time": "2021-10-15T13:05:59.647254",
     "status": "completed"
    },
    "tags": []
   },
   "source": [
    "I hope you find this notebook useful and enjoyable.\n",
    "\n",
    "Your comments and feedback are most welcome.\n",
    "\n",
    "[Go to Top](#0)"
   ]
  }
 ],
 "metadata": {
  "kernelspec": {
   "display_name": "tfm",
   "language": "python",
   "name": "tfm"
  },
  "language_info": {
   "codemirror_mode": {
    "name": "ipython",
    "version": 3
   },
   "file_extension": ".py",
   "mimetype": "text/x-python",
   "name": "python",
   "nbconvert_exporter": "python",
   "pygments_lexer": "ipython3",
   "version": "3.9.16"
  },
  "papermill": {
   "default_parameters": {},
   "duration": 99.324813,
   "end_time": "2021-10-15T13:06:00.738601",
   "environment_variables": {},
   "exception": null,
   "input_path": "__notebook__.ipynb",
   "output_path": "__notebook__.ipynb",
   "parameters": {},
   "start_time": "2021-10-15T13:04:21.413788",
   "version": "2.3.3"
  }
 },
 "nbformat": 4,
 "nbformat_minor": 5
}
