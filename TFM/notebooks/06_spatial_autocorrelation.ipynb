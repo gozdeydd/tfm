{
 "cells": [
  {
   "cell_type": "code",
   "execution_count": 84,
   "id": "tired-browse",
   "metadata": {
    "tags": [
     "remove-cell"
    ]
   },
   "outputs": [],
   "source": [
    "import warnings\n",
    "\n",
    "warnings.filterwarnings(\"ignore\")"
   ]
  },
  {
   "attachments": {},
   "cell_type": "markdown",
   "id": "advance-carry",
   "metadata": {},
   "source": [
    "# Global Spatial Autocorrelation"
   ]
  },
  {
   "attachments": {},
   "cell_type": "markdown",
   "id": "velvet-mapping",
   "metadata": {
    "jp-MarkdownHeadingCollapsed": true,
    "tags": []
   },
   "source": [
    "Spatial autocorrelation refers to the relationship between the values and locations of observations in a dataset. It is similar to the concept of correlation between variables, but instead focuses on the similarity of values between locations. Spatial autocorrelation can be positive, meaning that similar values tend to be located near each other, or negative, indicating that similar values tend to be farther apart. Positive spatial autocorrelation is common in social phenomena like income distribution, where wealthy areas are clustered together and poor areas are concentrated. Negative spatial autocorrelation is less common but can be observed in situations such as spatial competition or the distribution of different brands of supermarkets.\n",
    "\n",
    "Spatial autocorrelation can be examined at different scales. Global spatial autocorrelation considers the overall trend of value locations in a dataset, allowing for statements about clustering and the degree to which similar values are closer to each other than expected by chance. Local autocorrelation focuses on deviations from the global trend at more specific levels within the map.\n",
    "\n",
    "Exploratory Spatial Data Analysis (ESDA) is a set of tools used to investigate spatial autocorrelation. ESDA methods range from simple approaches like choropleth maps to more advanced statistical inference techniques that explicitly consider the geographical arrangement of the data. This chapter introduces the concept of global spatial autocorrelation and sets the stage for further exploration using ESDA methods."
   ]
  },
  {
   "cell_type": "code",
   "execution_count": 85,
   "id": "western-prototype",
   "metadata": {},
   "outputs": [],
   "source": [
    "# Graphics\n",
    "import matplotlib.pyplot as plt\n",
    "import seaborn\n",
    "from pysal.viz import splot\n",
    "from splot.esda import plot_moran\n",
    "import contextily\n",
    "\n",
    "# Analysis\n",
    "import geopandas\n",
    "import pandas\n",
    "from pysal.explore import esda\n",
    "from pysal.lib import weights\n",
    "from numpy.random import seed"
   ]
  },
  {
   "cell_type": "code",
   "execution_count": 86,
   "id": "dirty-variable",
   "metadata": {},
   "outputs": [
    {
     "name": "stdout",
     "output_type": "stream",
     "text": [
      "<class 'geopandas.geodataframe.GeoDataFrame'>\n",
      "Int64Index: 49444 entries, 0 to 287\n",
      "Data columns (total 30 columns):\n",
      " #   Column                     Non-Null Count  Dtype   \n",
      "---  ------                     --------------  -----   \n",
      " 0   obj_type                   49444 non-null  object  \n",
      " 1   name                       49444 non-null  object  \n",
      " 2   info                       49444 non-null  object  \n",
      " 3   damage_gra                 49444 non-null  object  \n",
      " 4   notation                   49444 non-null  object  \n",
      " 5   or_src_id                  49444 non-null  int64   \n",
      " 6   cd_value                   49444 non-null  object  \n",
      " 7   geometry                   49444 non-null  geometry\n",
      " 8   Province                   49444 non-null  object  \n",
      " 9   city                       49444 non-null  object  \n",
      " 10  population                 49444 non-null  int64   \n",
      " 11  income                     49444 non-null  int64   \n",
      " 12  total_sales                49444 non-null  int64   \n",
      " 13  second_sales               49444 non-null  int64   \n",
      " 14  water_access               49444 non-null  float64 \n",
      " 15  elec_cons                  49444 non-null  int64   \n",
      " 16  building_perm              49444 non-null  int64   \n",
      " 17  land_permited              49444 non-null  int64   \n",
      " 18  labour_fource              49444 non-null  float64 \n",
      " 19  unemployment               49444 non-null  float64 \n",
      " 20  agricultural               49444 non-null  int64   \n",
      " 21  life_time                  49444 non-null  float64 \n",
      " 22  hb_per100000               49444 non-null  int64   \n",
      " 23  fertility                  49444 non-null  float64 \n",
      " 24  hh_size                    49444 non-null  float64 \n",
      " 25  centroid                   49444 non-null  geometry\n",
      " 26  latitude                   49444 non-null  float64 \n",
      " 27  longitude                  49444 non-null  float64 \n",
      " 28  nearest_fault_distance_km  49444 non-null  float64 \n",
      " 29  nearest_eq_distance_km     49444 non-null  float64 \n",
      "dtypes: float64(10), geometry(2), int64(10), object(8)\n",
      "memory usage: 11.7+ MB\n"
     ]
    }
   ],
   "source": [
    "data_path = \"../data/manipulated/building_eq_distance.pkl\"\n",
    "df = pandas.read_pickle(data_path )\n",
    "df.info()"
   ]
  },
  {
   "cell_type": "code",
   "execution_count": 87,
   "id": "c7b9ef58",
   "metadata": {},
   "outputs": [],
   "source": [
    "df['Location_name'] = df['city']+'-'+df['Province']\n",
    "#df.set_index('Location_name', inplace=True)\n",
    "\n",
    "mapping = {\n",
    "    \"Damaged\": 3,\n",
    "    \"Destroyed\": 4,\n",
    "    \"No visible damage\": 1,\n",
    "    \"Possibly damaged\": 2\n",
    "}\n",
    "\n",
    "df['damage_gra'] = df['damage_gra'].replace(mapping)"
   ]
  },
  {
   "cell_type": "code",
   "execution_count": 88,
   "id": "b2593f37",
   "metadata": {},
   "outputs": [
    {
     "data": {
      "text/html": [
       "<div>\n",
       "<style scoped>\n",
       "    .dataframe tbody tr th:only-of-type {\n",
       "        vertical-align: middle;\n",
       "    }\n",
       "\n",
       "    .dataframe tbody tr th {\n",
       "        vertical-align: top;\n",
       "    }\n",
       "\n",
       "    .dataframe thead th {\n",
       "        text-align: right;\n",
       "    }\n",
       "</style>\n",
       "<table border=\"1\" class=\"dataframe\">\n",
       "  <thead>\n",
       "    <tr style=\"text-align: right;\">\n",
       "      <th></th>\n",
       "      <th>obj_type</th>\n",
       "      <th>name</th>\n",
       "      <th>info</th>\n",
       "      <th>damage_gra</th>\n",
       "      <th>notation</th>\n",
       "      <th>or_src_id</th>\n",
       "      <th>cd_value</th>\n",
       "      <th>geometry</th>\n",
       "      <th>Province</th>\n",
       "      <th>city</th>\n",
       "      <th>...</th>\n",
       "      <th>life_time</th>\n",
       "      <th>hb_per100000</th>\n",
       "      <th>fertility</th>\n",
       "      <th>hh_size</th>\n",
       "      <th>centroid</th>\n",
       "      <th>latitude</th>\n",
       "      <th>longitude</th>\n",
       "      <th>nearest_fault_distance_km</th>\n",
       "      <th>nearest_eq_distance_km</th>\n",
       "      <th>Location_name</th>\n",
       "    </tr>\n",
       "  </thead>\n",
       "  <tbody>\n",
       "    <tr>\n",
       "      <th>0</th>\n",
       "      <td>11-Residential Buildings</td>\n",
       "      <td>Unknown</td>\n",
       "      <td>997-Not Applicable</td>\n",
       "      <td>1</td>\n",
       "      <td>Building block</td>\n",
       "      <td>1</td>\n",
       "      <td>Not Applicable</td>\n",
       "      <td>POLYGON ((38.31461 37.76919, 38.31480 37.76871...</td>\n",
       "      <td>ADIYAMAN</td>\n",
       "      <td>ADIYAMAN</td>\n",
       "      <td>...</td>\n",
       "      <td>79.7</td>\n",
       "      <td>222</td>\n",
       "      <td>2.36</td>\n",
       "      <td>4.00</td>\n",
       "      <td>POINT (38.31425 37.76887)</td>\n",
       "      <td>37.768867</td>\n",
       "      <td>38.314252</td>\n",
       "      <td>2.766849</td>\n",
       "      <td>9.630984</td>\n",
       "      <td>ADIYAMAN-ADIYAMAN</td>\n",
       "    </tr>\n",
       "    <tr>\n",
       "      <th>1</th>\n",
       "      <td>11-Residential Buildings</td>\n",
       "      <td>Unknown</td>\n",
       "      <td>997-Not Applicable</td>\n",
       "      <td>1</td>\n",
       "      <td>Building block</td>\n",
       "      <td>1</td>\n",
       "      <td>Not Applicable</td>\n",
       "      <td>POLYGON ((38.31327 37.76841, 38.31297 37.76834...</td>\n",
       "      <td>ADIYAMAN</td>\n",
       "      <td>ADIYAMAN</td>\n",
       "      <td>...</td>\n",
       "      <td>79.7</td>\n",
       "      <td>222</td>\n",
       "      <td>2.36</td>\n",
       "      <td>4.00</td>\n",
       "      <td>POINT (38.31328 37.76869)</td>\n",
       "      <td>37.768690</td>\n",
       "      <td>38.313284</td>\n",
       "      <td>4.076484</td>\n",
       "      <td>10.449613</td>\n",
       "      <td>ADIYAMAN-ADIYAMAN</td>\n",
       "    </tr>\n",
       "    <tr>\n",
       "      <th>2</th>\n",
       "      <td>12-Non-residential Buildings</td>\n",
       "      <td>Unknown</td>\n",
       "      <td>1251-Industrial buildings</td>\n",
       "      <td>1</td>\n",
       "      <td>Building block</td>\n",
       "      <td>1</td>\n",
       "      <td>Not Applicable</td>\n",
       "      <td>POLYGON ((38.31832 37.76898, 38.31826 37.76822...</td>\n",
       "      <td>ADIYAMAN</td>\n",
       "      <td>ADIYAMAN</td>\n",
       "      <td>...</td>\n",
       "      <td>79.7</td>\n",
       "      <td>222</td>\n",
       "      <td>2.36</td>\n",
       "      <td>4.00</td>\n",
       "      <td>POINT (38.31801 37.76861)</td>\n",
       "      <td>37.768612</td>\n",
       "      <td>38.318013</td>\n",
       "      <td>4.037559</td>\n",
       "      <td>10.466301</td>\n",
       "      <td>ADIYAMAN-ADIYAMAN</td>\n",
       "    </tr>\n",
       "    <tr>\n",
       "      <th>3</th>\n",
       "      <td>12-Non-residential Buildings</td>\n",
       "      <td>Unknown</td>\n",
       "      <td>1251-Industrial buildings</td>\n",
       "      <td>1</td>\n",
       "      <td>Building block</td>\n",
       "      <td>1</td>\n",
       "      <td>Not Applicable</td>\n",
       "      <td>POLYGON ((38.31898 37.76892, 38.31893 37.76819...</td>\n",
       "      <td>ADIYAMAN</td>\n",
       "      <td>ADIYAMAN</td>\n",
       "      <td>...</td>\n",
       "      <td>79.7</td>\n",
       "      <td>222</td>\n",
       "      <td>2.36</td>\n",
       "      <td>4.00</td>\n",
       "      <td>POINT (38.31868 37.76857)</td>\n",
       "      <td>37.768575</td>\n",
       "      <td>38.318677</td>\n",
       "      <td>3.995659</td>\n",
       "      <td>10.480286</td>\n",
       "      <td>ADIYAMAN-ADIYAMAN</td>\n",
       "    </tr>\n",
       "    <tr>\n",
       "      <th>4</th>\n",
       "      <td>11-Residential Buildings</td>\n",
       "      <td>Unknown</td>\n",
       "      <td>997-Not Applicable</td>\n",
       "      <td>1</td>\n",
       "      <td>Building block</td>\n",
       "      <td>1</td>\n",
       "      <td>Not Applicable</td>\n",
       "      <td>POLYGON ((38.31286 37.76831, 38.31243 37.76819...</td>\n",
       "      <td>ADIYAMAN</td>\n",
       "      <td>ADIYAMAN</td>\n",
       "      <td>...</td>\n",
       "      <td>79.7</td>\n",
       "      <td>222</td>\n",
       "      <td>2.36</td>\n",
       "      <td>4.00</td>\n",
       "      <td>POINT (38.31254 37.76851)</td>\n",
       "      <td>37.768514</td>\n",
       "      <td>38.312542</td>\n",
       "      <td>4.015685</td>\n",
       "      <td>10.569504</td>\n",
       "      <td>ADIYAMAN-ADIYAMAN</td>\n",
       "    </tr>\n",
       "    <tr>\n",
       "      <th>...</th>\n",
       "      <td>...</td>\n",
       "      <td>...</td>\n",
       "      <td>...</td>\n",
       "      <td>...</td>\n",
       "      <td>...</td>\n",
       "      <td>...</td>\n",
       "      <td>...</td>\n",
       "      <td>...</td>\n",
       "      <td>...</td>\n",
       "      <td>...</td>\n",
       "      <td>...</td>\n",
       "      <td>...</td>\n",
       "      <td>...</td>\n",
       "      <td>...</td>\n",
       "      <td>...</td>\n",
       "      <td>...</td>\n",
       "      <td>...</td>\n",
       "      <td>...</td>\n",
       "      <td>...</td>\n",
       "      <td>...</td>\n",
       "      <td>...</td>\n",
       "    </tr>\n",
       "    <tr>\n",
       "      <th>283</th>\n",
       "      <td>11-Residential Buildings</td>\n",
       "      <td>Unknown</td>\n",
       "      <td>997-Not Applicable</td>\n",
       "      <td>1</td>\n",
       "      <td>Building block</td>\n",
       "      <td>1</td>\n",
       "      <td>Not Applicable</td>\n",
       "      <td>POLYGON ((36.84219 37.37656, 36.84282 37.37617...</td>\n",
       "      <td>KAHRAMANMARAŞ</td>\n",
       "      <td>TÜRKOĞLU</td>\n",
       "      <td>...</td>\n",
       "      <td>79.2</td>\n",
       "      <td>256</td>\n",
       "      <td>1.99</td>\n",
       "      <td>3.68</td>\n",
       "      <td>POINT (36.84096 37.37492)</td>\n",
       "      <td>37.374922</td>\n",
       "      <td>36.840958</td>\n",
       "      <td>3.542600</td>\n",
       "      <td>10.536381</td>\n",
       "      <td>TÜRKOĞLU-KAHRAMANMARAŞ</td>\n",
       "    </tr>\n",
       "    <tr>\n",
       "      <th>284</th>\n",
       "      <td>11-Residential Buildings</td>\n",
       "      <td>Unknown</td>\n",
       "      <td>997-Not Applicable</td>\n",
       "      <td>3</td>\n",
       "      <td>Building block</td>\n",
       "      <td>1</td>\n",
       "      <td>Not Applicable</td>\n",
       "      <td>POLYGON ((36.84082 37.37599, 36.84058 37.37559...</td>\n",
       "      <td>KAHRAMANMARAŞ</td>\n",
       "      <td>TÜRKOĞLU</td>\n",
       "      <td>...</td>\n",
       "      <td>79.2</td>\n",
       "      <td>256</td>\n",
       "      <td>1.99</td>\n",
       "      <td>3.68</td>\n",
       "      <td>POINT (36.84038 37.37596)</td>\n",
       "      <td>37.375963</td>\n",
       "      <td>36.840383</td>\n",
       "      <td>3.463512</td>\n",
       "      <td>10.656673</td>\n",
       "      <td>TÜRKOĞLU-KAHRAMANMARAŞ</td>\n",
       "    </tr>\n",
       "    <tr>\n",
       "      <th>285</th>\n",
       "      <td>11-Residential Buildings</td>\n",
       "      <td>Unknown</td>\n",
       "      <td>997-Not Applicable</td>\n",
       "      <td>4</td>\n",
       "      <td>Building block</td>\n",
       "      <td>1</td>\n",
       "      <td>Not Applicable</td>\n",
       "      <td>POLYGON ((36.84030 37.37514, 36.83950 37.37538...</td>\n",
       "      <td>KAHRAMANMARAŞ</td>\n",
       "      <td>TÜRKOĞLU</td>\n",
       "      <td>...</td>\n",
       "      <td>79.2</td>\n",
       "      <td>256</td>\n",
       "      <td>1.99</td>\n",
       "      <td>3.68</td>\n",
       "      <td>POINT (36.83997 37.37547)</td>\n",
       "      <td>37.375467</td>\n",
       "      <td>36.839974</td>\n",
       "      <td>3.529209</td>\n",
       "      <td>10.639542</td>\n",
       "      <td>TÜRKOĞLU-KAHRAMANMARAŞ</td>\n",
       "    </tr>\n",
       "    <tr>\n",
       "      <th>286</th>\n",
       "      <td>11-Residential Buildings</td>\n",
       "      <td>Unknown</td>\n",
       "      <td>997-Not Applicable</td>\n",
       "      <td>4</td>\n",
       "      <td>Building block</td>\n",
       "      <td>1</td>\n",
       "      <td>Not Applicable</td>\n",
       "      <td>POLYGON ((36.85761 37.37331, 36.85728 37.37369...</td>\n",
       "      <td>KAHRAMANMARAŞ</td>\n",
       "      <td>TÜRKOĞLU</td>\n",
       "      <td>...</td>\n",
       "      <td>79.2</td>\n",
       "      <td>256</td>\n",
       "      <td>1.99</td>\n",
       "      <td>3.68</td>\n",
       "      <td>POINT (36.85771 37.37366)</td>\n",
       "      <td>37.373658</td>\n",
       "      <td>36.857710</td>\n",
       "      <td>3.307630</td>\n",
       "      <td>9.499278</td>\n",
       "      <td>TÜRKOĞLU-KAHRAMANMARAŞ</td>\n",
       "    </tr>\n",
       "    <tr>\n",
       "      <th>287</th>\n",
       "      <td>12-Non-residential Buildings</td>\n",
       "      <td>Unknown</td>\n",
       "      <td>1251-Industrial buildings</td>\n",
       "      <td>3</td>\n",
       "      <td>Building block</td>\n",
       "      <td>1</td>\n",
       "      <td>Not Applicable</td>\n",
       "      <td>POLYGON ((36.86534 37.38198, 36.86536 37.38205...</td>\n",
       "      <td>KAHRAMANMARAŞ</td>\n",
       "      <td>TÜRKOĞLU</td>\n",
       "      <td>...</td>\n",
       "      <td>79.2</td>\n",
       "      <td>256</td>\n",
       "      <td>1.99</td>\n",
       "      <td>3.68</td>\n",
       "      <td>POINT (36.86589 37.38216)</td>\n",
       "      <td>37.382156</td>\n",
       "      <td>36.865889</td>\n",
       "      <td>2.442268</td>\n",
       "      <td>9.911026</td>\n",
       "      <td>TÜRKOĞLU-KAHRAMANMARAŞ</td>\n",
       "    </tr>\n",
       "  </tbody>\n",
       "</table>\n",
       "<p>49444 rows × 31 columns</p>\n",
       "</div>"
      ],
      "text/plain": [
       "                         obj_type     name                       info  \\\n",
       "0        11-Residential Buildings  Unknown         997-Not Applicable   \n",
       "1        11-Residential Buildings  Unknown         997-Not Applicable   \n",
       "2    12-Non-residential Buildings  Unknown  1251-Industrial buildings   \n",
       "3    12-Non-residential Buildings  Unknown  1251-Industrial buildings   \n",
       "4        11-Residential Buildings  Unknown         997-Not Applicable   \n",
       "..                            ...      ...                        ...   \n",
       "283      11-Residential Buildings  Unknown         997-Not Applicable   \n",
       "284      11-Residential Buildings  Unknown         997-Not Applicable   \n",
       "285      11-Residential Buildings  Unknown         997-Not Applicable   \n",
       "286      11-Residential Buildings  Unknown         997-Not Applicable   \n",
       "287  12-Non-residential Buildings  Unknown  1251-Industrial buildings   \n",
       "\n",
       "     damage_gra        notation  or_src_id        cd_value  \\\n",
       "0             1  Building block          1  Not Applicable   \n",
       "1             1  Building block          1  Not Applicable   \n",
       "2             1  Building block          1  Not Applicable   \n",
       "3             1  Building block          1  Not Applicable   \n",
       "4             1  Building block          1  Not Applicable   \n",
       "..          ...             ...        ...             ...   \n",
       "283           1  Building block          1  Not Applicable   \n",
       "284           3  Building block          1  Not Applicable   \n",
       "285           4  Building block          1  Not Applicable   \n",
       "286           4  Building block          1  Not Applicable   \n",
       "287           3  Building block          1  Not Applicable   \n",
       "\n",
       "                                              geometry       Province  \\\n",
       "0    POLYGON ((38.31461 37.76919, 38.31480 37.76871...       ADIYAMAN   \n",
       "1    POLYGON ((38.31327 37.76841, 38.31297 37.76834...       ADIYAMAN   \n",
       "2    POLYGON ((38.31832 37.76898, 38.31826 37.76822...       ADIYAMAN   \n",
       "3    POLYGON ((38.31898 37.76892, 38.31893 37.76819...       ADIYAMAN   \n",
       "4    POLYGON ((38.31286 37.76831, 38.31243 37.76819...       ADIYAMAN   \n",
       "..                                                 ...            ...   \n",
       "283  POLYGON ((36.84219 37.37656, 36.84282 37.37617...  KAHRAMANMARAŞ   \n",
       "284  POLYGON ((36.84082 37.37599, 36.84058 37.37559...  KAHRAMANMARAŞ   \n",
       "285  POLYGON ((36.84030 37.37514, 36.83950 37.37538...  KAHRAMANMARAŞ   \n",
       "286  POLYGON ((36.85761 37.37331, 36.85728 37.37369...  KAHRAMANMARAŞ   \n",
       "287  POLYGON ((36.86534 37.38198, 36.86536 37.38205...  KAHRAMANMARAŞ   \n",
       "\n",
       "         city  ...  life_time  hb_per100000  fertility  hh_size  \\\n",
       "0    ADIYAMAN  ...       79.7           222       2.36     4.00   \n",
       "1    ADIYAMAN  ...       79.7           222       2.36     4.00   \n",
       "2    ADIYAMAN  ...       79.7           222       2.36     4.00   \n",
       "3    ADIYAMAN  ...       79.7           222       2.36     4.00   \n",
       "4    ADIYAMAN  ...       79.7           222       2.36     4.00   \n",
       "..        ...  ...        ...           ...        ...      ...   \n",
       "283  TÜRKOĞLU  ...       79.2           256       1.99     3.68   \n",
       "284  TÜRKOĞLU  ...       79.2           256       1.99     3.68   \n",
       "285  TÜRKOĞLU  ...       79.2           256       1.99     3.68   \n",
       "286  TÜRKOĞLU  ...       79.2           256       1.99     3.68   \n",
       "287  TÜRKOĞLU  ...       79.2           256       1.99     3.68   \n",
       "\n",
       "                      centroid   latitude  longitude  \\\n",
       "0    POINT (38.31425 37.76887)  37.768867  38.314252   \n",
       "1    POINT (38.31328 37.76869)  37.768690  38.313284   \n",
       "2    POINT (38.31801 37.76861)  37.768612  38.318013   \n",
       "3    POINT (38.31868 37.76857)  37.768575  38.318677   \n",
       "4    POINT (38.31254 37.76851)  37.768514  38.312542   \n",
       "..                         ...        ...        ...   \n",
       "283  POINT (36.84096 37.37492)  37.374922  36.840958   \n",
       "284  POINT (36.84038 37.37596)  37.375963  36.840383   \n",
       "285  POINT (36.83997 37.37547)  37.375467  36.839974   \n",
       "286  POINT (36.85771 37.37366)  37.373658  36.857710   \n",
       "287  POINT (36.86589 37.38216)  37.382156  36.865889   \n",
       "\n",
       "     nearest_fault_distance_km  nearest_eq_distance_km           Location_name  \n",
       "0                     2.766849                9.630984       ADIYAMAN-ADIYAMAN  \n",
       "1                     4.076484               10.449613       ADIYAMAN-ADIYAMAN  \n",
       "2                     4.037559               10.466301       ADIYAMAN-ADIYAMAN  \n",
       "3                     3.995659               10.480286       ADIYAMAN-ADIYAMAN  \n",
       "4                     4.015685               10.569504       ADIYAMAN-ADIYAMAN  \n",
       "..                         ...                     ...                     ...  \n",
       "283                   3.542600               10.536381  TÜRKOĞLU-KAHRAMANMARAŞ  \n",
       "284                   3.463512               10.656673  TÜRKOĞLU-KAHRAMANMARAŞ  \n",
       "285                   3.529209               10.639542  TÜRKOĞLU-KAHRAMANMARAŞ  \n",
       "286                   3.307630                9.499278  TÜRKOĞLU-KAHRAMANMARAŞ  \n",
       "287                   2.442268                9.911026  TÜRKOĞLU-KAHRAMANMARAŞ  \n",
       "\n",
       "[49444 rows x 31 columns]"
      ]
     },
     "execution_count": 88,
     "metadata": {},
     "output_type": "execute_result"
    }
   ],
   "source": [
    "\n",
    "df\n"
   ]
  },
  {
   "cell_type": "code",
   "execution_count": 89,
   "id": "e2adbd7d",
   "metadata": {},
   "outputs": [],
   "source": [
    "# Assuming your DataFrame is named 'df' and the columns are named 'damage_gra' and 'Location_name'\n",
    "grouped = df.groupby('Location_name')  # Step 1\n",
    "\n",
    "total_counts = grouped['damage_gra'].count()  # Step 2\n",
    "count_ones = grouped['damage_gra'].apply(lambda x: (x == 1).sum())  # Step 3\n",
    "count_twos = grouped['damage_gra'].apply(lambda x: (x == 2).sum())\n",
    "count_threes = grouped['damage_gra'].apply(lambda x: (x == 3).sum())\n",
    "count_fours = grouped['damage_gra'].apply(lambda x: (x == 4).sum())\n",
    "percentage_ones = (count_ones / total_counts) * 100  # Step 4\n",
    "percentage_twos = (count_twos / total_counts) * 100\n",
    "percentage_threes = (count_threes / total_counts) * 100\n",
    "percentage_fours = (count_fours / total_counts) * 100\n",
    "\n",
    "\n",
    "df['per_1'] = df.index.map(percentage_ones)  # Step 5\n",
    "df['per_2'] = df.index.map(percentage_twos)\n",
    "df['per_3'] = df.index.map(percentage_threes)\n",
    "df['per_4'] = df.index.map(percentage_fours) \n",
    "\n"
   ]
  },
  {
   "cell_type": "code",
   "execution_count": 90,
   "id": "a99d3efe",
   "metadata": {},
   "outputs": [
    {
     "data": {
      "text/plain": [
       "<AxesSubplot: xlabel='longitude', ylabel='latitude'>"
      ]
     },
     "execution_count": 90,
     "metadata": {},
     "output_type": "execute_result"
    },
    {
     "data": {
      "image/png": "[encoded data removed]",
      "text/plain": [
       "<Figure size 640x480 with 2 Axes>"
      ]
     },
     "metadata": {},
     "output_type": "display_data"
    }
   ],
   "source": [
    "df.plot(kind = 'scatter', x = 'longitude', y = 'latitude', grid= True,\n",
    "                s  = 'damage_gra', colorbar= True, legend = True, c= 'damage_gra',)"
   ]
  },
  {
   "attachments": {},
   "cell_type": "markdown",
   "id": "determined-transmission",
   "metadata": {},
   "source": [
    "While the shapes of the geographical units (local authority districts, in this case) are stored in a compressed GeoJSON file, we can read it directly from the `.zip` file as follows:"
   ]
  },
  {
   "cell_type": "code",
   "execution_count": 91,
   "id": "resistant-blackjack",
   "metadata": {},
   "outputs": [
    {
     "name": "stdout",
     "output_type": "stream",
     "text": [
      "<class 'geopandas.geodataframe.GeoDataFrame'>\n",
      "RangeIndex: 973 entries, 0 to 972\n",
      "Data columns (total 10 columns):\n",
      " #   Column      Non-Null Count  Dtype   \n",
      "---  ------      --------------  -----   \n",
      " 0   OBJECTID    973 non-null    int64   \n",
      " 1   adm2_tr     973 non-null    object  \n",
      " 2   adm2_en     973 non-null    object  \n",
      " 3   adm1_tr     973 non-null    object  \n",
      " 4   adm1_en     973 non-null    object  \n",
      " 5   adm1        973 non-null    object  \n",
      " 6   pcode       973 non-null    object  \n",
      " 7   Shape_Leng  973 non-null    float64 \n",
      " 8   Shape_Area  973 non-null    float64 \n",
      " 9   geometry    973 non-null    geometry\n",
      "dtypes: float64(2), geometry(1), int64(1), object(6)\n",
      "memory usage: 76.1+ KB\n"
     ]
    },
    {
     "data": {
      "text/html": [
       "<div>\n",
       "<style scoped>\n",
       "    .dataframe tbody tr th:only-of-type {\n",
       "        vertical-align: middle;\n",
       "    }\n",
       "\n",
       "    .dataframe tbody tr th {\n",
       "        vertical-align: top;\n",
       "    }\n",
       "\n",
       "    .dataframe thead th {\n",
       "        text-align: right;\n",
       "    }\n",
       "</style>\n",
       "<table border=\"1\" class=\"dataframe\">\n",
       "  <thead>\n",
       "    <tr style=\"text-align: right;\">\n",
       "      <th></th>\n",
       "      <th>OBJECTID</th>\n",
       "      <th>adm2_tr</th>\n",
       "      <th>adm2_en</th>\n",
       "      <th>adm1_tr</th>\n",
       "      <th>adm1_en</th>\n",
       "      <th>adm1</th>\n",
       "      <th>pcode</th>\n",
       "      <th>Shape_Leng</th>\n",
       "      <th>Shape_Area</th>\n",
       "      <th>geometry</th>\n",
       "    </tr>\n",
       "  </thead>\n",
       "  <tbody>\n",
       "    <tr>\n",
       "      <th>0</th>\n",
       "      <td>1</td>\n",
       "      <td>ŞİŞLİ</td>\n",
       "      <td>SISLI</td>\n",
       "      <td>İSTANBUL</td>\n",
       "      <td>ISTANBUL</td>\n",
       "      <td>TUR034</td>\n",
       "      <td>TUR034035</td>\n",
       "      <td>0.187408</td>\n",
       "      <td>0.001147</td>\n",
       "      <td>POLYGON ((29.00802 41.08488, 29.00928 41.08346...</td>\n",
       "    </tr>\n",
       "    <tr>\n",
       "      <th>1</th>\n",
       "      <td>2</td>\n",
       "      <td>ÇİĞLİ</td>\n",
       "      <td>CIGLI</td>\n",
       "      <td>İZMİR</td>\n",
       "      <td>IZMIR</td>\n",
       "      <td>TUR035</td>\n",
       "      <td>TUR035010</td>\n",
       "      <td>1.138818</td>\n",
       "      <td>0.014430</td>\n",
       "      <td>POLYGON ((27.06797 38.46423, 27.06785 38.46418...</td>\n",
       "    </tr>\n",
       "    <tr>\n",
       "      <th>2</th>\n",
       "      <td>3</td>\n",
       "      <td>ŞİLE</td>\n",
       "      <td>SILE</td>\n",
       "      <td>İSTANBUL</td>\n",
       "      <td>ISTANBUL</td>\n",
       "      <td>TUR034</td>\n",
       "      <td>TUR034034</td>\n",
       "      <td>1.862735</td>\n",
       "      <td>0.085721</td>\n",
       "      <td>POLYGON ((29.84881 41.01343, 29.84697 41.01245...</td>\n",
       "    </tr>\n",
       "    <tr>\n",
       "      <th>3</th>\n",
       "      <td>4</td>\n",
       "      <td>ŞİRAN</td>\n",
       "      <td>SIRAN</td>\n",
       "      <td>GÜMÜŞHANE</td>\n",
       "      <td>GUMUSHANE</td>\n",
       "      <td>TUR029</td>\n",
       "      <td>TUR029005</td>\n",
       "      <td>1.425890</td>\n",
       "      <td>0.102039</td>\n",
       "      <td>POLYGON ((39.32492 40.29221, 39.32482 40.29085...</td>\n",
       "    </tr>\n",
       "    <tr>\n",
       "      <th>4</th>\n",
       "      <td>5</td>\n",
       "      <td>ŞİRVAN</td>\n",
       "      <td>SIRVAN</td>\n",
       "      <td>SİİRT</td>\n",
       "      <td>SIIRT</td>\n",
       "      <td>TUR056</td>\n",
       "      <td>TUR056006</td>\n",
       "      <td>1.372220</td>\n",
       "      <td>0.096102</td>\n",
       "      <td>POLYGON ((41.95335 38.00632, 41.95321 38.00755...</td>\n",
       "    </tr>\n",
       "    <tr>\n",
       "      <th>...</th>\n",
       "      <td>...</td>\n",
       "      <td>...</td>\n",
       "      <td>...</td>\n",
       "      <td>...</td>\n",
       "      <td>...</td>\n",
       "      <td>...</td>\n",
       "      <td>...</td>\n",
       "      <td>...</td>\n",
       "      <td>...</td>\n",
       "      <td>...</td>\n",
       "    </tr>\n",
       "    <tr>\n",
       "      <th>968</th>\n",
       "      <td>969</td>\n",
       "      <td>SULTANHANI</td>\n",
       "      <td>SULTANHANI</td>\n",
       "      <td>AKSARAY</td>\n",
       "      <td>AKSARAY</td>\n",
       "      <td>TUR068</td>\n",
       "      <td>TUR068008</td>\n",
       "      <td>0.874635</td>\n",
       "      <td>0.047674</td>\n",
       "      <td>POLYGON ((33.71588 38.10740, 33.71464 38.10828...</td>\n",
       "    </tr>\n",
       "    <tr>\n",
       "      <th>969</th>\n",
       "      <td>970</td>\n",
       "      <td>KEMALPAŞA</td>\n",
       "      <td>KEMALPASA</td>\n",
       "      <td>ARTVİN</td>\n",
       "      <td>ARTVIN</td>\n",
       "      <td>TUR008</td>\n",
       "      <td>TUR008006</td>\n",
       "      <td>0.405790</td>\n",
       "      <td>0.008003</td>\n",
       "      <td>POLYGON ((41.54029 41.42134, 41.53431 41.42272...</td>\n",
       "    </tr>\n",
       "    <tr>\n",
       "      <th>970</th>\n",
       "      <td>971</td>\n",
       "      <td>DERECİK</td>\n",
       "      <td>DERECIK</td>\n",
       "      <td>HAKKARİ</td>\n",
       "      <td>HAKKARI</td>\n",
       "      <td>TUR030</td>\n",
       "      <td>TUR030005</td>\n",
       "      <td>1.135608</td>\n",
       "      <td>0.046118</td>\n",
       "      <td>POLYGON ((44.55266 37.13612, 44.55225 37.13600...</td>\n",
       "    </tr>\n",
       "    <tr>\n",
       "      <th>971</th>\n",
       "      <td>972</td>\n",
       "      <td>AKSARAY</td>\n",
       "      <td>AKSARAY</td>\n",
       "      <td>AKSARAY</td>\n",
       "      <td>AKSARAY</td>\n",
       "      <td>TUR068</td>\n",
       "      <td>TUR068002</td>\n",
       "      <td>3.009736</td>\n",
       "      <td>0.365024</td>\n",
       "      <td>POLYGON ((33.73787 38.70942, 33.74138 38.70902...</td>\n",
       "    </tr>\n",
       "    <tr>\n",
       "      <th>972</th>\n",
       "      <td>973</td>\n",
       "      <td>ESKİL</td>\n",
       "      <td>ESKIL</td>\n",
       "      <td>AKSARAY</td>\n",
       "      <td>AKSARAY</td>\n",
       "      <td>TUR068</td>\n",
       "      <td>TUR068003</td>\n",
       "      <td>2.013960</td>\n",
       "      <td>0.175223</td>\n",
       "      <td>POLYGON ((33.48822 38.64908, 33.52503 38.64824...</td>\n",
       "    </tr>\n",
       "  </tbody>\n",
       "</table>\n",
       "<p>973 rows × 10 columns</p>\n",
       "</div>"
      ],
      "text/plain": [
       "     OBJECTID     adm2_tr     adm2_en    adm1_tr    adm1_en    adm1  \\\n",
       "0           1       ŞİŞLİ       SISLI   İSTANBUL   ISTANBUL  TUR034   \n",
       "1           2       ÇİĞLİ       CIGLI      İZMİR      IZMIR  TUR035   \n",
       "2           3        ŞİLE        SILE   İSTANBUL   ISTANBUL  TUR034   \n",
       "3           4       ŞİRAN       SIRAN  GÜMÜŞHANE  GUMUSHANE  TUR029   \n",
       "4           5      ŞİRVAN      SIRVAN      SİİRT      SIIRT  TUR056   \n",
       "..        ...         ...         ...        ...        ...     ...   \n",
       "968       969  SULTANHANI  SULTANHANI    AKSARAY    AKSARAY  TUR068   \n",
       "969       970   KEMALPAŞA   KEMALPASA     ARTVİN     ARTVIN  TUR008   \n",
       "970       971     DERECİK     DERECIK    HAKKARİ    HAKKARI  TUR030   \n",
       "971       972     AKSARAY     AKSARAY    AKSARAY    AKSARAY  TUR068   \n",
       "972       973       ESKİL       ESKIL    AKSARAY    AKSARAY  TUR068   \n",
       "\n",
       "         pcode  Shape_Leng  Shape_Area  \\\n",
       "0    TUR034035    0.187408    0.001147   \n",
       "1    TUR035010    1.138818    0.014430   \n",
       "2    TUR034034    1.862735    0.085721   \n",
       "3    TUR029005    1.425890    0.102039   \n",
       "4    TUR056006    1.372220    0.096102   \n",
       "..         ...         ...         ...   \n",
       "968  TUR068008    0.874635    0.047674   \n",
       "969  TUR008006    0.405790    0.008003   \n",
       "970  TUR030005    1.135608    0.046118   \n",
       "971  TUR068002    3.009736    0.365024   \n",
       "972  TUR068003    2.013960    0.175223   \n",
       "\n",
       "                                              geometry  \n",
       "0    POLYGON ((29.00802 41.08488, 29.00928 41.08346...  \n",
       "1    POLYGON ((27.06797 38.46423, 27.06785 38.46418...  \n",
       "2    POLYGON ((29.84881 41.01343, 29.84697 41.01245...  \n",
       "3    POLYGON ((39.32492 40.29221, 39.32482 40.29085...  \n",
       "4    POLYGON ((41.95335 38.00632, 41.95321 38.00755...  \n",
       "..                                                 ...  \n",
       "968  POLYGON ((33.71588 38.10740, 33.71464 38.10828...  \n",
       "969  POLYGON ((41.54029 41.42134, 41.53431 41.42272...  \n",
       "970  POLYGON ((44.55266 37.13612, 44.55225 37.13600...  \n",
       "971  POLYGON ((33.73787 38.70942, 33.74138 38.70902...  \n",
       "972  POLYGON ((33.48822 38.64908, 33.52503 38.64824...  \n",
       "\n",
       "[973 rows x 10 columns]"
      ]
     },
     "execution_count": 91,
     "metadata": {},
     "output_type": "execute_result"
    }
   ],
   "source": [
    "adm = geopandas.read_file(\"../data/turkey_administrativelevels0_1_2/tur_polbna_adm2.shp\")\n",
    "\n",
    "adm .info()\n",
    "\n",
    "adm"
   ]
  },
  {
   "cell_type": "code",
   "execution_count": 100,
   "id": "265a4fbd",
   "metadata": {},
   "outputs": [
    {
     "data": {
      "text/html": [
       "<div>\n",
       "<style scoped>\n",
       "    .dataframe tbody tr th:only-of-type {\n",
       "        vertical-align: middle;\n",
       "    }\n",
       "\n",
       "    .dataframe tbody tr th {\n",
       "        vertical-align: top;\n",
       "    }\n",
       "\n",
       "    .dataframe thead th {\n",
       "        text-align: right;\n",
       "    }\n",
       "</style>\n",
       "<table border=\"1\" class=\"dataframe\">\n",
       "  <thead>\n",
       "    <tr style=\"text-align: right;\">\n",
       "      <th></th>\n",
       "      <th>OBJECTID</th>\n",
       "      <th>adm2_tr</th>\n",
       "      <th>adm2_en</th>\n",
       "      <th>adm1_tr</th>\n",
       "      <th>adm1_en</th>\n",
       "      <th>adm1</th>\n",
       "      <th>pcode</th>\n",
       "      <th>Shape_Leng</th>\n",
       "      <th>Shape_Area</th>\n",
       "      <th>geometry</th>\n",
       "      <th>Location_name</th>\n",
       "    </tr>\n",
       "    <tr>\n",
       "      <th>Location_name</th>\n",
       "      <th></th>\n",
       "      <th></th>\n",
       "      <th></th>\n",
       "      <th></th>\n",
       "      <th></th>\n",
       "      <th></th>\n",
       "      <th></th>\n",
       "      <th></th>\n",
       "      <th></th>\n",
       "      <th></th>\n",
       "      <th></th>\n",
       "    </tr>\n",
       "  </thead>\n",
       "  <tbody>\n",
       "    <tr>\n",
       "      <th>AKÇADAĞ-MALATYA</th>\n",
       "      <td>80</td>\n",
       "      <td>AKÇADAĞ</td>\n",
       "      <td>AKCADAG</td>\n",
       "      <td>MALATYA</td>\n",
       "      <td>MALATYA</td>\n",
       "      <td>TUR044</td>\n",
       "      <td>TUR044001</td>\n",
       "      <td>1.569124</td>\n",
       "      <td>0.115247</td>\n",
       "      <td>POLYGON ((37.58667 38.34391, 37.58755 38.34535...</td>\n",
       "      <td>AKÇADAĞ-MALATYA</td>\n",
       "    </tr>\n",
       "    <tr>\n",
       "      <th>ARAPGİR-MALATYA</th>\n",
       "      <td>146</td>\n",
       "      <td>ARAPGİR</td>\n",
       "      <td>ARAPGIR</td>\n",
       "      <td>MALATYA</td>\n",
       "      <td>MALATYA</td>\n",
       "      <td>TUR044</td>\n",
       "      <td>TUR044002</td>\n",
       "      <td>1.671540</td>\n",
       "      <td>0.102628</td>\n",
       "      <td>POLYGON ((38.50484 38.74613, 38.50443 38.74614...</td>\n",
       "      <td>ARAPGİR-MALATYA</td>\n",
       "    </tr>\n",
       "    <tr>\n",
       "      <th>ARGUVAN-MALATYA</th>\n",
       "      <td>151</td>\n",
       "      <td>ARGUVAN</td>\n",
       "      <td>ARGUVAN</td>\n",
       "      <td>MALATYA</td>\n",
       "      <td>MALATYA</td>\n",
       "      <td>TUR044</td>\n",
       "      <td>TUR044003</td>\n",
       "      <td>1.633506</td>\n",
       "      <td>0.113768</td>\n",
       "      <td>POLYGON ((38.21892 39.12362, 38.22003 39.12060...</td>\n",
       "      <td>ARGUVAN-MALATYA</td>\n",
       "    </tr>\n",
       "    <tr>\n",
       "      <th>BATTALGAZİ-MALATYA</th>\n",
       "      <td>227</td>\n",
       "      <td>BATTALGAZİ</td>\n",
       "      <td>BATTALGAZI</td>\n",
       "      <td>MALATYA</td>\n",
       "      <td>MALATYA</td>\n",
       "      <td>TUR044</td>\n",
       "      <td>TUR044004</td>\n",
       "      <td>1.565110</td>\n",
       "      <td>0.097377</td>\n",
       "      <td>POLYGON ((38.41953 38.49619, 38.41953 38.49618...</td>\n",
       "      <td>BATTALGAZİ-MALATYA</td>\n",
       "    </tr>\n",
       "    <tr>\n",
       "      <th>DARENDE-MALATYA</th>\n",
       "      <td>305</td>\n",
       "      <td>DARENDE</td>\n",
       "      <td>DARENDE</td>\n",
       "      <td>MALATYA</td>\n",
       "      <td>MALATYA</td>\n",
       "      <td>TUR044</td>\n",
       "      <td>TUR044005</td>\n",
       "      <td>1.765247</td>\n",
       "      <td>0.153208</td>\n",
       "      <td>POLYGON ((37.76267 38.67665, 37.76227 38.67629...</td>\n",
       "      <td>DARENDE-MALATYA</td>\n",
       "    </tr>\n",
       "    <tr>\n",
       "      <th>DOĞANŞEHİR-MALATYA</th>\n",
       "      <td>329</td>\n",
       "      <td>DOĞANŞEHİR</td>\n",
       "      <td>DOGANSEHIR</td>\n",
       "      <td>MALATYA</td>\n",
       "      <td>MALATYA</td>\n",
       "      <td>TUR044</td>\n",
       "      <td>TUR044006</td>\n",
       "      <td>1.692489</td>\n",
       "      <td>0.140048</td>\n",
       "      <td>POLYGON ((37.64393 37.94366, 37.63673 37.94807...</td>\n",
       "      <td>DOĞANŞEHİR-MALATYA</td>\n",
       "    </tr>\n",
       "    <tr>\n",
       "      <th>DOĞANYOL-MALATYA</th>\n",
       "      <td>332</td>\n",
       "      <td>DOĞANYOL</td>\n",
       "      <td>DOGANYOL</td>\n",
       "      <td>MALATYA</td>\n",
       "      <td>MALATYA</td>\n",
       "      <td>TUR044</td>\n",
       "      <td>TUR044007</td>\n",
       "      <td>0.586370</td>\n",
       "      <td>0.018187</td>\n",
       "      <td>POLYGON ((39.15148 38.29770, 39.15120 38.29574...</td>\n",
       "      <td>DOĞANYOL-MALATYA</td>\n",
       "    </tr>\n",
       "    <tr>\n",
       "      <th>HEKİMHAN-MALATYA</th>\n",
       "      <td>503</td>\n",
       "      <td>HEKİMHAN</td>\n",
       "      <td>HEKIMHAN</td>\n",
       "      <td>MALATYA</td>\n",
       "      <td>MALATYA</td>\n",
       "      <td>TUR044</td>\n",
       "      <td>TUR044008</td>\n",
       "      <td>1.925133</td>\n",
       "      <td>0.157145</td>\n",
       "      <td>POLYGON ((37.89657 38.57464, 37.89362 38.57626...</td>\n",
       "      <td>HEKİMHAN-MALATYA</td>\n",
       "    </tr>\n",
       "    <tr>\n",
       "      <th>KALE-MALATYA</th>\n",
       "      <td>535</td>\n",
       "      <td>KALE</td>\n",
       "      <td>KALE</td>\n",
       "      <td>MALATYA</td>\n",
       "      <td>MALATYA</td>\n",
       "      <td>TUR044</td>\n",
       "      <td>TUR044009</td>\n",
       "      <td>0.729051</td>\n",
       "      <td>0.024425</td>\n",
       "      <td>POLYGON ((38.75630 38.28897, 38.75169 38.29300...</td>\n",
       "      <td>KALE-MALATYA</td>\n",
       "    </tr>\n",
       "    <tr>\n",
       "      <th>KULUNCAK-MALATYA</th>\n",
       "      <td>638</td>\n",
       "      <td>KULUNCAK</td>\n",
       "      <td>KULUNCAK</td>\n",
       "      <td>MALATYA</td>\n",
       "      <td>MALATYA</td>\n",
       "      <td>TUR044</td>\n",
       "      <td>TUR044010</td>\n",
       "      <td>1.242911</td>\n",
       "      <td>0.066908</td>\n",
       "      <td>POLYGON ((37.50210 38.97713, 37.50163 38.97794...</td>\n",
       "      <td>KULUNCAK-MALATYA</td>\n",
       "    </tr>\n",
       "    <tr>\n",
       "      <th>PÜTÜRGE-MALATYA</th>\n",
       "      <td>763</td>\n",
       "      <td>PÜTÜRGE</td>\n",
       "      <td>PUTURGE</td>\n",
       "      <td>MALATYA</td>\n",
       "      <td>MALATYA</td>\n",
       "      <td>TUR044</td>\n",
       "      <td>TUR044011</td>\n",
       "      <td>1.578675</td>\n",
       "      <td>0.111639</td>\n",
       "      <td>POLYGON ((38.82104 38.00812, 38.81885 38.00755...</td>\n",
       "      <td>PÜTÜRGE-MALATYA</td>\n",
       "    </tr>\n",
       "    <tr>\n",
       "      <th>YAZIHAN-MALATYA</th>\n",
       "      <td>932</td>\n",
       "      <td>YAZIHAN</td>\n",
       "      <td>YAZIHAN</td>\n",
       "      <td>MALATYA</td>\n",
       "      <td>MALATYA</td>\n",
       "      <td>TUR044</td>\n",
       "      <td>TUR044012</td>\n",
       "      <td>1.344663</td>\n",
       "      <td>0.067448</td>\n",
       "      <td>POLYGON ((38.41953 38.49619, 38.41927 38.49610...</td>\n",
       "      <td>YAZIHAN-MALATYA</td>\n",
       "    </tr>\n",
       "    <tr>\n",
       "      <th>YEŞİLYURT-MALATYA</th>\n",
       "      <td>936</td>\n",
       "      <td>YEŞİLYURT</td>\n",
       "      <td>YESILYURT</td>\n",
       "      <td>MALATYA</td>\n",
       "      <td>MALATYA</td>\n",
       "      <td>TUR044</td>\n",
       "      <td>TUR044013</td>\n",
       "      <td>1.870483</td>\n",
       "      <td>0.098283</td>\n",
       "      <td>POLYGON ((38.46840 38.17630, 38.46526 38.17393...</td>\n",
       "      <td>YEŞİLYURT-MALATYA</td>\n",
       "    </tr>\n",
       "  </tbody>\n",
       "</table>\n",
       "</div>"
      ],
      "text/plain": [
       "                    OBJECTID     adm2_tr     adm2_en  adm1_tr  adm1_en  \\\n",
       "Location_name                                                            \n",
       "AKÇADAĞ-MALATYA           80     AKÇADAĞ     AKCADAG  MALATYA  MALATYA   \n",
       "ARAPGİR-MALATYA          146     ARAPGİR     ARAPGIR  MALATYA  MALATYA   \n",
       "ARGUVAN-MALATYA          151     ARGUVAN     ARGUVAN  MALATYA  MALATYA   \n",
       "BATTALGAZİ-MALATYA       227  BATTALGAZİ  BATTALGAZI  MALATYA  MALATYA   \n",
       "DARENDE-MALATYA          305     DARENDE     DARENDE  MALATYA  MALATYA   \n",
       "DOĞANŞEHİR-MALATYA       329  DOĞANŞEHİR  DOGANSEHIR  MALATYA  MALATYA   \n",
       "DOĞANYOL-MALATYA         332    DOĞANYOL    DOGANYOL  MALATYA  MALATYA   \n",
       "HEKİMHAN-MALATYA         503    HEKİMHAN    HEKIMHAN  MALATYA  MALATYA   \n",
       "KALE-MALATYA             535        KALE        KALE  MALATYA  MALATYA   \n",
       "KULUNCAK-MALATYA         638    KULUNCAK    KULUNCAK  MALATYA  MALATYA   \n",
       "PÜTÜRGE-MALATYA          763     PÜTÜRGE     PUTURGE  MALATYA  MALATYA   \n",
       "YAZIHAN-MALATYA          932     YAZIHAN     YAZIHAN  MALATYA  MALATYA   \n",
       "YEŞİLYURT-MALATYA        936   YEŞİLYURT   YESILYURT  MALATYA  MALATYA   \n",
       "\n",
       "                      adm1      pcode  Shape_Leng  Shape_Area  \\\n",
       "Location_name                                                   \n",
       "AKÇADAĞ-MALATYA     TUR044  TUR044001    1.569124    0.115247   \n",
       "ARAPGİR-MALATYA     TUR044  TUR044002    1.671540    0.102628   \n",
       "ARGUVAN-MALATYA     TUR044  TUR044003    1.633506    0.113768   \n",
       "BATTALGAZİ-MALATYA  TUR044  TUR044004    1.565110    0.097377   \n",
       "DARENDE-MALATYA     TUR044  TUR044005    1.765247    0.153208   \n",
       "DOĞANŞEHİR-MALATYA  TUR044  TUR044006    1.692489    0.140048   \n",
       "DOĞANYOL-MALATYA    TUR044  TUR044007    0.586370    0.018187   \n",
       "HEKİMHAN-MALATYA    TUR044  TUR044008    1.925133    0.157145   \n",
       "KALE-MALATYA        TUR044  TUR044009    0.729051    0.024425   \n",
       "KULUNCAK-MALATYA    TUR044  TUR044010    1.242911    0.066908   \n",
       "PÜTÜRGE-MALATYA     TUR044  TUR044011    1.578675    0.111639   \n",
       "YAZIHAN-MALATYA     TUR044  TUR044012    1.344663    0.067448   \n",
       "YEŞİLYURT-MALATYA   TUR044  TUR044013    1.870483    0.098283   \n",
       "\n",
       "                                                             geometry  \\\n",
       "Location_name                                                           \n",
       "AKÇADAĞ-MALATYA     POLYGON ((37.58667 38.34391, 37.58755 38.34535...   \n",
       "ARAPGİR-MALATYA     POLYGON ((38.50484 38.74613, 38.50443 38.74614...   \n",
       "ARGUVAN-MALATYA     POLYGON ((38.21892 39.12362, 38.22003 39.12060...   \n",
       "BATTALGAZİ-MALATYA  POLYGON ((38.41953 38.49619, 38.41953 38.49618...   \n",
       "DARENDE-MALATYA     POLYGON ((37.76267 38.67665, 37.76227 38.67629...   \n",
       "DOĞANŞEHİR-MALATYA  POLYGON ((37.64393 37.94366, 37.63673 37.94807...   \n",
       "DOĞANYOL-MALATYA    POLYGON ((39.15148 38.29770, 39.15120 38.29574...   \n",
       "HEKİMHAN-MALATYA    POLYGON ((37.89657 38.57464, 37.89362 38.57626...   \n",
       "KALE-MALATYA        POLYGON ((38.75630 38.28897, 38.75169 38.29300...   \n",
       "KULUNCAK-MALATYA    POLYGON ((37.50210 38.97713, 37.50163 38.97794...   \n",
       "PÜTÜRGE-MALATYA     POLYGON ((38.82104 38.00812, 38.81885 38.00755...   \n",
       "YAZIHAN-MALATYA     POLYGON ((38.41953 38.49619, 38.41927 38.49610...   \n",
       "YEŞİLYURT-MALATYA   POLYGON ((38.46840 38.17630, 38.46526 38.17393...   \n",
       "\n",
       "                         Location_name  \n",
       "Location_name                           \n",
       "AKÇADAĞ-MALATYA        AKÇADAĞ-MALATYA  \n",
       "ARAPGİR-MALATYA        ARAPGİR-MALATYA  \n",
       "ARGUVAN-MALATYA        ARGUVAN-MALATYA  \n",
       "BATTALGAZİ-MALATYA  BATTALGAZİ-MALATYA  \n",
       "DARENDE-MALATYA        DARENDE-MALATYA  \n",
       "DOĞANŞEHİR-MALATYA  DOĞANŞEHİR-MALATYA  \n",
       "DOĞANYOL-MALATYA      DOĞANYOL-MALATYA  \n",
       "HEKİMHAN-MALATYA      HEKİMHAN-MALATYA  \n",
       "KALE-MALATYA              KALE-MALATYA  \n",
       "KULUNCAK-MALATYA      KULUNCAK-MALATYA  \n",
       "PÜTÜRGE-MALATYA        PÜTÜRGE-MALATYA  \n",
       "YAZIHAN-MALATYA        YAZIHAN-MALATYA  \n",
       "YEŞİLYURT-MALATYA    YEŞİLYURT-MALATYA  "
      ]
     },
     "execution_count": 100,
     "metadata": {},
     "output_type": "execute_result"
    }
   ],
   "source": [
    "adm['Location_name'] = adm['adm2_tr'] + \"-\" + adm['adm1_tr']\n",
    "\n",
    "adm[adm['adm1_tr'] == 'MALATYA']\n"
   ]
  },
  {
   "cell_type": "code",
   "execution_count": 93,
   "id": "c6427fb9",
   "metadata": {},
   "outputs": [],
   "source": [
    "\n",
    "\n",
    "adm.set_index('Location_name', inplace=True)\n",
    "\n"
   ]
  },
  {
   "attachments": {},
   "cell_type": "markdown",
   "id": "renewable-title",
   "metadata": {},
   "source": [
    "Although there are several variables that could be considered, we will focus on `Pct_Leave`, which measures the proportion of votes for the Leave alternative. For convenience, let us merge the vote results with the spatial data and project the output into the Spherical Mercator coordinate reference system (CRS), the preferred choice of web maps, which will allow us to combine them with contextual tiles later:"
   ]
  },
  {
   "cell_type": "code",
   "execution_count": 94,
   "id": "forbidden-hacker",
   "metadata": {},
   "outputs": [
    {
     "name": "stdout",
     "output_type": "stream",
     "text": [
      "<class 'geopandas.geodataframe.GeoDataFrame'>\n",
      "Index: 0 entries\n",
      "Data columns (total 6 columns):\n",
      " #   Column      Non-Null Count  Dtype   \n",
      "---  ------      --------------  -----   \n",
      " 0   per_1       0 non-null      float64 \n",
      " 1   per_2       0 non-null      float64 \n",
      " 2   per_3       0 non-null      float64 \n",
      " 3   per_4       0 non-null      float64 \n",
      " 4   damage_gra  0 non-null      float64 \n",
      " 5   geometry    0 non-null      geometry\n",
      "dtypes: float64(5), geometry(1)\n",
      "memory usage: 108.0+ bytes\n"
     ]
    }
   ],
   "source": [
    "db = (\n",
    "    geopandas.GeoDataFrame(\n",
    "        adm.join(df[['per_1', 'per_2', 'per_3', 'per_4',\"damage_gra\"]]), crs=adm.crs\n",
    "    )\n",
    "    .to_crs(epsg=3857)[\n",
    "        [ \"per_1\",\"per_2\", \"per_3\", \"per_4\", \"damage_gra\", \"geometry\"]\n",
    "    ]\n",
    "    .dropna()\n",
    ")\n",
    "db.info()"
   ]
  },
  {
   "attachments": {},
   "cell_type": "markdown",
   "id": "authentic-album",
   "metadata": {},
   "source": [
    "And with these elements, we can generate a choropleth map to get a quick sense of the spatial distribution of the data we will be analyzing. Note how we use some visual tweaks (e.g., transparency through the `alpha` attribute) to make the final plot in Figure 1 easier to read: "
   ]
  },
  {
   "cell_type": "code",
   "execution_count": 101,
   "id": "nervous-magazine",
   "metadata": {
    "caption": "Percentage of voters wanting to leave the EU in the 2016 UK Referendum known as the 'Brexit' vote.",
    "tags": []
   },
   "outputs": [
    {
     "data": {
      "image/png": "[encoded data removed]",
      "text/plain": [
       "<Figure size 900x900 with 1 Axes>"
      ]
     },
     "metadata": {},
     "output_type": "display_data"
    }
   ],
   "source": [
    "f, ax = plt.subplots(1, figsize=(9, 9))\n",
    "db.plot(\n",
    "    column=\"damage_gra\",\n",
    "    cmap=\"viridis\",\n",
    "    scheme=\"quantiles\",\n",
    "    k=5,\n",
    "    edgecolor=\"white\",\n",
    "    linewidth=0.0,\n",
    "    alpha=0.75,\n",
    "    legend=True,\n",
    "    legend_kwds={\"loc\": 2},\n",
    "    ax=ax,\n",
    ")\n",
    "contextily.add_basemap(\n",
    "    ax,\n",
    "    crs=db.crs,\n",
    "    source=contextily.providers.Stamen.TerrainBackground,\n",
    ")\n",
    "ax.set_axis_off()"
   ]
  },
  {
   "attachments": {},
   "cell_type": "markdown",
   "id": "first-tucson",
   "metadata": {},
   "source": [
    "The final piece we need before we can delve into autocorrelation is the spatial weights matrix. We will use eight nearest neighbors for the sake of the example, but our earlier discussion of spatial weights in Chapter 4 applies in this context, and other criteria would be valid too. We also row-standardize them:"
   ]
  },
  {
   "cell_type": "code",
   "execution_count": 96,
   "id": "transsexual-alcohol",
   "metadata": {},
   "outputs": [
    {
     "ename": "ValueError",
     "evalue": "need at least one array to concatenate",
     "output_type": "error",
     "traceback": [
      "\u001b[0;31m---------------------------------------------------------------------------\u001b[0m",
      "\u001b[0;31mValueError\u001b[0m                                Traceback (most recent call last)",
      "\u001b[0;32m/tmp/ipykernel_10625/2721966645.py\u001b[0m in \u001b[0;36m<cell line: 2>\u001b[0;34m()\u001b[0m\n\u001b[1;32m      1\u001b[0m \u001b[0;31m# Generate W from the GeoDataFrame\u001b[0m\u001b[0;34m\u001b[0m\u001b[0;34m\u001b[0m\u001b[0m\n\u001b[0;32m----> 2\u001b[0;31m \u001b[0mw\u001b[0m \u001b[0;34m=\u001b[0m \u001b[0mweights\u001b[0m\u001b[0;34m.\u001b[0m\u001b[0mKNN\u001b[0m\u001b[0;34m.\u001b[0m\u001b[0mfrom_dataframe\u001b[0m\u001b[0;34m(\u001b[0m\u001b[0mdb\u001b[0m\u001b[0;34m,\u001b[0m \u001b[0mk\u001b[0m\u001b[0;34m=\u001b[0m\u001b[0;36m8\u001b[0m\u001b[0;34m)\u001b[0m\u001b[0;34m\u001b[0m\u001b[0;34m\u001b[0m\u001b[0m\n\u001b[0m\u001b[1;32m      3\u001b[0m \u001b[0;31m# Row-standardization\u001b[0m\u001b[0;34m\u001b[0m\u001b[0;34m\u001b[0m\u001b[0m\n\u001b[1;32m      4\u001b[0m \u001b[0mw\u001b[0m\u001b[0;34m.\u001b[0m\u001b[0mtransform\u001b[0m \u001b[0;34m=\u001b[0m \u001b[0;34m\"R\"\u001b[0m\u001b[0;34m\u001b[0m\u001b[0;34m\u001b[0m\u001b[0m\n",
      "\u001b[0;32m~/anaconda3/envs/tfm/lib/python3.9/site-packages/pysal/lib/weights/distance.py\u001b[0m in \u001b[0;36mfrom_dataframe\u001b[0;34m(cls, df, geom_col, ids, *args, **kwargs)\u001b[0m\n\u001b[1;32m    254\u001b[0m         \u001b[0;34m:\u001b[0m\u001b[0;32mclass\u001b[0m\u001b[0;34m:\u001b[0m\u001b[0;31m`\u001b[0m\u001b[0mpysal\u001b[0m\u001b[0;34m.\u001b[0m\u001b[0mlib\u001b[0m\u001b[0;34m.\u001b[0m\u001b[0mweights\u001b[0m\u001b[0;34m.\u001b[0m\u001b[0mweights\u001b[0m\u001b[0;34m.\u001b[0m\u001b[0mW\u001b[0m\u001b[0;31m`\u001b[0m\u001b[0;34m\u001b[0m\u001b[0;34m\u001b[0m\u001b[0m\n\u001b[1;32m    255\u001b[0m         \"\"\"\n\u001b[0;32m--> 256\u001b[0;31m         \u001b[0mpts\u001b[0m \u001b[0;34m=\u001b[0m \u001b[0mget_points_array\u001b[0m\u001b[0;34m(\u001b[0m\u001b[0mdf\u001b[0m\u001b[0;34m[\u001b[0m\u001b[0mgeom_col\u001b[0m\u001b[0;34m]\u001b[0m\u001b[0;34m)\u001b[0m\u001b[0;34m\u001b[0m\u001b[0;34m\u001b[0m\u001b[0m\n\u001b[0m\u001b[1;32m    257\u001b[0m         \u001b[0;32mif\u001b[0m \u001b[0mids\u001b[0m \u001b[0;32mis\u001b[0m \u001b[0;32mNone\u001b[0m\u001b[0;34m:\u001b[0m\u001b[0;34m\u001b[0m\u001b[0;34m\u001b[0m\u001b[0m\n\u001b[1;32m    258\u001b[0m             \u001b[0mids\u001b[0m \u001b[0;34m=\u001b[0m \u001b[0mdf\u001b[0m\u001b[0;34m.\u001b[0m\u001b[0mindex\u001b[0m\u001b[0;34m.\u001b[0m\u001b[0mtolist\u001b[0m\u001b[0;34m(\u001b[0m\u001b[0;34m)\u001b[0m\u001b[0;34m\u001b[0m\u001b[0;34m\u001b[0m\u001b[0m\n",
      "\u001b[0;32m~/anaconda3/envs/tfm/lib/python3.9/site-packages/pysal/lib/weights/util.py\u001b[0m in \u001b[0;36mget_points_array\u001b[0;34m(iterable)\u001b[0m\n\u001b[1;32m   1026\u001b[0m     \"\"\"\n\u001b[1;32m   1027\u001b[0m     \u001b[0;32mtry\u001b[0m\u001b[0;34m:\u001b[0m\u001b[0;34m\u001b[0m\u001b[0;34m\u001b[0m\u001b[0m\n\u001b[0;32m-> 1028\u001b[0;31m         \u001b[0mdata\u001b[0m \u001b[0;34m=\u001b[0m \u001b[0mnp\u001b[0m\u001b[0;34m.\u001b[0m\u001b[0mvstack\u001b[0m\u001b[0;34m(\u001b[0m\u001b[0;34m[\u001b[0m\u001b[0mnp\u001b[0m\u001b[0;34m.\u001b[0m\u001b[0marray\u001b[0m\u001b[0;34m(\u001b[0m\u001b[0mshape\u001b[0m\u001b[0;34m.\u001b[0m\u001b[0mcentroid\u001b[0m\u001b[0;34m)\u001b[0m \u001b[0;32mfor\u001b[0m \u001b[0mshape\u001b[0m \u001b[0;32min\u001b[0m \u001b[0miterable\u001b[0m\u001b[0;34m]\u001b[0m\u001b[0;34m)\u001b[0m\u001b[0;34m\u001b[0m\u001b[0;34m\u001b[0m\u001b[0m\n\u001b[0m\u001b[1;32m   1029\u001b[0m     \u001b[0;32mexcept\u001b[0m \u001b[0mAttributeError\u001b[0m\u001b[0;34m:\u001b[0m\u001b[0;34m\u001b[0m\u001b[0;34m\u001b[0m\u001b[0m\n\u001b[1;32m   1030\u001b[0m         \u001b[0mdata\u001b[0m \u001b[0;34m=\u001b[0m \u001b[0mnp\u001b[0m\u001b[0;34m.\u001b[0m\u001b[0mvstack\u001b[0m\u001b[0;34m(\u001b[0m\u001b[0;34m[\u001b[0m\u001b[0mshape\u001b[0m \u001b[0;32mfor\u001b[0m \u001b[0mshape\u001b[0m \u001b[0;32min\u001b[0m \u001b[0miterable\u001b[0m\u001b[0;34m]\u001b[0m\u001b[0;34m)\u001b[0m\u001b[0;34m\u001b[0m\u001b[0;34m\u001b[0m\u001b[0m\n",
      "\u001b[0;32m~/anaconda3/envs/tfm/lib/python3.9/site-packages/numpy/core/overrides.py\u001b[0m in \u001b[0;36mvstack\u001b[0;34m(*args, **kwargs)\u001b[0m\n",
      "\u001b[0;32m~/anaconda3/envs/tfm/lib/python3.9/site-packages/numpy/core/shape_base.py\u001b[0m in \u001b[0;36mvstack\u001b[0;34m(tup)\u001b[0m\n\u001b[1;32m    280\u001b[0m     \u001b[0;32mif\u001b[0m \u001b[0;32mnot\u001b[0m \u001b[0misinstance\u001b[0m\u001b[0;34m(\u001b[0m\u001b[0marrs\u001b[0m\u001b[0;34m,\u001b[0m \u001b[0mlist\u001b[0m\u001b[0;34m)\u001b[0m\u001b[0;34m:\u001b[0m\u001b[0;34m\u001b[0m\u001b[0;34m\u001b[0m\u001b[0m\n\u001b[1;32m    281\u001b[0m         \u001b[0marrs\u001b[0m \u001b[0;34m=\u001b[0m \u001b[0;34m[\u001b[0m\u001b[0marrs\u001b[0m\u001b[0;34m]\u001b[0m\u001b[0;34m\u001b[0m\u001b[0;34m\u001b[0m\u001b[0m\n\u001b[0;32m--> 282\u001b[0;31m     \u001b[0;32mreturn\u001b[0m \u001b[0m_nx\u001b[0m\u001b[0;34m.\u001b[0m\u001b[0mconcatenate\u001b[0m\u001b[0;34m(\u001b[0m\u001b[0marrs\u001b[0m\u001b[0;34m,\u001b[0m \u001b[0;36m0\u001b[0m\u001b[0;34m)\u001b[0m\u001b[0;34m\u001b[0m\u001b[0;34m\u001b[0m\u001b[0m\n\u001b[0m\u001b[1;32m    283\u001b[0m \u001b[0;34m\u001b[0m\u001b[0m\n\u001b[1;32m    284\u001b[0m \u001b[0;34m\u001b[0m\u001b[0m\n",
      "\u001b[0;32m~/anaconda3/envs/tfm/lib/python3.9/site-packages/numpy/core/overrides.py\u001b[0m in \u001b[0;36mconcatenate\u001b[0;34m(*args, **kwargs)\u001b[0m\n",
      "\u001b[0;31mValueError\u001b[0m: need at least one array to concatenate"
     ]
    }
   ],
   "source": [
    "# Generate W from the GeoDataFrame\n",
    "w = weights.KNN.from_dataframe(db, k=8)\n",
    "# Row-standardization\n",
    "w.transform = \"R\""
   ]
  },
  {
   "attachments": {},
   "cell_type": "markdown",
   "id": "split-terrain",
   "metadata": {},
   "source": [
    "## Global spatial autocorrelation\n",
    "\n",
    "The map above is a good way to begin exploring the main spatial patterns in the data. At first sight, it appears to display a fair amount of positive spatial autocorrelation: local authorities with high percentages of votes to leave the EU tend to be next to each other (see, for instance, the eastern region), as are those where a much smaller proportion of their population voted to leave (with Scotland being a good example in the north). Humans however are very good pattern detectors. All over our history since we started as a species, life has rewarded pattern recognition abilities and punished individuals lacking it. Think of the advantage our ancestors had if they were able to spot particular shapes or movement when hunting, or the trouble they could get into if they were not able to recognize certain others in the darkness of night. This extraordinary capability to spot trends, patterns and associations tends to also create many false positives: cases where we think there is a pattern, but in fact what we are seeing is largely random {cite}`shermer2008`. This is particularly accentuated in the case of maps where, as we have seen in choropleth maps from Chapter 5, the shape and size of geometries can also significantly distort our perception of the underlying pattern. By looking at the map above, for example, we can have an educated guess about the presence of spatial autocorrelation; but actually determining whether what we are seeing could have come from pure chance or not is usually easier said than done.\n",
    "\n",
    "That is exactly the purpose of indicators of global spatial autocorrelation: to leverage the power of statistics to help us first summarize the spatial distribution of values present in a map, and second obtain a formal quantification of the departure from randomness. These are statistics to characterize a map in terms of its degree of clustering and summarize it, either in a visual or numerical way. However, before we can delve into the statistics, we need to understand a core building block: the spatial lag. With that concept under the belt, we are in a position to build a good understanding of global spatial autocorrelation. We will gently enter it with the binary case, when observations can only take two (potentially categorical) values, before we cover the two workhorses of the continuous case: the Moran Plot and Moran's I."
   ]
  },
  {
   "attachments": {},
   "cell_type": "markdown",
   "id": "automated-thompson",
   "metadata": {},
   "source": [
    "### Spatial lag"
   ]
  },
  {
   "attachments": {},
   "cell_type": "markdown",
   "id": "cloudy-dollar",
   "metadata": {},
   "source": [
    "The spatial lag operator is one of the most common and direct applications of spatial weights matrices (called $\\textbf{W}$ formally) in spatial analysis. The mathematical definition is the product of $\\textbf{W}$ and the vector of a given variable. Conceptually, the spatial lag captures the behavior of a variable in the immediate surroundings of each location; in that respect, it is akin to a local smoother of a variable. "
   ]
  },
  {
   "attachments": {},
   "cell_type": "markdown",
   "id": "endangered-credits",
   "metadata": {},
   "source": [
    "We can formally express it in matrix notation as:\n",
    "\n",
    "$$\n",
    "Y_{sl} = \\textbf{W} Y\n",
    "$$\n",
    "\n",
    "or, in individual notation as:\n",
    "\n",
    "$$\n",
    "y_{sl-i} = \\sum_j w_{ij} y_j\n",
    "$$\n",
    "\n",
    "where $w_{ij}$ is the cell in $\\textbf{W}$ on the $i$-th row and $j$-th column, thus capturing the spatial relationship between observations $i$ and $j$. $y_{sl-i}$ thus captures the product of the values and weights of each observation other than $i$ in the dataset. Because non-neighbors receive a weight of zero, $y_{sl-i}$ really captures the product of values and weights for $i$'s neighbors. If $\\textbf{W}$ is binary, this will amount to the sum of the values of $i$'s neighbors (useful in some contexts, such as studies of market potential); if $W$ is row standardized, a common transformation, then $w_{ij}$ is bounded between zero and one; the spatial lag thus then becomes a \"local average,\" the average value of $Y$ in the neighborhood of each observation $i$. This latter meaning is the one that will enable our analysis of spatial autocorrelation below.\n",
    "\n",
    "As we will discover throughout this book, the spatial lag is a key element of many spatial analysis techniques and, as such, it is fully supported in Pysal. To compute the spatial lag of a given variable, `Pct_Leave` for example, we can do it as follows:"
   ]
  },
  {
   "cell_type": "code",
   "execution_count": null,
   "id": "hundred-conference",
   "metadata": {},
   "outputs": [],
   "source": [
    "db[\"Pct_Leave_lag\"] = weights.spatial_lag.lag_spatial(\n",
    "    w, db[\"Pct_Leave\"]\n",
    ")"
   ]
  },
  {
   "attachments": {},
   "cell_type": "markdown",
   "id": "iraqi-computer",
   "metadata": {},
   "source": [
    "Let us peek into two local authority districts to get a better intuition of what is behind the spatial lag:"
   ]
  },
  {
   "cell_type": "code",
   "execution_count": null,
   "id": "auburn-passage",
   "metadata": {},
   "outputs": [],
   "source": [
    "db.loc[[\"E08000012\", \"S12000019\"], [\"Pct_Leave\", \"Pct_Leave_lag\"]]"
   ]
  },
  {
   "attachments": {},
   "cell_type": "markdown",
   "id": "superb-polls",
   "metadata": {},
   "source": [
    "The first row (`E08000012`) represents Liverpool, which was a notorious \"Remainer\" island among the mostly-Leave North of England. Outside of London and Scotland, it was one of the few locations with less than majority to Leave. The second row (`S12000019`) represents Midlothian, in Scotland, where no local authority voted to leave. Although both Liverpool and Midlothian display a similar percentage of population who voted to leave (42% and 38%, respectively), the difference in their spatial lags captures the wider geographical context, which are quite different.\n",
    "\n",
    "To end this section visually, the smoothing nature of the lag can be appreciated in the following map comparison in Figure 2."
   ]
  },
  {
   "cell_type": "code",
   "execution_count": null,
   "id": "caroline-venezuela",
   "metadata": {
    "caption": "Vote to leave the EU and its spatial lag.",
    "tags": []
   },
   "outputs": [],
   "source": [
    "f, axs = plt.subplots(1, 2, figsize=(12, 6))\n",
    "ax1, ax2 = axs\n",
    "\n",
    "db.plot(\n",
    "    column=\"Pct_Leave\",\n",
    "    cmap=\"viridis\",\n",
    "    scheme=\"quantiles\",\n",
    "    k=5,\n",
    "    edgecolor=\"white\",\n",
    "    linewidth=0.0,\n",
    "    alpha=0.75,\n",
    "    legend=True,\n",
    "    ax=ax1,\n",
    ")\n",
    "ax1.set_axis_off()\n",
    "ax1.set_title(\"% Leave\")\n",
    "contextily.add_basemap(\n",
    "    ax1,\n",
    "    crs=db.crs,\n",
    "    source=contextily.providers.Stamen.TerrainBackground,\n",
    ")\n",
    "\n",
    "db.plot(\n",
    "    column=\"Pct_Leave_lag\",\n",
    "    cmap=\"viridis\",\n",
    "    scheme=\"quantiles\",\n",
    "    k=5,\n",
    "    edgecolor=\"white\",\n",
    "    linewidth=0.0,\n",
    "    alpha=0.75,\n",
    "    legend=True,\n",
    "    ax=ax2,\n",
    ")\n",
    "ax2.set_axis_off()\n",
    "ax2.set_title(\"% Leave - Spatial Lag\")\n",
    "contextily.add_basemap(\n",
    "    ax2,\n",
    "    crs=db.crs,\n",
    "    source=contextily.providers.Stamen.TerrainBackground,\n",
    ")\n",
    "\n",
    "plt.show()"
   ]
  },
  {
   "attachments": {},
   "cell_type": "markdown",
   "id": "separate-forth",
   "metadata": {},
   "source": [
    "The stark differences on the left between immediate neighbors (as in the case of Liverpool, in the NW of England) are diminished in the map on the right. Thus, as discussed above, the spatial lag can also smooth out the differences between nearby observations. "
   ]
  },
  {
   "attachments": {},
   "cell_type": "markdown",
   "id": "editorial-system",
   "metadata": {},
   "source": [
    "### Binary case: join counts\n",
    "\n",
    "The spatial lag plays an important role in quantifying spatial autocorrelation. Using it, we can begin to relate the behavior of a variable at a given location to its pattern in the immediate neighborhood. Measures of global spatial autocorrelation will then use each observation to construct overall measures about the general trend in a given dataset. \n",
    "\n",
    "Our first dip into these measures considers a simplified case: binary values. This occurs when the variable we are interested in only takes two values. In this context, we are interested in whether a given observation is surrounded by others within the same category. For example, returning to our dataset, we want to assess the extent to which local authorities who voted to Leave tend to be surrounded by others who also voted to leave. To proceed, let us first calculate a binary variable (`Leave`) that indicates 1 if the local authority voted to leave, and zero otherwise:"
   ]
  },
  {
   "cell_type": "code",
   "execution_count": null,
   "id": "fuzzy-orientation",
   "metadata": {},
   "outputs": [],
   "source": [
    "db[\"Leave\"] = (db[\"Pct_Leave\"] > 50).astype(int)\n",
    "db[[\"Pct_Leave\", \"Leave\"]].tail()"
   ]
  },
  {
   "attachments": {},
   "cell_type": "markdown",
   "id": "prerequisite-challenge",
   "metadata": {},
   "source": [
    "Which we can visualize readily in Figure 3: "
   ]
  },
  {
   "cell_type": "code",
   "execution_count": null,
   "id": "extra-return",
   "metadata": {
    "caption": "Places with a majority voting leave in the Brexit vote",
    "tags": []
   },
   "outputs": [],
   "source": [
    "f, ax = plt.subplots(1, figsize=(9, 9))\n",
    "db.plot(\n",
    "    ax=ax,\n",
    "    column=\"Leave\",\n",
    "    categorical=True,\n",
    "    legend=True,\n",
    "    edgecolor=\"0.5\",\n",
    "    linewidth=0.25,\n",
    "    cmap=\"Set3\",\n",
    "    figsize=(9, 9),\n",
    ")\n",
    "ax.set_axis_off()\n",
    "ax.set_title(\"Leave Majority\")\n",
    "plt.axis(\"equal\")\n",
    "plt.show()"
   ]
  },
  {
   "attachments": {},
   "cell_type": "markdown",
   "id": "apparent-sally",
   "metadata": {},
   "source": [
    "Visually, it appears that the map represents a clear case of positive spatial autocorrelation: overall, there are few visible cases where a given observation is surrounded by others in the opposite category. To formally explore this initial assessment, we can use what is called a \"join count\" statistic (JC; {cite}`Cliff1981spatial`). Imagine a checkerboard with green (G, value 0) and yellow (Y, value 1) squares. The idea of the statistic is to count occurrences of green-green (GG), yellow-yellow (YY), or green-yellow/yellow-green (GY) joins (or neighboring pairs) on the map. In this context, both GG and YY reflect positive spatial autocorrelation, while GY captures its negative counterpart. The intuition of the statistic is to provide a baseline of how many GG, YY, and GY one would expect under the case of complete spatial randomness, and to compare this with the observed counts in the dataset. A situation where we observe more GG/YY than expected and less GY than expected would suggest positive spatial autocorrelation; while the opposite, more GY than GG/YY, would point towards negative spatial autocorrelation.\n",
    "\n",
    "Since the spatial weights are only used here to delimit who is a neighbor or not, the join count statistic requires binary weights. Let us thus transform `w` back to a non-standardized state:"
   ]
  },
  {
   "cell_type": "code",
   "execution_count": null,
   "id": "needed-editing",
   "metadata": {},
   "outputs": [],
   "source": [
    "w.transform"
   ]
  },
  {
   "cell_type": "code",
   "execution_count": null,
   "id": "offshore-focus",
   "metadata": {},
   "outputs": [],
   "source": [
    "w.transform = \"O\""
   ]
  },
  {
   "cell_type": "code",
   "execution_count": null,
   "id": "demonstrated-medicare",
   "metadata": {},
   "outputs": [],
   "source": [
    "w.transform"
   ]
  },
  {
   "attachments": {},
   "cell_type": "markdown",
   "id": "declared-andrew",
   "metadata": {},
   "source": [
    "We can compute the statistic as:"
   ]
  },
  {
   "cell_type": "code",
   "execution_count": null,
   "id": "worldwide-cardiff",
   "metadata": {},
   "outputs": [],
   "source": [
    "seed(1234)\n",
    "jc = esda.join_counts.Join_Counts(db[\"Leave\"], w)\n",
    "jc"
   ]
  },
  {
   "attachments": {},
   "cell_type": "markdown",
   "id": "ruled-financing",
   "metadata": {},
   "source": [
    "As it is common throughout Pysal, we are creating an object (`jc`) that holds a lot of information beyond the value of the statistic calculated. For example, we can check how many occurrences of GG we have (note the attribute is `bb`, which originates from the original reference where the two considered classes were black and white):"
   ]
  },
  {
   "cell_type": "code",
   "execution_count": null,
   "id": "threatened-denver",
   "metadata": {},
   "outputs": [],
   "source": [
    "jc.bb"
   ]
  },
  {
   "attachments": {},
   "cell_type": "markdown",
   "id": "historic-vocabulary",
   "metadata": {},
   "source": [
    "how many YY occurrences our map has:"
   ]
  },
  {
   "cell_type": "code",
   "execution_count": null,
   "id": "sophisticated-interaction",
   "metadata": {},
   "outputs": [],
   "source": [
    "jc.ww"
   ]
  },
  {
   "attachments": {},
   "cell_type": "markdown",
   "id": "essential-break",
   "metadata": {},
   "source": [
    "and how many GY/YG we find:"
   ]
  },
  {
   "cell_type": "code",
   "execution_count": null,
   "id": "surprised-evans",
   "metadata": {},
   "outputs": [],
   "source": [
    "jc.bw"
   ]
  },
  {
   "attachments": {},
   "cell_type": "markdown",
   "id": "legitimate-vulnerability",
   "metadata": {},
   "source": [
    "The sum of the three types of joins gives us the total number of comparisons:"
   ]
  },
  {
   "cell_type": "code",
   "execution_count": null,
   "id": "capital-marina",
   "metadata": {},
   "outputs": [],
   "source": [
    "jc.bb + jc.ww + jc.bw"
   ]
  },
  {
   "cell_type": "code",
   "execution_count": null,
   "id": "cheap-label",
   "metadata": {},
   "outputs": [],
   "source": [
    "jc.J"
   ]
  },
  {
   "attachments": {},
   "cell_type": "markdown",
   "id": "scenic-symphony",
   "metadata": {},
   "source": [
    "The statistic is based on comparing the actual number of joins of each class (`bb`, `ww`, `bc`) with what one would expect in a case of spatial randomness. Those expectations can be accessed as well, for the GG/YY case:"
   ]
  },
  {
   "cell_type": "code",
   "execution_count": null,
   "id": "federal-alcohol",
   "metadata": {},
   "outputs": [],
   "source": [
    "jc.mean_bb"
   ]
  },
  {
   "attachments": {},
   "cell_type": "markdown",
   "id": "correct-product",
   "metadata": {},
   "source": [
    "and for GY joins:"
   ]
  },
  {
   "cell_type": "code",
   "execution_count": null,
   "id": "advisory-right",
   "metadata": {},
   "outputs": [],
   "source": [
    "jc.mean_bw"
   ]
  },
  {
   "attachments": {},
   "cell_type": "markdown",
   "id": "supported-cornwall",
   "metadata": {},
   "source": [
    "Statistical inference to obtain a sense of whether these values are likely to come from random chance or not can be accessed using random spatial permutations of the observed values to create synthetic maps under the null hypothesis of complete spatial randomness. `esda` generates 999 such synthetic patterns and then uses the distribution of join counts from these patterns to generate  pseudo-$p$-values for our observed join count statistics:"
   ]
  },
  {
   "cell_type": "code",
   "execution_count": null,
   "id": "healthy-wonder",
   "metadata": {},
   "outputs": [],
   "source": [
    "jc.p_sim_bb"
   ]
  },
  {
   "cell_type": "code",
   "execution_count": null,
   "id": "sunset-brake",
   "metadata": {},
   "outputs": [],
   "source": [
    "jc.p_sim_bw"
   ]
  },
  {
   "attachments": {},
   "cell_type": "markdown",
   "id": "personalized-movie",
   "metadata": {},
   "source": [
    "These results point to a clear presence of positive spatial autocorrelation, as there are a lot more joins of pairs in the same category than one would expect (`p_sim_bb`) and significantly less of opposite joins (`p_sim_bw`). We will discuss the generation of the pseudo-$p$-values in more detail in the next section."
   ]
  },
  {
   "attachments": {},
   "cell_type": "markdown",
   "id": "chubby-civilian",
   "metadata": {},
   "source": [
    "### Continuous case: Moran Plot and Moran's I\n",
    "\n",
    "Once we have built some intuition around how spatial autocorrelation can be\n",
    "formally assessed in the binary case, let us move to situations where the\n",
    "variable of interest does not only take two values, but is instead continuous.\n",
    "Probably the most commonly used statistic in this context is Moran's I {cite}`Moran1948`, which can be written as:\n",
    "\n",
    "$$\n",
    "I = \\dfrac{n}{\\sum_i\\sum_j w_{ij}} \\dfrac{\\sum_i\\sum_j w_{ij} \\, z_i \\, z_j}{\\sum_i z_i^2}\n",
    "$$\n",
    "\n",
    "where $n$ is the  number of observations, $z_{i}$ is the standardized value of the variable of interest at location $i$, and $w_{ij}$ is the cell corresponding to the $i$-th row and $j$-th column of a $W$ spatial weights matrix.\n",
    "\n",
    "In order to understand the intuition behind its math, it is useful to begin with a graphical interpretation: the Moran Plot. The Moran Plot is a way of visualizing a spatial dataset to explore the nature and strength of spatial autocorrelation. It is essentially a traditional scatter plot in which the variable of interest is displayed against its *spatial lag*. In order to be able to interpret values as above or below the mean, the variable of interest is usually standardized by subtracting its mean:"
   ]
  },
  {
   "cell_type": "code",
   "execution_count": null,
   "id": "remarkable-repository",
   "metadata": {},
   "outputs": [],
   "source": [
    "db[\"Pct_Leave_std\"] = db[\"Pct_Leave\"] - db[\"Pct_Leave\"].mean()\n",
    "db[\"Pct_Leave_lag_std\"] = weights.lag_spatial(\n",
    "    w, db[\"Pct_Leave_std\"]\n",
    ")"
   ]
  },
  {
   "attachments": {},
   "cell_type": "markdown",
   "id": "level-clone",
   "metadata": {},
   "source": [
    "Technically speaking, creating a Moran Plot is very similar to creating any other scatterplot in Python. We will make one for Figure 4."
   ]
  },
  {
   "cell_type": "code",
   "execution_count": null,
   "id": "greatest-castle",
   "metadata": {
    "caption": "Brexit vote, % leave Moran Scatterplot.",
    "tags": []
   },
   "outputs": [],
   "source": [
    "f, ax = plt.subplots(1, figsize=(6, 6))\n",
    "seaborn.regplot(\n",
    "    x=\"Pct_Leave_std\",\n",
    "    y=\"Pct_Leave_lag_std\",\n",
    "    ci=None,\n",
    "    data=db,\n",
    "    line_kws={\"color\": \"r\"},\n",
    ")\n",
    "ax.axvline(0, c=\"k\", alpha=0.5)\n",
    "ax.axhline(0, c=\"k\", alpha=0.5)\n",
    "ax.set_title(\"Moran Plot - % Leave\")\n",
    "plt.show()"
   ]
  },
  {
   "attachments": {},
   "cell_type": "markdown",
   "id": "worst-liverpool",
   "metadata": {},
   "source": [
    "The figure above displays the relationship between the standardized \"Leave\" voting percentage in a local authority and its spatial lag which, because the $W$ used is row-standardized, can be interpreted as the average standardized density of the percent Leave vote in the neighborhood of each observation. In order to guide the interpretation of the plot, a linear fit is also included. This line represents the best linear fit to the scatterplot or, in other words, what is the best way to represent the relationship between the two variables as a straight line."
   ]
  },
  {
   "attachments": {},
   "cell_type": "markdown",
   "id": "impressed-universe",
   "metadata": {},
   "source": [
    "The plot displays a positive relationship between both variables. This is indicates the presence of positive spatial autocorrelation: similar values tend to be located close to each other. This means that the overall trend is for high values to be close to other high values, and for low values to be surrounded by other low values. This, however, does not mean that this is the only case in the dataset: there can of course be particular situations where high values are surrounded by low ones, and vice versa. But it means that, if we had to summarize the main pattern of the data in terms of how clustered similar values are, the best way would be to say they are positively correlated and, hence, clustered over space. In the context of the example, this can be interpreted along the lines of: local authorities where people voted in high proportion to leave the EU tend to be located nearby other regions that also registered high proportions of Leave vote. In other words, we can say the percentage of Leave votes is spatially autocorrelated in a positive way.\n",
    "\n",
    "The Moran Plot is an excellent tool to explore the data and get a good sense of how much values are clustered over space. However, because it is a graphical device, it is sometimes hard to condense its insights into a more concise way. For these cases, a good approach is to come up with a statistical measure that summarizes the figure. This is exactly what Moran's I, as formally expressed above, is meant to do.\n",
    "\n",
    "Very much in the same way the mean summarizes a crucial element of the distribution of values in a non-spatial setting, so does Moran's I for a spatial dataset. Continuing the comparison, we can think of the mean as a single numerical value summarizing a histogram or a kernel density plot. Similarly, Moran's I captures much of the essence of the Moran Plot. In fact, there is a close connection between the two: the value of Moran's I corresponds with the slope of the linear fit overlayed on top of the Moran Plot.\n",
    "\n",
    "In order to calculate Moran's I in our dataset, we can call a specific function in `esda` directly (before that, let us row standardize the `w` object again):"
   ]
  },
  {
   "cell_type": "code",
   "execution_count": null,
   "id": "meaningful-rally",
   "metadata": {},
   "outputs": [],
   "source": [
    "w.transform = \"R\"\n",
    "moran = esda.moran.Moran(db[\"Pct_Leave\"], w)"
   ]
  },
  {
   "attachments": {},
   "cell_type": "markdown",
   "id": "distributed-dividend",
   "metadata": {},
   "source": [
    "The method `Moran` creates an object that contains much more information than the actual statistic. If we want to retrieve the value of the statistic, we can do it this way:"
   ]
  },
  {
   "cell_type": "code",
   "execution_count": null,
   "id": "finished-manner",
   "metadata": {},
   "outputs": [],
   "source": [
    "moran.I"
   ]
  },
  {
   "attachments": {},
   "cell_type": "markdown",
   "id": "dominican-insert",
   "metadata": {},
   "source": [
    "The other bit of information we will extract from Moran's I relates to statistical inference: could the pattern we observe in the map (and that measured by Moran's $I$) have arisen purely from randomness? If we considered the same variable but shuffled its locations randomly, would we obtain a map with similar characteristics? To obtain insight into these questions, `esda` performs a simulation and returns a measure of certainty about how likely it is to obtain a pattern like the one we observe under a spatially random process.  This is summarized in the `p_sim` attribute:"
   ]
  },
  {
   "cell_type": "code",
   "execution_count": null,
   "id": "organized-ready",
   "metadata": {},
   "outputs": [],
   "source": [
    "moran.p_sim"
   ]
  },
  {
   "attachments": {},
   "cell_type": "markdown",
   "id": "extensive-radio",
   "metadata": {},
   "source": [
    "The value is calculated as an empirical p-value that represents the proportion of realizations in the simulation under spatial randomness that are more extreme than the observed value. A small enough p-value associated with the Moran's I of a map allows to reject the hypothesis that the map is random. In other words, we can conclude that the map displays more spatial pattern than we would expect if the values had been randomly allocated to a locations.\n",
    "\n",
    "That is a very low value, particularly considering it is actually the minimum value we could have obtained given the simulation behind it used 999 permutations (default in `esda`) and, by standard terms, it would be deemed statistically significant. We can elaborate a bit further on the intuition behind the value of `p_sim`. If we generated a large number of maps with the same values but randomly allocated over space, and calculated the Moran's I statistic for each of those maps, only 0.01% of them would display a larger (absolute) value than the one we obtain from the observed data, and the other 99.99% of the random maps would receive a smaller (absolute) value of Moran's I. If we remember again that the value of Moran's I can also be interpreted as the slope of the Moran Plot, what we have is that, in this case, the particular spatial arrangement of values over space we observe for the percentage of Leave votes is more concentrated than if we were to randomly shuffle the vote proportions among the map, hence the statistical significance. As a first step, the global autocorrelation analysis can teach us that observations do seem to be positively autocorrelated over space. Indeed, the overall spatial pattern in the EU Referendum vote was highly marked: nearby areas tended to vote alike.\n",
    "\n",
    "Thanks to the `splot` visualization module in Pysal, we can obtain a quick representation of the statistic that combines the Moran scatterplot we saw before with a graphic of the empirical test that we carry out to obtain `p_sim`. This is shown in Figure 5."
   ]
  },
  {
   "cell_type": "code",
   "execution_count": null,
   "id": "legislative-stable",
   "metadata": {
    "caption": "Brexit vote, Moran's I replicate distribution and Scatterplot.",
    "tags": []
   },
   "outputs": [],
   "source": [
    "plot_moran(moran);"
   ]
  },
  {
   "attachments": {},
   "cell_type": "markdown",
   "id": "palestinian-fraud",
   "metadata": {},
   "source": [
    "On the left panel we can see in grey the empirical distribution generated from simulating 999 random maps with the values of the `Pct_Leave` variable and then calculating Moran's I for each of those maps. The blue rug signals the mean. In contrary, the red rug shows Moran's I calculated for the variable using the geography observed in the dataset. It is clear the value under the observed pattern is significantly higher than under randomness. This insight is confirmed on the right panel, which shows an equivalent plot to the Moran Scatterplot we created above."
   ]
  },
  {
   "attachments": {},
   "cell_type": "markdown",
   "id": "missing-hindu",
   "metadata": {},
   "source": [
    "### Other global indices\n",
    "\n",
    "Moran's I is probably the most widely used statistic for global spatial autocorrelation; however, it is not the only one. In this final part of the chapter, we introduce two additional measures that are common in applied work. Although they all consider spatial autocorrelation, they differ in how the concept is tackled in the specification of each test.\n",
    "\n",
    "#### Geary's C\n",
    "\n",
    "The contiguity ratio $c$, proposed by {cite}`Geary1954contiguity`, is given by:\n",
    "\n",
    "$$\n",
    "C = \\dfrac{(n-1)}\n",
    "          {2 \\sum_i \\sum_j w_{ij}} \n",
    "    \\dfrac{\\sum_i \\sum_j w_{ij} (y_i - y_{j})^2}\n",
    "          {\\sum_i (y_i - \\bar{y})^2}\n",
    "$$"
   ]
  },
  {
   "attachments": {},
   "cell_type": "markdown",
   "id": "visible-allah",
   "metadata": {},
   "source": [
    "where $n$ is the number of observations, $w_{ij}$ is the cell in a binary matrix $W$ expressing whether $i$ and $j$ are neighbors ($w_{ij}=1$) or not ($w_{ij}=1$), $y_i$ is the $i$-th observation of the variable of interest, and $\\bar{y}$ is its sample mean. When compared to Moran's I, it is apparent both measures compare the relationship of $Y$ within each observation's local neighborhood to that over the entire sample. However, there are also subtle differences. While Moran's I takes cross-products on the standardized values, Geary's C uses differences on the values without any standardization. \n",
    "\n",
    "Computationally, Geary's C is more demanding, but it can be easily computed using `esda`:"
   ]
  },
  {
   "cell_type": "code",
   "execution_count": null,
   "id": "governing-luxembourg",
   "metadata": {},
   "outputs": [],
   "source": [
    "geary = esda.geary.Geary(db[\"Pct_Leave\"], w)"
   ]
  },
  {
   "attachments": {},
   "cell_type": "markdown",
   "id": "injured-accreditation",
   "metadata": {},
   "source": [
    "Which has a similar way of accessing its estimate:"
   ]
  },
  {
   "cell_type": "code",
   "execution_count": null,
   "id": "endless-affair",
   "metadata": {},
   "outputs": [],
   "source": [
    "geary.C"
   ]
  },
  {
   "attachments": {},
   "cell_type": "markdown",
   "id": "lucky-panel",
   "metadata": {},
   "source": [
    "Inference is performed in a similar way as with Moran's I. We can perform a simulation that allows us to draw an empirical distribution of the statistic under the null of spatial randomness, and then compare it with the statistic obtained when using the observed geographical distribution of the data. To access the pseudo-$p$-value, calculated as in the Moran case, we can call `p_sim`:"
   ]
  },
  {
   "cell_type": "code",
   "execution_count": null,
   "id": "raised-pixel",
   "metadata": {},
   "outputs": [],
   "source": [
    "geary.p_sim"
   ]
  },
  {
   "attachments": {},
   "cell_type": "markdown",
   "id": "exposed-collar",
   "metadata": {},
   "source": [
    "In this case, Geary's C points in the same direction as Moran's I: there is clear indication that the statistic we calculate on the observed dataset is different from what would be expected in a situation of pure spatial randomness. Hence, from this analysis, we can also conclude spatial autocorrelation is present."
   ]
  },
  {
   "attachments": {},
   "cell_type": "markdown",
   "id": "going-infrastructure",
   "metadata": {},
   "source": [
    "#### Getis and Ord's G\n",
    "\n",
    "Originally proposed by {cite}`Getis1992analysis`, the $G$ is the global version of a family of statistics of spatial autocorrelation based on distance. The $G$ class of statistics is conceived for points, hence the use of a distance $W$, but it can also be applied to polygon data if a binary spatial weights matrix can be constructed. Additionally, it is designed for the study of positive variables with a natural origin. The $G$ can be expressed as follows:\n",
    "\n",
    "$$\n",
    "G(d) = \\dfrac{ \\sum_i \\sum_j w_{ij}(d) \\, y_i \\, y_j }\n",
    "             { \\sum_i \\sum_j y_i \\, y_j }\n",
    "$$\n",
    "\n",
    "where $w_{ij}(d)$ is the binary weight assigned on the relationship between observations $i$ and $j$ following a distance band criterion. $G$ was originally proposed as a measure of concentration rather than of spatial autocorrelation. As such, it is well suited to test to what extent similar values (either high or low) tend to co-locate. In other words, the $G$ is a statistic of *positive* spatial autocorrelation. This is usually the interest in most Geographic Data Science applications. However, it is important to note that, because $G$ can be understood as a measure of the intensity with which $Y$ is concentrated, the statistic is not able to pick up cases of *negative* spatial autocorrelation.\n",
    "\n",
    "To illustrate its computation, let us calculate a binary distance band $W$. To make sure every observation has at least one neighbor, we will use the `min_threshold_distance` method and project the dataset into the Ordnance Survey CRS (`EPSG` code 27700), expressed in meters:"
   ]
  },
  {
   "cell_type": "code",
   "execution_count": null,
   "id": "surgical-paraguay",
   "metadata": {},
   "outputs": [],
   "source": [
    "db_osgb = db.to_crs(epsg=27700)\n",
    "pts = db_osgb.centroid\n",
    "xys = pandas.DataFrame({\"X\": pts.x, \"Y\": pts.y})\n",
    "min_thr = weights.util.min_threshold_distance(xys)\n",
    "min_thr"
   ]
  },
  {
   "attachments": {},
   "cell_type": "markdown",
   "id": "sixth-married",
   "metadata": {},
   "source": [
    "For every local authority to have a neighbor, the distance band needs to at least be about 181 kilometers. This information can then be passed to the `DistanceBand` constructor:"
   ]
  },
  {
   "cell_type": "code",
   "execution_count": null,
   "id": "anticipated-alloy",
   "metadata": {},
   "outputs": [],
   "source": [
    "w_db = weights.DistanceBand.from_dataframe(db_osgb, min_thr)"
   ]
  },
  {
   "attachments": {},
   "cell_type": "markdown",
   "id": "perceived-participation",
   "metadata": {},
   "source": [
    "At this point, we are ready to calculate the global $G$ statistic:"
   ]
  },
  {
   "cell_type": "code",
   "execution_count": null,
   "id": "together-operation",
   "metadata": {},
   "outputs": [],
   "source": [
    "gao = esda.getisord.G(db[\"Pct_Leave\"], w_db)"
   ]
  },
  {
   "attachments": {},
   "cell_type": "markdown",
   "id": "electrical-adjustment",
   "metadata": {},
   "source": [
    "Access to the statistic (`gao.G`) and additional attributes can be gained in the same way as with the previous statistics:"
   ]
  },
  {
   "cell_type": "code",
   "execution_count": null,
   "id": "elect-fight",
   "metadata": {},
   "outputs": [],
   "source": [
    "print(\n",
    "    \"Getis & Ord G: %.3f | Pseudo P-value: %.3f\" % (gao.G, gao.p_sim)\n",
    ")"
   ]
  },
  {
   "attachments": {},
   "cell_type": "markdown",
   "id": "essential-canberra",
   "metadata": {},
   "source": [
    "Similarly, inference can also be carried out by relying on computational simulations that replicate several instances of spatial randomness using the values in the variable of interest, but shuffling their locations. In this case, the pseudo-$p$-value computed suggests a clear departure from the hypothesis of no concentration.\n"
   ]
  },
  {
   "attachments": {},
   "cell_type": "markdown",
   "id": "opposed-warrior",
   "metadata": {},
   "source": [
    "## Questions\n",
    "\n",
    "1. Return to the original `ref` table and pull out the `Pct_Rejected`\n",
    "   variable. Let us explore patterns in rejected votes:\n",
    "    a. Create a choropleth displaying the spatial distribution of `Pct_Rejected`.\n",
    "    b. Build a spatial weights matrix with eight nearest neighbors for the Local Authorities.\n",
    "    c. Create a Moran Scatterplot relating `Pct_Rejected` to its spatial lag.\n",
    "    d. Calculate Moran's $I$ for `Pct_Rejected`.\n",
    "    e. Interpret what you find through this Moran's analysis. What do we learn about the geography of vote rejection?\n",
    "2. Sometimes referendums require more than 50% to make the change they ask\n",
    "   about. Let us imagine the EU referendum required 60% to succeed on leaving\n",
    "   the EU.\n",
    "    a. Use `Pct_Leave` to create a binary variable that takes a value of 1 if the percentage was larger than 60, 0 otherwise.\n",
    "    b. Create a choropleth with the newly created variable. Are there any differences in the geographical pattern of the vote to leave the EU?\n",
    "    c. Recompute the Join Counts statistic for this new variable. What can we conclude? Are there any notable changes in the extent to which \"Leave\" votes were distributed spatially?\n",
    "3. Let us explore the effect of different weights matrices by returning to the\n",
    "   global analysis we performed for the `Leave` variable.\n",
    "    a. Create two additional KNN weights to those already built, one with four neighbors (you may call it `wk4`) and one with 12 neighbors (`wk12`)\n",
    "    b. Create a choropleth that displays the spatial lag of `Pct_Leave` using each of the two new matrices. How are they different? Why?\n",
    "    c. Now generate Moran Scatterplots using `wk4` and `wk12`. Do they differ from the one we created earlier in the chapter? How? Why?\n",
    "    d. Calculate Moran's I using all of the matrices and similarly compare results.\n",
    "4. Using the same spatial weights matrix throughout, calculate the following\n",
    "   statistics of global spatial autocorrelation for the `Pct_Rejected`\n",
    "   variable:\n",
    "    - Moran's $I$\n",
    "    - Geary's $C$\n",
    "    - Getis and Ord's $G$\n",
    "\n",
    "   Describe the results. Do you draw substantially different conclusions from\n",
    "   each statistic? If so, why?\n",
    "5. Drawing from the results found in Question 3 and your intuition, try to\n",
    "   generalize the effect of a larger number of neighbors (i.e., a more densely\n",
    "   connected graph) in the spatial weights matrix when exploring global\n",
    "   spatial autocorrelation.\n",
    "6. Think whether it is possible to find cases when Moran's I and Getis and Ord's\n",
    "   G disagree substantially. What could drive such a result? What does that\n",
    "   mean for the use and interpretation of both statistics?\n",
    "7. Using $k$-nearest neighbor weights, can you find the $k$ where Moran's $I$ is largest? Make a plot of the Moran's $I$ for each $k$ you evaluate to show the relationship between the two.  \n",
    "8. As in the previous question, at what value of $k$ is the Geary's $C$ largest?\n",
    "\n",
    "##  Next steps\n",
    "\n",
    "For a timeless conceptual overview to the approaches of spatial data analysis, consult {cite}`anselin1989special`:\n",
    "\n",
    "\"What is special about spatial data? Alternative perspectives on spatial data analysis.\" UC Santa Barbara: National Center for Geographic Information and Analysis.\n",
    "\n",
    "The GIS body of knowledge represents a large set of collected knowledge by geographers across many different domains. Thus, the GISBoK, as it's called, has a very good introductory discussion of global measures of spatial association, too. {cite}`wu2019global`:\n",
    "\n",
    "Global Measures of Spatial Association. *The Geographic Information Science & Technology Body of Knowledge (1st Quarter 2019 Edition)*, John P. Wilson (Ed.). DOI: 10.22224/gistbok/2019.1.12\n",
    "\n",
    "Finally, a more personal, reflective perspective is offered by longstanding quantitative geographer Art Getis in his piece {cite}`getis2007reflections`:\n",
    "\n",
    "\"Reflections on spatial autocorrelation.\" *Regional Science & Urban Economics*, 37: 491-496. DOI: 10.1016/j.regsciurbeco.2007.04.005 "
   ]
  }
 ],
 "metadata": {
  "jupytext": {
   "formats": "ipynb,md"
  },
  "kernelspec": {
   "display_name": "tfm",
   "language": "python",
   "name": "tfm"
  },
  "language_info": {
   "codemirror_mode": {
    "name": "ipython",
    "version": 3
   },
   "file_extension": ".py",
   "mimetype": "text/x-python",
   "name": "python",
   "nbconvert_exporter": "python",
   "pygments_lexer": "ipython3",
   "version": "3.9.16"
  }
 },
 "nbformat": 4,
 "nbformat_minor": 5
}
