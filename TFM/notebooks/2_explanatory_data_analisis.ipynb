{
 "cells": [
  {
   "cell_type": "markdown",
   "metadata": {},
   "source": [
    "<a name=\"top\"> <h1>01.Explanatory Data Analisis and Variable Selection </h1> <a>\n",
    "\n",
    "<p>Geospatial Analysis of the 2023 Earthquakes in Turkey<br />\n",
    "<strong>Master Thesis</strong><br />\n",
    "<strong>Master of Data Science</strong></p>\n",
    "\n",
    "\n",
    "<p style=\"text-align:right\">Gozde Yazganoglu (<em>gozde.yazganoglu@cunef.edu</em>)</p>"
   ]
  },
  {
   "cell_type": "markdown",
   "metadata": {},
   "source": [
    "<a class=\"anchor\" id=\"0.1\"></a>\n",
    "\n",
    "## Table of Contents\n",
    "\n",
    "1. [Introduction](#1)\n",
    "1. [Importing libraries](#2)\n",
    "1. [Reading the data and Profiling](#3)\n",
    "1. [Variables](#4)\n",
    "1. [Visualization of the result of geostatistical data interpolation](#5)\n",
    "1. [Saving data for other notebooks](#6)"
   ]
  },
  {
   "cell_type": "markdown",
   "metadata": {},
   "source": []
  },
  {
   "cell_type": "markdown",
   "metadata": {},
   "source": [
    "## 1. Introduction <a class=\"anchor\" id=\"1\"></a>\n",
    "\n",
    "[Back to Table of Contents](#0.1)\n",
    "\n",
    "In the previous notebook we have collected data and created some geographic variables. In this notebook we will have first glance as if we do in all data projects. \n",
    "\n",
    "Pandas-profiling is a great library to have a broad glance on the data frame and have some initial insights. It gives us quite a lot information including distinct variables, variable type, null and duplicate variables etc. Later we are going to examine important columns and have some more insight."
   ]
  },
  {
   "cell_type": "markdown",
   "metadata": {},
   "source": [
    "## 2. Importing libraries <a class=\"anchor\" id=\"2\"></a>\n",
    "\n",
    "[Back to Table of Contents](#0.1)\n",
    "\n",
    "In this notebook we are using new_geo_env.yaml. In order to run local this file should be installed.\n",
    "\n",
    "We will use some functions from aux_func that is also in this repository.Below we import also the necessary ones."
   ]
  },
  {
   "cell_type": "code",
   "execution_count": 4,
   "metadata": {},
   "outputs": [
    {
     "ename": "KeyError",
     "evalue": "'PolyCollection:kwdoc'",
     "output_type": "error",
     "traceback": [
      "\u001b[0;31m---------------------------------------------------------------------------\u001b[0m",
      "\u001b[0;31mValueError\u001b[0m                                Traceback (most recent call last)",
      "File \u001b[0;32m~/anaconda3/envs/new_geo_env/lib/python3.9/site-packages/matplotlib/_docstring.py:57\u001b[0m, in \u001b[0;36m_ArtistKwdocLoader.__missing__\u001b[0;34m(self, key)\u001b[0m\n\u001b[1;32m     56\u001b[0m \u001b[39mtry\u001b[39;00m:\n\u001b[0;32m---> 57\u001b[0m     \u001b[39mcls\u001b[39m, \u001b[39m=\u001b[39m [\u001b[39mcls\u001b[39m \u001b[39mfor\u001b[39;00m \u001b[39mcls\u001b[39m \u001b[39min\u001b[39;00m _api\u001b[39m.\u001b[39mrecursive_subclasses(Artist)\n\u001b[1;32m     58\u001b[0m             \u001b[39mif\u001b[39;00m \u001b[39mcls\u001b[39m\u001b[39m.\u001b[39m\u001b[39m__name__\u001b[39m \u001b[39m==\u001b[39m name]\n\u001b[1;32m     59\u001b[0m \u001b[39mexcept\u001b[39;00m \u001b[39mValueError\u001b[39;00m \u001b[39mas\u001b[39;00m e:\n",
      "\u001b[0;31mValueError\u001b[0m: too many values to unpack (expected 1)",
      "\nThe above exception was the direct cause of the following exception:\n",
      "\u001b[0;31mKeyError\u001b[0m                                  Traceback (most recent call last)",
      "Cell \u001b[0;32mIn[4], line 2\u001b[0m\n\u001b[1;32m      1\u001b[0m \u001b[39mimport\u001b[39;00m \u001b[39mpandas\u001b[39;00m \u001b[39mas\u001b[39;00m \u001b[39mpd\u001b[39;00m\n\u001b[0;32m----> 2\u001b[0m \u001b[39mimport\u001b[39;00m \u001b[39mmatplotlib\u001b[39;00m\u001b[39m.\u001b[39;00m\u001b[39mpyplot\u001b[39;00m \u001b[39mas\u001b[39;00m \u001b[39mplt\u001b[39;00m\n\u001b[1;32m      3\u001b[0m \u001b[39mimport\u001b[39;00m \u001b[39mgeopandas\u001b[39;00m \u001b[39mas\u001b[39;00m \u001b[39mgpd\u001b[39;00m\n\u001b[1;32m      4\u001b[0m \u001b[39mimport\u001b[39;00m \u001b[39mpickle\u001b[39;00m   \n",
      "File \u001b[0;32m~/anaconda3/envs/new_geo_env/lib/python3.9/site-packages/matplotlib/pyplot.py:61\u001b[0m\n\u001b[1;32m     58\u001b[0m \u001b[39mfrom\u001b[39;00m \u001b[39mmatplotlib\u001b[39;00m \u001b[39mimport\u001b[39;00m _docstring\n\u001b[1;32m     59\u001b[0m \u001b[39mfrom\u001b[39;00m \u001b[39mmatplotlib\u001b[39;00m\u001b[39m.\u001b[39;00m\u001b[39mbackend_bases\u001b[39;00m \u001b[39mimport\u001b[39;00m (\n\u001b[1;32m     60\u001b[0m     FigureCanvasBase, FigureManagerBase, MouseButton)\n\u001b[0;32m---> 61\u001b[0m \u001b[39mfrom\u001b[39;00m \u001b[39mmatplotlib\u001b[39;00m\u001b[39m.\u001b[39;00m\u001b[39mfigure\u001b[39;00m \u001b[39mimport\u001b[39;00m Figure, FigureBase, figaspect\n\u001b[1;32m     62\u001b[0m \u001b[39mfrom\u001b[39;00m \u001b[39mmatplotlib\u001b[39;00m\u001b[39m.\u001b[39;00m\u001b[39mgridspec\u001b[39;00m \u001b[39mimport\u001b[39;00m GridSpec, SubplotSpec\n\u001b[1;32m     63\u001b[0m \u001b[39mfrom\u001b[39;00m \u001b[39mmatplotlib\u001b[39;00m \u001b[39mimport\u001b[39;00m rcParams, rcParamsDefault, get_backend, rcParamsOrig\n",
      "File \u001b[0;32m~/anaconda3/envs/new_geo_env/lib/python3.9/site-packages/matplotlib/figure.py:43\u001b[0m\n\u001b[1;32m     40\u001b[0m \u001b[39mimport\u001b[39;00m \u001b[39mnumpy\u001b[39;00m \u001b[39mas\u001b[39;00m \u001b[39mnp\u001b[39;00m\n\u001b[1;32m     42\u001b[0m \u001b[39mimport\u001b[39;00m \u001b[39mmatplotlib\u001b[39;00m \u001b[39mas\u001b[39;00m \u001b[39mmpl\u001b[39;00m\n\u001b[0;32m---> 43\u001b[0m \u001b[39mfrom\u001b[39;00m \u001b[39mmatplotlib\u001b[39;00m \u001b[39mimport\u001b[39;00m _blocking_input, backend_bases, _docstring, projections\n\u001b[1;32m     44\u001b[0m \u001b[39mfrom\u001b[39;00m \u001b[39mmatplotlib\u001b[39;00m\u001b[39m.\u001b[39;00m\u001b[39martist\u001b[39;00m \u001b[39mimport\u001b[39;00m (\n\u001b[1;32m     45\u001b[0m     Artist, allow_rasterization, _finalize_rasterization)\n\u001b[1;32m     46\u001b[0m \u001b[39mfrom\u001b[39;00m \u001b[39mmatplotlib\u001b[39;00m\u001b[39m.\u001b[39;00m\u001b[39mbackend_bases\u001b[39;00m \u001b[39mimport\u001b[39;00m (\n\u001b[1;32m     47\u001b[0m     DrawEvent, FigureCanvasBase, NonGuiException, MouseButton, _get_renderer)\n",
      "File \u001b[0;32m~/anaconda3/envs/new_geo_env/lib/python3.9/site-packages/matplotlib/projections/__init__.py:55\u001b[0m\n\u001b[1;32m      1\u001b[0m \u001b[39m\"\"\"\u001b[39;00m\n\u001b[1;32m      2\u001b[0m \u001b[39mNon-separable transforms that map from data space to screen space.\u001b[39;00m\n\u001b[1;32m      3\u001b[0m \n\u001b[0;32m   (...)\u001b[0m\n\u001b[1;32m     52\u001b[0m \u001b[39m`matplotlib.projections.polar` may also be of interest.\u001b[39;00m\n\u001b[1;32m     53\u001b[0m \u001b[39m\"\"\"\u001b[39;00m\n\u001b[0;32m---> 55\u001b[0m \u001b[39mfrom\u001b[39;00m \u001b[39m.\u001b[39;00m\u001b[39m.\u001b[39;00m \u001b[39mimport\u001b[39;00m axes, _docstring\n\u001b[1;32m     56\u001b[0m \u001b[39mfrom\u001b[39;00m \u001b[39m.\u001b[39;00m\u001b[39mgeo\u001b[39;00m \u001b[39mimport\u001b[39;00m AitoffAxes, HammerAxes, LambertAxes, MollweideAxes\n\u001b[1;32m     57\u001b[0m \u001b[39mfrom\u001b[39;00m \u001b[39m.\u001b[39;00m\u001b[39mpolar\u001b[39;00m \u001b[39mimport\u001b[39;00m PolarAxes\n",
      "File \u001b[0;32m~/anaconda3/envs/new_geo_env/lib/python3.9/site-packages/matplotlib/axes/__init__.py:2\u001b[0m\n\u001b[1;32m      1\u001b[0m \u001b[39mfrom\u001b[39;00m \u001b[39m.\u001b[39;00m \u001b[39mimport\u001b[39;00m _base\n\u001b[0;32m----> 2\u001b[0m \u001b[39mfrom\u001b[39;00m \u001b[39m.\u001b[39;00m\u001b[39m_axes\u001b[39;00m \u001b[39mimport\u001b[39;00m \u001b[39m*\u001b[39m\n\u001b[1;32m      4\u001b[0m \u001b[39m# Backcompat.\u001b[39;00m\n\u001b[1;32m      5\u001b[0m \u001b[39mfrom\u001b[39;00m \u001b[39m.\u001b[39;00m\u001b[39m_axes\u001b[39;00m \u001b[39mimport\u001b[39;00m Axes \u001b[39mas\u001b[39;00m Subplot\n",
      "File \u001b[0;32m~/anaconda3/envs/new_geo_env/lib/python3.9/site-packages/matplotlib/axes/_axes.py:24\u001b[0m\n\u001b[1;32m     22\u001b[0m \u001b[39mimport\u001b[39;00m \u001b[39mmatplotlib\u001b[39;00m\u001b[39m.\u001b[39;00m\u001b[39mpatches\u001b[39;00m \u001b[39mas\u001b[39;00m \u001b[39mmpatches\u001b[39;00m\n\u001b[1;32m     23\u001b[0m \u001b[39mimport\u001b[39;00m \u001b[39mmatplotlib\u001b[39;00m\u001b[39m.\u001b[39;00m\u001b[39mpath\u001b[39;00m \u001b[39mas\u001b[39;00m \u001b[39mmpath\u001b[39;00m\n\u001b[0;32m---> 24\u001b[0m \u001b[39mimport\u001b[39;00m \u001b[39mmatplotlib\u001b[39;00m\u001b[39m.\u001b[39;00m\u001b[39mquiver\u001b[39;00m \u001b[39mas\u001b[39;00m \u001b[39mmquiver\u001b[39;00m\n\u001b[1;32m     25\u001b[0m \u001b[39mimport\u001b[39;00m \u001b[39mmatplotlib\u001b[39;00m\u001b[39m.\u001b[39;00m\u001b[39mstackplot\u001b[39;00m \u001b[39mas\u001b[39;00m \u001b[39mmstack\u001b[39;00m\n\u001b[1;32m     26\u001b[0m \u001b[39mimport\u001b[39;00m \u001b[39mmatplotlib\u001b[39;00m\u001b[39m.\u001b[39;00m\u001b[39mstreamplot\u001b[39;00m \u001b[39mas\u001b[39;00m \u001b[39mmstream\u001b[39;00m\n",
      "File \u001b[0;32m~/anaconda3/envs/new_geo_env/lib/python3.9/site-packages/matplotlib/quiver.py:30\u001b[0m\n\u001b[1;32m     26\u001b[0m \u001b[39mimport\u001b[39;00m \u001b[39mmatplotlib\u001b[39;00m\u001b[39m.\u001b[39;00m\u001b[39mtext\u001b[39;00m \u001b[39mas\u001b[39;00m \u001b[39mmtext\u001b[39;00m\n\u001b[1;32m     27\u001b[0m \u001b[39mimport\u001b[39;00m \u001b[39mmatplotlib\u001b[39;00m\u001b[39m.\u001b[39;00m\u001b[39mtransforms\u001b[39;00m \u001b[39mas\u001b[39;00m \u001b[39mtransforms\u001b[39;00m\n\u001b[0;32m---> 30\u001b[0m _quiver_doc \u001b[39m=\u001b[39m \u001b[39m\"\"\"\u001b[39;49m\n\u001b[1;32m     31\u001b[0m \u001b[39mPlot a 2D field of arrows.\u001b[39;49m\n\u001b[1;32m     32\u001b[0m \n\u001b[1;32m     33\u001b[0m \u001b[39mCall signature::\u001b[39;49m\n\u001b[1;32m     34\u001b[0m \n\u001b[1;32m     35\u001b[0m \u001b[39m  quiver([X, Y], U, V, [C], **kwargs)\u001b[39;49m\n\u001b[1;32m     36\u001b[0m \n\u001b[1;32m     37\u001b[0m \u001b[39m*X*, *Y* define the arrow locations, *U*, *V* define the arrow directions, and\u001b[39;49m\n\u001b[1;32m     38\u001b[0m \u001b[39m*C* optionally sets the color.\u001b[39;49m\n\u001b[1;32m     39\u001b[0m \n\u001b[1;32m     40\u001b[0m \u001b[39m**Arrow length**\u001b[39;49m\n\u001b[1;32m     41\u001b[0m \n\u001b[1;32m     42\u001b[0m \u001b[39mThe default settings auto-scales the length of the arrows to a reasonable size.\u001b[39;49m\n\u001b[1;32m     43\u001b[0m \u001b[39mTo change this behavior see the *scale* and *scale_units* parameters.\u001b[39;49m\n\u001b[1;32m     44\u001b[0m \n\u001b[1;32m     45\u001b[0m \u001b[39m**Arrow shape**\u001b[39;49m\n\u001b[1;32m     46\u001b[0m \n\u001b[1;32m     47\u001b[0m \u001b[39mThe arrow shape is determined by *width*, *headwidth*, *headlength* and\u001b[39;49m\n\u001b[1;32m     48\u001b[0m \u001b[39m*headaxislength*. See the notes below.\u001b[39;49m\n\u001b[1;32m     49\u001b[0m \n\u001b[1;32m     50\u001b[0m \u001b[39m**Arrow styling**\u001b[39;49m\n\u001b[1;32m     51\u001b[0m \n\u001b[1;32m     52\u001b[0m \u001b[39mEach arrow is internally represented by a filled polygon with a default edge\u001b[39;49m\n\u001b[1;32m     53\u001b[0m \u001b[39mlinewidth of 0. As a result, an arrow is rather a filled area, not a line with\u001b[39;49m\n\u001b[1;32m     54\u001b[0m \u001b[39ma head, and `.PolyCollection` properties like *linewidth*, *edgecolor*,\u001b[39;49m\n\u001b[1;32m     55\u001b[0m \u001b[39m*facecolor*, etc. act accordingly.\u001b[39;49m\n\u001b[1;32m     56\u001b[0m \n\u001b[1;32m     57\u001b[0m \n\u001b[1;32m     58\u001b[0m \u001b[39mParameters\u001b[39;49m\n\u001b[1;32m     59\u001b[0m \u001b[39m----------\u001b[39;49m\n\u001b[1;32m     60\u001b[0m \u001b[39mX, Y : 1D or 2D array-like, optional\u001b[39;49m\n\u001b[1;32m     61\u001b[0m \u001b[39m    The x and y coordinates of the arrow locations.\u001b[39;49m\n\u001b[1;32m     62\u001b[0m \n\u001b[1;32m     63\u001b[0m \u001b[39m    If not given, they will be generated as a uniform integer meshgrid based\u001b[39;49m\n\u001b[1;32m     64\u001b[0m \u001b[39m    on the dimensions of *U* and *V*.\u001b[39;49m\n\u001b[1;32m     65\u001b[0m \n\u001b[1;32m     66\u001b[0m \u001b[39m    If *X* and *Y* are 1D but *U*, *V* are 2D, *X*, *Y* are expanded to 2D\u001b[39;49m\n\u001b[1;32m     67\u001b[0m \u001b[39m    using ``X, Y = np.meshgrid(X, Y)``. In this case ``len(X)`` and ``len(Y)``\u001b[39;49m\n\u001b[1;32m     68\u001b[0m \u001b[39m    must match the column and row dimensions of *U* and *V*.\u001b[39;49m\n\u001b[1;32m     69\u001b[0m \n\u001b[1;32m     70\u001b[0m \u001b[39mU, V : 1D or 2D array-like\u001b[39;49m\n\u001b[1;32m     71\u001b[0m \u001b[39m    The x and y direction components of the arrow vectors. The interpretation\u001b[39;49m\n\u001b[1;32m     72\u001b[0m \u001b[39m    of these components (in data or in screen space) depends on *angles*.\u001b[39;49m\n\u001b[1;32m     73\u001b[0m \n\u001b[1;32m     74\u001b[0m \u001b[39m    *U* and *V* must have the same number of elements, matching the number of\u001b[39;49m\n\u001b[1;32m     75\u001b[0m \u001b[39m    arrow locations in  *X*, *Y*. *U* and *V* may be masked. Locations masked\u001b[39;49m\n\u001b[1;32m     76\u001b[0m \u001b[39m    in any of *U*, *V*, and *C* will not be drawn.\u001b[39;49m\n\u001b[1;32m     77\u001b[0m \n\u001b[1;32m     78\u001b[0m \u001b[39mC : 1D or 2D array-like, optional\u001b[39;49m\n\u001b[1;32m     79\u001b[0m \u001b[39m    Numeric data that defines the arrow colors by colormapping via *norm* and\u001b[39;49m\n\u001b[1;32m     80\u001b[0m \u001b[39m    *cmap*.\u001b[39;49m\n\u001b[1;32m     81\u001b[0m \n\u001b[1;32m     82\u001b[0m \u001b[39m    This does not support explicit colors. If you want to set colors directly,\u001b[39;49m\n\u001b[1;32m     83\u001b[0m \u001b[39m    use *color* instead.  The size of *C* must match the number of arrow\u001b[39;49m\n\u001b[1;32m     84\u001b[0m \u001b[39m    locations.\u001b[39;49m\n\u001b[1;32m     85\u001b[0m \n\u001b[1;32m     86\u001b[0m \u001b[39mangles : \u001b[39;49m\u001b[39m{\u001b[39;49m\u001b[39m'\u001b[39;49m\u001b[39muv\u001b[39;49m\u001b[39m'\u001b[39;49m\u001b[39m, \u001b[39;49m\u001b[39m'\u001b[39;49m\u001b[39mxy\u001b[39;49m\u001b[39m'\u001b[39;49m\u001b[39m} or array-like, default: \u001b[39;49m\u001b[39m'\u001b[39;49m\u001b[39muv\u001b[39;49m\u001b[39m'\u001b[39;49m\n\u001b[1;32m     87\u001b[0m \u001b[39m    Method for determining the angle of the arrows.\u001b[39;49m\n\u001b[1;32m     88\u001b[0m \n\u001b[1;32m     89\u001b[0m \u001b[39m    - \u001b[39;49m\u001b[39m'\u001b[39;49m\u001b[39muv\u001b[39;49m\u001b[39m'\u001b[39;49m\u001b[39m: Arrow direction in screen coordinates. Use this if the arrows\u001b[39;49m\n\u001b[1;32m     90\u001b[0m \u001b[39m      symbolize a quantity that is not based on *X*, *Y* data coordinates.\u001b[39;49m\n\u001b[1;32m     91\u001b[0m \n\u001b[1;32m     92\u001b[0m \u001b[39m      If *U* == *V* the orientation of the arrow on the plot is 45 degrees\u001b[39;49m\n\u001b[1;32m     93\u001b[0m \u001b[39m      counter-clockwise from the  horizontal axis (positive to the right).\u001b[39;49m\n\u001b[1;32m     94\u001b[0m \n\u001b[1;32m     95\u001b[0m \u001b[39m    - \u001b[39;49m\u001b[39m'\u001b[39;49m\u001b[39mxy\u001b[39;49m\u001b[39m'\u001b[39;49m\u001b[39m: Arrow direction in data coordinates, i.e. the arrows point from\u001b[39;49m\n\u001b[1;32m     96\u001b[0m \u001b[39m      (x, y) to (x+u, y+v). Use this e.g. for plotting a gradient field.\u001b[39;49m\n\u001b[1;32m     97\u001b[0m \n\u001b[1;32m     98\u001b[0m \u001b[39m    - Arbitrary angles may be specified explicitly as an array of values\u001b[39;49m\n\u001b[1;32m     99\u001b[0m \u001b[39m      in degrees, counter-clockwise from the horizontal axis.\u001b[39;49m\n\u001b[1;32m    100\u001b[0m \n\u001b[1;32m    101\u001b[0m \u001b[39m      In this case *U*, *V* is only used to determine the length of the\u001b[39;49m\n\u001b[1;32m    102\u001b[0m \u001b[39m      arrows.\u001b[39;49m\n\u001b[1;32m    103\u001b[0m \n\u001b[1;32m    104\u001b[0m \u001b[39m    Note: inverting a data axis will correspondingly invert the\u001b[39;49m\n\u001b[1;32m    105\u001b[0m \u001b[39m    arrows only with ``angles=\u001b[39;49m\u001b[39m'\u001b[39;49m\u001b[39mxy\u001b[39;49m\u001b[39m'\u001b[39;49m\u001b[39m``.\u001b[39;49m\n\u001b[1;32m    106\u001b[0m \n\u001b[1;32m    107\u001b[0m \u001b[39mpivot : \u001b[39;49m\u001b[39m{\u001b[39;49m\u001b[39m'\u001b[39;49m\u001b[39mtail\u001b[39;49m\u001b[39m'\u001b[39;49m\u001b[39m, \u001b[39;49m\u001b[39m'\u001b[39;49m\u001b[39mmid\u001b[39;49m\u001b[39m'\u001b[39;49m\u001b[39m, \u001b[39;49m\u001b[39m'\u001b[39;49m\u001b[39mmiddle\u001b[39;49m\u001b[39m'\u001b[39;49m\u001b[39m, \u001b[39;49m\u001b[39m'\u001b[39;49m\u001b[39mtip\u001b[39;49m\u001b[39m'\u001b[39;49m\u001b[39m}, default: \u001b[39;49m\u001b[39m'\u001b[39;49m\u001b[39mtail\u001b[39;49m\u001b[39m'\u001b[39;49m\n\u001b[1;32m    108\u001b[0m \u001b[39m    The part of the arrow that is anchored to the *X*, *Y* grid. The arrow\u001b[39;49m\n\u001b[1;32m    109\u001b[0m \u001b[39m    rotates about this point.\u001b[39;49m\n\u001b[1;32m    110\u001b[0m \n\u001b[1;32m    111\u001b[0m \u001b[39m    \u001b[39;49m\u001b[39m'\u001b[39;49m\u001b[39mmid\u001b[39;49m\u001b[39m'\u001b[39;49m\u001b[39m is a synonym for \u001b[39;49m\u001b[39m'\u001b[39;49m\u001b[39mmiddle\u001b[39;49m\u001b[39m'\u001b[39;49m\u001b[39m.\u001b[39;49m\n\u001b[1;32m    112\u001b[0m \n\u001b[1;32m    113\u001b[0m \u001b[39mscale : float, optional\u001b[39;49m\n\u001b[1;32m    114\u001b[0m \u001b[39m    Scales the length of the arrow inversely.\u001b[39;49m\n\u001b[1;32m    115\u001b[0m \n\u001b[1;32m    116\u001b[0m \u001b[39m    Number of data units per arrow length unit, e.g., m/s per plot width; a\u001b[39;49m\n\u001b[1;32m    117\u001b[0m \u001b[39m    smaller scale parameter makes the arrow longer. Default is *None*.\u001b[39;49m\n\u001b[1;32m    118\u001b[0m \n\u001b[1;32m    119\u001b[0m \u001b[39m    If *None*, a simple autoscaling algorithm is used, based on the average\u001b[39;49m\n\u001b[1;32m    120\u001b[0m \u001b[39m    vector length and the number of vectors. The arrow length unit is given by\u001b[39;49m\n\u001b[1;32m    121\u001b[0m \u001b[39m    the *scale_units* parameter.\u001b[39;49m\n\u001b[1;32m    122\u001b[0m \n\u001b[1;32m    123\u001b[0m \u001b[39mscale_units : \u001b[39;49m\u001b[39m{\u001b[39;49m\u001b[39m'\u001b[39;49m\u001b[39mwidth\u001b[39;49m\u001b[39m'\u001b[39;49m\u001b[39m, \u001b[39;49m\u001b[39m'\u001b[39;49m\u001b[39mheight\u001b[39;49m\u001b[39m'\u001b[39;49m\u001b[39m, \u001b[39;49m\u001b[39m'\u001b[39;49m\u001b[39mdots\u001b[39;49m\u001b[39m'\u001b[39;49m\u001b[39m, \u001b[39;49m\u001b[39m'\u001b[39;49m\u001b[39minches\u001b[39;49m\u001b[39m'\u001b[39;49m\u001b[39m, \u001b[39;49m\u001b[39m'\u001b[39;49m\u001b[39mx\u001b[39;49m\u001b[39m'\u001b[39;49m\u001b[39m, \u001b[39;49m\u001b[39m'\u001b[39;49m\u001b[39my\u001b[39;49m\u001b[39m'\u001b[39;49m\u001b[39m, \u001b[39;49m\u001b[39m'\u001b[39;49m\u001b[39mxy\u001b[39;49m\u001b[39m'\u001b[39;49m\u001b[39m}, optional\u001b[39;49m\n\u001b[1;32m    124\u001b[0m \u001b[39m    If the *scale* kwarg is *None*, the arrow length unit. Default is *None*.\u001b[39;49m\n\u001b[1;32m    125\u001b[0m \n\u001b[1;32m    126\u001b[0m \u001b[39m    e.g. *scale_units* is \u001b[39;49m\u001b[39m'\u001b[39;49m\u001b[39minches\u001b[39;49m\u001b[39m'\u001b[39;49m\u001b[39m, *scale* is 2.0, and ``(u, v) = (1, 0)``,\u001b[39;49m\n\u001b[1;32m    127\u001b[0m \u001b[39m    then the vector will be 0.5 inches long.\u001b[39;49m\n\u001b[1;32m    128\u001b[0m \n\u001b[1;32m    129\u001b[0m \u001b[39m    If *scale_units* is \u001b[39;49m\u001b[39m'\u001b[39;49m\u001b[39mwidth\u001b[39;49m\u001b[39m'\u001b[39;49m\u001b[39m or \u001b[39;49m\u001b[39m'\u001b[39;49m\u001b[39mheight\u001b[39;49m\u001b[39m'\u001b[39;49m\u001b[39m, then the vector will be half the\u001b[39;49m\n\u001b[1;32m    130\u001b[0m \u001b[39m    width/height of the axes.\u001b[39;49m\n\u001b[1;32m    131\u001b[0m \n\u001b[1;32m    132\u001b[0m \u001b[39m    If *scale_units* is \u001b[39;49m\u001b[39m'\u001b[39;49m\u001b[39mx\u001b[39;49m\u001b[39m'\u001b[39;49m\u001b[39m then the vector will be 0.5 x-axis\u001b[39;49m\n\u001b[1;32m    133\u001b[0m \u001b[39m    units. To plot vectors in the x-y plane, with u and v having\u001b[39;49m\n\u001b[1;32m    134\u001b[0m \u001b[39m    the same units as x and y, use\u001b[39;49m\n\u001b[1;32m    135\u001b[0m \u001b[39m    ``angles=\u001b[39;49m\u001b[39m'\u001b[39;49m\u001b[39mxy\u001b[39;49m\u001b[39m'\u001b[39;49m\u001b[39m, scale_units=\u001b[39;49m\u001b[39m'\u001b[39;49m\u001b[39mxy\u001b[39;49m\u001b[39m'\u001b[39;49m\u001b[39m, scale=1``.\u001b[39;49m\n\u001b[1;32m    136\u001b[0m \n\u001b[1;32m    137\u001b[0m \u001b[39munits : \u001b[39;49m\u001b[39m{\u001b[39;49m\u001b[39m'\u001b[39;49m\u001b[39mwidth\u001b[39;49m\u001b[39m'\u001b[39;49m\u001b[39m, \u001b[39;49m\u001b[39m'\u001b[39;49m\u001b[39mheight\u001b[39;49m\u001b[39m'\u001b[39;49m\u001b[39m, \u001b[39;49m\u001b[39m'\u001b[39;49m\u001b[39mdots\u001b[39;49m\u001b[39m'\u001b[39;49m\u001b[39m, \u001b[39;49m\u001b[39m'\u001b[39;49m\u001b[39minches\u001b[39;49m\u001b[39m'\u001b[39;49m\u001b[39m, \u001b[39;49m\u001b[39m'\u001b[39;49m\u001b[39mx\u001b[39;49m\u001b[39m'\u001b[39;49m\u001b[39m, \u001b[39;49m\u001b[39m'\u001b[39;49m\u001b[39my\u001b[39;49m\u001b[39m'\u001b[39;49m\u001b[39m, \u001b[39;49m\u001b[39m'\u001b[39;49m\u001b[39mxy\u001b[39;49m\u001b[39m'\u001b[39;49m\u001b[39m}, default: \u001b[39;49m\u001b[39m'\u001b[39;49m\u001b[39mwidth\u001b[39;49m\u001b[39m'\u001b[39;49m\n\u001b[1;32m    138\u001b[0m \u001b[39m    Affects the arrow size (except for the length). In particular, the shaft\u001b[39;49m\n\u001b[1;32m    139\u001b[0m \u001b[39m    *width* is measured in multiples of this unit.\u001b[39;49m\n\u001b[1;32m    140\u001b[0m \n\u001b[1;32m    141\u001b[0m \u001b[39m    Supported values are:\u001b[39;49m\n\u001b[1;32m    142\u001b[0m \n\u001b[1;32m    143\u001b[0m \u001b[39m    - \u001b[39;49m\u001b[39m'\u001b[39;49m\u001b[39mwidth\u001b[39;49m\u001b[39m'\u001b[39;49m\u001b[39m, \u001b[39;49m\u001b[39m'\u001b[39;49m\u001b[39mheight\u001b[39;49m\u001b[39m'\u001b[39;49m\u001b[39m: The width or height of the Axes.\u001b[39;49m\n\u001b[1;32m    144\u001b[0m \u001b[39m    - \u001b[39;49m\u001b[39m'\u001b[39;49m\u001b[39mdots\u001b[39;49m\u001b[39m'\u001b[39;49m\u001b[39m, \u001b[39;49m\u001b[39m'\u001b[39;49m\u001b[39minches\u001b[39;49m\u001b[39m'\u001b[39;49m\u001b[39m: Pixels or inches based on the figure dpi.\u001b[39;49m\n\u001b[1;32m    145\u001b[0m \u001b[39m    - \u001b[39;49m\u001b[39m'\u001b[39;49m\u001b[39mx\u001b[39;49m\u001b[39m'\u001b[39;49m\u001b[39m, \u001b[39;49m\u001b[39m'\u001b[39;49m\u001b[39my\u001b[39;49m\u001b[39m'\u001b[39;49m\u001b[39m, \u001b[39;49m\u001b[39m'\u001b[39;49m\u001b[39mxy\u001b[39;49m\u001b[39m'\u001b[39;49m\u001b[39m: *X*, *Y* or :math:`\u001b[39;49m\u001b[39m\\\\\u001b[39;49;00m\u001b[39msqrt\u001b[39;49m\u001b[39m{\u001b[39;49m\u001b[39mX^2 + Y^2}` in data units.\u001b[39;49m\n\u001b[1;32m    146\u001b[0m \n\u001b[1;32m    147\u001b[0m \u001b[39m    The following table summarizes how these values affect the visible arrow\u001b[39;49m\n\u001b[1;32m    148\u001b[0m \u001b[39m    size under zooming and figure size changes:\u001b[39;49m\n\u001b[1;32m    149\u001b[0m \n\u001b[1;32m    150\u001b[0m \u001b[39m    =================  =================   ==================\u001b[39;49m\n\u001b[1;32m    151\u001b[0m \u001b[39m    units              zoom                figure size change\u001b[39;49m\n\u001b[1;32m    152\u001b[0m \u001b[39m    =================  =================   ==================\u001b[39;49m\n\u001b[1;32m    153\u001b[0m \u001b[39m    \u001b[39;49m\u001b[39m'\u001b[39;49m\u001b[39mx\u001b[39;49m\u001b[39m'\u001b[39;49m\u001b[39m, \u001b[39;49m\u001b[39m'\u001b[39;49m\u001b[39my\u001b[39;49m\u001b[39m'\u001b[39;49m\u001b[39m, \u001b[39;49m\u001b[39m'\u001b[39;49m\u001b[39mxy\u001b[39;49m\u001b[39m'\u001b[39;49m\u001b[39m     arrow size scales   —\u001b[39;49m\n\u001b[1;32m    154\u001b[0m \u001b[39m    \u001b[39;49m\u001b[39m'\u001b[39;49m\u001b[39mwidth\u001b[39;49m\u001b[39m'\u001b[39;49m\u001b[39m, \u001b[39;49m\u001b[39m'\u001b[39;49m\u001b[39mheight\u001b[39;49m\u001b[39m'\u001b[39;49m\u001b[39m  —                   arrow size scales\u001b[39;49m\n\u001b[1;32m    155\u001b[0m \u001b[39m    \u001b[39;49m\u001b[39m'\u001b[39;49m\u001b[39mdots\u001b[39;49m\u001b[39m'\u001b[39;49m\u001b[39m, \u001b[39;49m\u001b[39m'\u001b[39;49m\u001b[39minches\u001b[39;49m\u001b[39m'\u001b[39;49m\u001b[39m   —                   —\u001b[39;49m\n\u001b[1;32m    156\u001b[0m \u001b[39m    =================  =================   ==================\u001b[39;49m\n\u001b[1;32m    157\u001b[0m \n\u001b[1;32m    158\u001b[0m \u001b[39mwidth : float, optional\u001b[39;49m\n\u001b[1;32m    159\u001b[0m \u001b[39m    Shaft width in arrow units. All head parameters are relative to *width*.\u001b[39;49m\n\u001b[1;32m    160\u001b[0m \n\u001b[1;32m    161\u001b[0m \u001b[39m    The default depends on choice of *units* above, and number of vectors;\u001b[39;49m\n\u001b[1;32m    162\u001b[0m \u001b[39m    a typical starting value is about 0.005 times the width of the plot.\u001b[39;49m\n\u001b[1;32m    163\u001b[0m \n\u001b[1;32m    164\u001b[0m \u001b[39mheadwidth : float, default: 3\u001b[39;49m\n\u001b[1;32m    165\u001b[0m \u001b[39m    Head width as multiple of shaft *width*. See the notes below.\u001b[39;49m\n\u001b[1;32m    166\u001b[0m \n\u001b[1;32m    167\u001b[0m \u001b[39mheadlength : float, default: 5\u001b[39;49m\n\u001b[1;32m    168\u001b[0m \u001b[39m    Head length as multiple of shaft *width*. See the notes below.\u001b[39;49m\n\u001b[1;32m    169\u001b[0m \n\u001b[1;32m    170\u001b[0m \u001b[39mheadaxislength : float, default: 4.5\u001b[39;49m\n\u001b[1;32m    171\u001b[0m \u001b[39m    Head length at shaft intersection as multiple of shaft *width*.\u001b[39;49m\n\u001b[1;32m    172\u001b[0m \u001b[39m    See the notes below.\u001b[39;49m\n\u001b[1;32m    173\u001b[0m \n\u001b[1;32m    174\u001b[0m \u001b[39mminshaft : float, default: 1\u001b[39;49m\n\u001b[1;32m    175\u001b[0m \u001b[39m    Length below which arrow scales, in units of head length. Do not\u001b[39;49m\n\u001b[1;32m    176\u001b[0m \u001b[39m    set this to less than 1, or small arrows will look terrible!\u001b[39;49m\n\u001b[1;32m    177\u001b[0m \n\u001b[1;32m    178\u001b[0m \u001b[39mminlength : float, default: 1\u001b[39;49m\n\u001b[1;32m    179\u001b[0m \u001b[39m    Minimum length as a multiple of shaft width; if an arrow length\u001b[39;49m\n\u001b[1;32m    180\u001b[0m \u001b[39m    is less than this, plot a dot (hexagon) of this diameter instead.\u001b[39;49m\n\u001b[1;32m    181\u001b[0m \n\u001b[1;32m    182\u001b[0m \u001b[39mcolor : color or color sequence, optional\u001b[39;49m\n\u001b[1;32m    183\u001b[0m \u001b[39m    Explicit color(s) for the arrows. If *C* has been set, *color* has no\u001b[39;49m\n\u001b[1;32m    184\u001b[0m \u001b[39m    effect.\u001b[39;49m\n\u001b[1;32m    185\u001b[0m \n\u001b[1;32m    186\u001b[0m \u001b[39m    This is a synonym for the `.PolyCollection` *facecolor* parameter.\u001b[39;49m\n\u001b[1;32m    187\u001b[0m \n\u001b[1;32m    188\u001b[0m \u001b[39mOther Parameters\u001b[39;49m\n\u001b[1;32m    189\u001b[0m \u001b[39m----------------\u001b[39;49m\n\u001b[1;32m    190\u001b[0m \u001b[39mdata : indexable object, optional\u001b[39;49m\n\u001b[1;32m    191\u001b[0m \u001b[39m    DATA_PARAMETER_PLACEHOLDER\u001b[39;49m\n\u001b[1;32m    192\u001b[0m \n\u001b[1;32m    193\u001b[0m \u001b[39m**kwargs : `~matplotlib.collections.PolyCollection` properties, optional\u001b[39;49m\n\u001b[1;32m    194\u001b[0m \u001b[39m    All other keyword arguments are passed on to `.PolyCollection`:\u001b[39;49m\n\u001b[1;32m    195\u001b[0m \n\u001b[1;32m    196\u001b[0m \u001b[39m    \u001b[39;49m\u001b[39m%\u001b[39;49m\u001b[39m(PolyCollection:kwdoc)s\u001b[39;49m\n\u001b[1;32m    197\u001b[0m \n\u001b[1;32m    198\u001b[0m \u001b[39mReturns\u001b[39;49m\n\u001b[1;32m    199\u001b[0m \u001b[39m-------\u001b[39;49m\n\u001b[1;32m    200\u001b[0m \u001b[39m`~matplotlib.quiver.Quiver`\u001b[39;49m\n\u001b[1;32m    201\u001b[0m \n\u001b[1;32m    202\u001b[0m \u001b[39mSee Also\u001b[39;49m\n\u001b[1;32m    203\u001b[0m \u001b[39m--------\u001b[39;49m\n\u001b[1;32m    204\u001b[0m \u001b[39m.Axes.quiverkey : Add a key to a quiver plot.\u001b[39;49m\n\u001b[1;32m    205\u001b[0m \n\u001b[1;32m    206\u001b[0m \u001b[39mNotes\u001b[39;49m\n\u001b[1;32m    207\u001b[0m \u001b[39m-----\u001b[39;49m\n\u001b[1;32m    208\u001b[0m \n\u001b[1;32m    209\u001b[0m \u001b[39m**Arrow shape**\u001b[39;49m\n\u001b[1;32m    210\u001b[0m \n\u001b[1;32m    211\u001b[0m \u001b[39mThe arrow is drawn as a polygon using the nodes as shown below. The values\u001b[39;49m\n\u001b[1;32m    212\u001b[0m \u001b[39m*headwidth*, *headlength*, and *headaxislength* are in units of *width*.\u001b[39;49m\n\u001b[1;32m    213\u001b[0m \n\u001b[1;32m    214\u001b[0m \u001b[39m.. image:: /_static/quiver_sizes.svg\u001b[39;49m\n\u001b[1;32m    215\u001b[0m \u001b[39m   :width: 500px\u001b[39;49m\n\u001b[1;32m    216\u001b[0m \n\u001b[1;32m    217\u001b[0m \u001b[39mThe defaults give a slightly swept-back arrow. Here are some guidelines how to\u001b[39;49m\n\u001b[1;32m    218\u001b[0m \u001b[39mget other head shapes:\u001b[39;49m\n\u001b[1;32m    219\u001b[0m \n\u001b[1;32m    220\u001b[0m \u001b[39m- To make the head a triangle, make *headaxislength* the same as *headlength*.\u001b[39;49m\n\u001b[1;32m    221\u001b[0m \u001b[39m- To make the arrow more pointed, reduce *headwidth* or increase *headlength*\u001b[39;49m\n\u001b[1;32m    222\u001b[0m \u001b[39m  and *headaxislength*.\u001b[39;49m\n\u001b[1;32m    223\u001b[0m \u001b[39m- To make the head smaller relative to the shaft, scale down all the head\u001b[39;49m\n\u001b[1;32m    224\u001b[0m \u001b[39m  parameters proportionally.\u001b[39;49m\n\u001b[1;32m    225\u001b[0m \u001b[39m- To remove the head completely, set all *head* parameters to 0.\u001b[39;49m\n\u001b[1;32m    226\u001b[0m \u001b[39m- To get a diamond-shaped head, make *headaxislength* larger than *headlength*.\u001b[39;49m\n\u001b[1;32m    227\u001b[0m \u001b[39m- Warning: For *headaxislength* < (*headlength* / *headwidth*), the \u001b[39;49m\u001b[39m\"\u001b[39;49m\u001b[39mheadaxis\u001b[39;49m\u001b[39m\"\u001b[39;49m\n\u001b[1;32m    228\u001b[0m \u001b[39m  nodes (i.e. the ones connecting the head with the shaft) will protrude out\u001b[39;49m\n\u001b[1;32m    229\u001b[0m \u001b[39m  of the head in forward direction so that the arrow head looks broken.\u001b[39;49m\n\u001b[1;32m    230\u001b[0m \u001b[39m\"\"\"\u001b[39;49m \u001b[39m%\u001b[39;49m _docstring\u001b[39m.\u001b[39;49minterpd\u001b[39m.\u001b[39;49mparams\n\u001b[1;32m    232\u001b[0m _docstring\u001b[39m.\u001b[39minterpd\u001b[39m.\u001b[39mupdate(quiver_doc\u001b[39m=\u001b[39m_quiver_doc)\n\u001b[1;32m    235\u001b[0m \u001b[39mclass\u001b[39;00m \u001b[39mQuiverKey\u001b[39;00m(martist\u001b[39m.\u001b[39mArtist):\n",
      "File \u001b[0;32m~/anaconda3/envs/new_geo_env/lib/python3.9/site-packages/matplotlib/_docstring.py:60\u001b[0m, in \u001b[0;36m_ArtistKwdocLoader.__missing__\u001b[0;34m(self, key)\u001b[0m\n\u001b[1;32m     57\u001b[0m     \u001b[39mcls\u001b[39m, \u001b[39m=\u001b[39m [\u001b[39mcls\u001b[39m \u001b[39mfor\u001b[39;00m \u001b[39mcls\u001b[39m \u001b[39min\u001b[39;00m _api\u001b[39m.\u001b[39mrecursive_subclasses(Artist)\n\u001b[1;32m     58\u001b[0m             \u001b[39mif\u001b[39;00m \u001b[39mcls\u001b[39m\u001b[39m.\u001b[39m\u001b[39m__name__\u001b[39m \u001b[39m==\u001b[39m name]\n\u001b[1;32m     59\u001b[0m \u001b[39mexcept\u001b[39;00m \u001b[39mValueError\u001b[39;00m \u001b[39mas\u001b[39;00m e:\n\u001b[0;32m---> 60\u001b[0m     \u001b[39mraise\u001b[39;00m \u001b[39mKeyError\u001b[39;00m(key) \u001b[39mfrom\u001b[39;00m \u001b[39me\u001b[39;00m\n\u001b[1;32m     61\u001b[0m \u001b[39mreturn\u001b[39;00m \u001b[39mself\u001b[39m\u001b[39m.\u001b[39msetdefault(key, kwdoc(\u001b[39mcls\u001b[39m))\n",
      "\u001b[0;31mKeyError\u001b[0m: 'PolyCollection:kwdoc'"
     ]
    }
   ],
   "source": [
    "import pandas as pd\n",
    "import matplotlib.pyplot as plt\n",
    "import geopandas as gpd\n",
    "import pickle   \n",
    "import numpy as np\n",
    "import seaborn as sns\n",
    "from pandas_profiling import ProfileReport\n",
    "import contextily as ctx\n",
    "import fiona\n",
    "from aux_func import data_summary, save_data, plot_continuous_for_damage_level, remove_duplicates, plot_for_damage_level# sanitize_string_values"
   ]
  },
  {
   "cell_type": "markdown",
   "metadata": {},
   "source": [
    "## 3. Reading the Data and Profiling <a class=\"anchor\" id=\"3\"></a>\n",
    "\n",
    "[Back to Table of Contents](#0.1)\n",
    "\n",
    "In the previous notebook we have gathered the data from several sources. Since the data size is big and contain geo columns it might take time to read it. Alternatively in the previous notebook we have already save also in pickle format. Pickle file should also work in the same way but since this is a python specific file format, this file cannot be read in other languages or could be used softwares such as ArcGIS or QGIS."
   ]
  },
  {
   "cell_type": "code",
   "execution_count": null,
   "metadata": {},
   "outputs": [],
   "source": [
    "#reading geojson data from newly created processed folder\n",
    "data = gpd.read_file('../data/processed/dataset.geojson')\n",
    "\n",
    "data.head()"
   ]
  },
  {
   "cell_type": "markdown",
   "metadata": {},
   "source": [
    "With below code, we create an HTML report that could be found in ('../data/processed/primary_analisis.html') in order to avoid executing all the time below it is commented."
   ]
  },
  {
   "cell_type": "code",
   "execution_count": null,
   "metadata": {},
   "outputs": [],
   "source": [
    "#creating a pandas profile in order to have a broad look on the dataset.\n",
    "#geometric data does not appear in pandas profile, so we will have to look at it separately.\n",
    "#df = pd.DataFrame(data)\n",
    "#profile = ProfileReport(df, title=\"Pandas Profiling Report\")\n",
    "#profile\n"
   ]
  },
  {
   "cell_type": "code",
   "execution_count": null,
   "metadata": {},
   "outputs": [],
   "source": [
    "#saving profile report to html file\n",
    "\n",
    "#profile.to_file('../data/processed/primary_analisis.html')"
   ]
  },
  {
   "cell_type": "markdown",
   "metadata": {},
   "source": [
    "As might be seen in the Pandas report as well, some of the features of the dataframe are not very useful and we have never yet processed them. These variables can be listed as follows.\n",
    "\n",
    "    * det_method\n",
    "    * notation\n",
    "    * cd_value\n",
    "    * real\n",
    "    * index_right\n",
    "    * esmr_id\n",
    "    * glide_no\n",
    "    * map_type\n",
    "\n",
    "Before advancing with further analysis, we can eliminate these variables. This is because they either do not provide meaningful information, contain identical information across all data entries, or hold non-informative values like 'none' or 'not applicable'.\n",
    "\n",
    "\n",
    "\n",
    "\n"
   ]
  },
  {
   "cell_type": "code",
   "execution_count": null,
   "metadata": {},
   "outputs": [],
   "source": [
    "#Droping columns that are not needed for the analysis\n",
    "data.drop(columns=['det_method', 'notation','cd_value', 'real', 'index_right','emsr_id', 'glide_no', 'map_type'], inplace=True)\n",
    "\n"
   ]
  },
  {
   "cell_type": "markdown",
   "metadata": {},
   "source": [
    "Upon further examination of the report, it becomes apparent that several variables exhibit a high degree of correlation with one another. This phenomenon is likely attributed to the inclusion of various socioeconomic variables specific to each municipality in our dataset. "
   ]
  },
  {
   "cell_type": "code",
   "execution_count": null,
   "metadata": {},
   "outputs": [],
   "source": [
    "%matplotlib inline\n",
    "data['obj_type'].value_counts().sort_values(ascending=False).plot(kind='bar')\n",
    "plt.show()"
   ]
  },
  {
   "cell_type": "code",
   "execution_count": null,
   "metadata": {},
   "outputs": [],
   "source": [
    "#showing prppperties of data using data_summary function from aux_func.py\n",
    "data_info = data_summary(data)\n",
    "data_info"
   ]
  },
  {
   "cell_type": "markdown",
   "metadata": {},
   "source": [
    "Since we have created data different sources and by merging, and we have removed other colums that doesn't have a lot of information we don't have any missing values. However,as infered a good amount of entries are duplicated. We choose to remove duplicated variables. Here we use another function from aux_func"
   ]
  },
  {
   "cell_type": "code",
   "execution_count": null,
   "metadata": {},
   "outputs": [],
   "source": [
    "\n",
    "#removing duplicates with the function remove_duplicates\n",
    "\n",
    "data = remove_duplicates(data)"
   ]
  },
  {
   "cell_type": "code",
   "execution_count": null,
   "metadata": {},
   "outputs": [],
   "source": []
  },
  {
   "cell_type": "markdown",
   "metadata": {},
   "source": [
    "## 3. Variables <a class=\"anchor\" id=\"4\"></a>\n",
    "\n",
    "[Back to Table of Contents](#0.1)\n",
    "\n",
    "\n",
    "\n",
    "\n",
    "### 1. obj_type, name, info:\n",
    "\n",
    "The variables presented categorize the buildings, providing various levels of detail. For instance, the 'name' attribute tends to contain more nuanced information (as is the case with identifying a building as a school), whereas the 'obj_type' attribute generally offers less granularity in its classification. The anticipation is that these variables may have a high degree of correlation. Incorporating all of them in our model could potentially lead to multicollinearity or overfitting issues. It's crucial to approach this with care to ensure the integrity and reliability of our model's results.\n",
    "\n",
    "info category seems to have variables that are wrongly created. To keep this we will manipulate the data and align with the building code and its value.\n",
    "\n",
    "### 2. damage_gra : \n",
    "\n",
    "This variable is the target variable. Using geographic and socioeconomic variables, we can analyze how buildings behaved after the earthquake. According to pandas profile report we can see that this is an unbalanced variable that most of the buildings, facilities or roads are not damaged.\n",
    "\n",
    "In order this variable to be used in any algorithm we should change it to numerical form. the level of damage can be clasified as ordinal categoric variable. \n",
    "\n",
    "### 3. dmg_src_id, or_src_id :\n",
    "\n",
    "These variables are not meaningful and not explained in detail. It is infered as they are identifying variables, we do not need them in machine learning models.\n",
    "\n",
    "### 4. locality, area_id :\n",
    "\n",
    "Variables that explain the local we are observing. Both are them has 19 different locals as we are examining these areas. Both should be clasified as categoric variables. area_id is identifying variable.\n",
    "\n",
    "\n",
    "### 5. Variables that were received from Turkstat:\n",
    "\n",
    "More detailed info could be found in previous notebook. Data is added in the previous notebook manually. Some of the values are belong to province mean, therefore more than one locality might have the same score.\n",
    "\n",
    "    population: Population of 2022\n",
    "    income: Income in USD for 2022\n",
    "    total_sales : total house sales in the last 5 years\n",
    "    second_sales : second hand house sales in the las 5 years ( this might be interesting because these buildings expectedto be more risky than the new ones)\n",
    "    water_access : percentage of access to city water\n",
    "    elec_cons : electric consumption of per capita\n",
    "    building_perm: number of buildings permited\n",
    "    land_perm : land permited in the province in m2\n",
    "    labour_fource: labour force participation rate in the local 2022\n",
    "    unemployment : uneployment rate 2022\n",
    "    agricultural : agricultural area in decares.\n",
    "    life_time : expected lifetime\n",
    "    hb_per1000000 : hospital beds in the province per 100000\n",
    "    fertility : fertility rate\n",
    "    hh_size : average household size in the area\n",
    "\n",
    "\n",
    "### 6. Geospatial Variables:\n",
    "\n",
    "Variables with a geographical significance include latitude and longitude, which are derived from either points or the center of a polygonal structure. The BallTree method is employed to compute the Euclidean distance for distance-related variables. In models like ours that are geographically-based, if we suspect that any of these might influence the outcome, we can compute these variables as done before.\n",
    "\n",
    "We utilize longitude and latitude data as location markers for our dataset. Using this method, these metrics help determine the nearest distance to various points. It's essential to understand that this isn't an actual distance, but rather offers us an insight.\n",
    "\n"
   ]
  },
  {
   "cell_type": "markdown",
   "metadata": {},
   "source": [
    "### Manipulations to data:\n",
    "\n",
    "Upon insights we gathered from profiling, \"info\" variable has grouped in sometimes only numbers and sometimes number with the type of the building. It is important for us to understand the which building types has been damaged more than others. Therefore ewe want to keep it and we want to map it with the corrections.\n",
    "\n",
    "Target variable damage_gra is a ordinal type of data. perhaps we can transform it with later preprocessing. Right we need to encode it to create some visualizations.\n"
   ]
  },
  {
   "cell_type": "code",
   "execution_count": null,
   "metadata": {
    "notebookRunGroups": {
     "groupValue": "2"
    }
   },
   "outputs": [],
   "source": [
    "# Manipulations to the data:\n",
    "\n",
    "#to info variable:\n",
    "\n",
    "map_info = {'122':'122-Office buildings',\n",
    "       '123':'123-Wholesale and retail trade buildings',\n",
    "       '1251':'1251-Industrial buildings',\n",
    "       '1263':'1263-School, university and research buildings',\n",
    "       '1272':'1272-Hospital buildings',\n",
    "       '1279':'1279-Military',\n",
    "       '1280':'1280-Cemetery',\n",
    "       'None' :'997-Not Applicable' }\n",
    "\n",
    "data.info = data['info'].replace(map_info, inplace=True)\n",
    "\n",
    "# to the target variable:\n",
    "map_damage_gra = {'Damaged': 3,\n",
    "                  'Destroyed': 4,\n",
    "                  'No visible damage' : 1,\n",
    "                  'Not Analysed': 0,\n",
    "                  'Possibly damaged':2 }\n",
    "\n",
    "data['damage_gra'] = data['damage_gra'].replace(map_damage_gra)\n",
    "\n",
    "\n",
    "data.drop(columns = ['name', 'area_id', 'or_src_id', 'dmg_src_id'], inplace = True)\n",
    "\n",
    "\n",
    "\n",
    "\n",
    "\n",
    "columns_to_sanitize= ['obj_type', 'info','locality']\n",
    "\n",
    "data = sanitize_string_values(data, columns_to_sanitize)\n",
    "                      \n"
   ]
  },
  {
   "cell_type": "markdown",
   "metadata": {},
   "source": [
    "accorrding to building types"
   ]
  },
  {
   "cell_type": "code",
   "execution_count": null,
   "metadata": {},
   "outputs": [],
   "source": [
    "#makeing a list of categorical variables of interest\n",
    "variables_of_interest = ['obj_type', 'info', 'locality']"
   ]
  },
  {
   "cell_type": "code",
   "execution_count": null,
   "metadata": {},
   "outputs": [],
   "source": [
    "#using plot_damage_level function  we graph categorical variables\n",
    "for variable in variables_of_interest:\n",
    "    plot_for_damage_level(data, variable, 'damage_gra')\n",
    "    "
   ]
  },
  {
   "cell_type": "markdown",
   "metadata": {},
   "source": [
    "As seen in the graphs, roads are the group of building that have deteriorated the most."
   ]
  },
  {
   "cell_type": "code",
   "execution_count": null,
   "metadata": {},
   "outputs": [],
   "source": [
    "\n",
    "\n",
    "\n",
    "continuous_columns = ['total_sales', 'second_sales', 'water_access', 'elec_cons',\n",
    "       'building_perm', 'land_permited', 'labour_fource', 'unemployment',\n",
    "       'agricultural', 'life_time', 'hb_per100000', 'fertility', 'hh_size',\n",
    "       'longitude', 'latitude', 'nearest_water_source_distance',\n",
    "       'nearest_camping_distance', 'nearest_earthquake_distance',\n",
    "       'nearest_fault_distance', 'elev',]\n",
    "\n",
    "for column in continuous_columns:\n",
    "    plot_continuous_for_damage_level(data, column, 'damage_gra')"
   ]
  },
  {
   "cell_type": "markdown",
   "metadata": {},
   "source": [
    "## 6. Variables <a class=\"anchor\" id=\"6\"></a>\n",
    "\n",
    "[Back to Table of Contents](#0.1)\n",
    "\n",
    "As por manipulations, in order to use the data in geospatial analisis and we \n"
   ]
  },
  {
   "cell_type": "code",
   "execution_count": null,
   "metadata": {},
   "outputs": [],
   "source": [
    "# Descriptive Statistics\n",
    "data.describe()"
   ]
  },
  {
   "cell_type": "code",
   "execution_count": null,
   "metadata": {},
   "outputs": [],
   "source": [
    "save_data(data, \"dataset2\")"
   ]
  },
  {
   "cell_type": "code",
   "execution_count": null,
   "metadata": {},
   "outputs": [],
   "source": []
  }
 ],
 "metadata": {
  "kernelspec": {
   "display_name": "Python 3 (ipykernel)",
   "language": "python",
   "name": "python3"
  },
  "language_info": {
   "codemirror_mode": {
    "name": "ipython",
    "version": 3
   },
   "file_extension": ".py",
   "mimetype": "text/x-python",
   "name": "python",
   "nbconvert_exporter": "python",
   "pygments_lexer": "ipython3",
   "version": "3.9.17"
  }
 },
 "nbformat": 4,
 "nbformat_minor": 2
}
